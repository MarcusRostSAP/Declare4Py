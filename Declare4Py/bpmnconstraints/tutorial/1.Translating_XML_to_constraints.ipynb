{
 "cells": [
  {
   "cell_type": "markdown",
   "id": "1d64a8b9a01f2d29",
   "metadata": {
    "collapsed": false
   },
   "source": [
    "Bpmn2constraints is made to compile BPMN models from both `JSON` and `XML`, but since `JSON` models are proprietary to SAP Signavio, only `XML` support have been added in this repository. Go to [the original repository](https://github.com/signavio/bpmn2constraints) for the full version. \n",
    "\n",
    "In order to start using the tool, import the necessary packages."
   ]
  },
  {
   "cell_type": "code",
   "execution_count": 5,
   "id": "initial_id",
   "metadata": {
    "ExecuteTime": {
     "end_time": "2023-11-29T13:02:59.781359787Z",
     "start_time": "2023-11-29T13:02:58.421541843Z"
    },
    "collapsed": true
   },
   "outputs": [],
   "source": [
    "from Declare4Py.bpmnconstraints.bpmnconstraints import bpmnconstraints"
   ]
  },
  {
   "cell_type": "markdown",
   "id": "a97f59b17a709f11",
   "metadata": {
    "collapsed": false
   },
   "source": [
    "Some examples are provided in this repository, such as this linear sequence: \n",
    "<figure>\n",
    "    <img width=\"900\" height=\"100\" src=\"linear_diagram.png\">\n",
    "</figure>\n",
    "\n",
    "With bpmn2constraints, this diagram can be translated into LTLf constraints, such as:"
   ]
  },
  {
   "cell_type": "code",
   "execution_count": 6,
   "id": "68aaff03d9d70600",
   "metadata": {
    "ExecuteTime": {
     "end_time": "2023-11-29T13:02:59.918794770Z",
     "start_time": "2023-11-29T13:02:59.781210072Z"
    },
    "collapsed": false
   },
   "outputs": [
    {
     "name": "stderr",
     "output_type": "stream",
     "text": [
      "100%|██████████| 10/10 [00:00<00:00, 367921.40it/s]"
     ]
    },
    {
     "name": "stdout",
     "output_type": "stream",
     "text": [
      "['register_invoice', '(G((register_invoice) -> (F(check_invoice)))) & (((~(check_invoice)) U (register_invoice)) | (G(~(check_invoice))))', '((F(check_invoice)) -> (F(register_invoice))) & ((F(register_invoice)) -> (F(check_invoice)))', '(F(check_invoice)) | (F(register_invoice))', '(G((register_invoice) -> (X[!]((~(register_invoice)) U (check_invoice))))) & (((~(check_invoice)) U (register_invoice)) | (G(~(check_invoice)))) & (G((check_invoice) -> (((~(check_invoice)) U (register_invoice)) | (G(~(check_invoice))))))', '(G((check_invoice) -> (F(accept_invoice)))) & (((~(accept_invoice)) U (check_invoice)) | (G(~(accept_invoice))))', '((F(accept_invoice)) -> (F(check_invoice))) & ((F(check_invoice)) -> (F(accept_invoice)))', '(F(accept_invoice)) | (F(check_invoice))', '(G((check_invoice) -> (X[!]((~(check_invoice)) U (accept_invoice))))) & (((~(accept_invoice)) U (check_invoice)) | (G(~(accept_invoice)))) & (G((accept_invoice) -> (((~(accept_invoice)) U (check_invoice)) | (G(~(accept_invoice))))))', 'F((accept_invoice) & (X[!](false)))']\n"
     ]
    },
    {
     "name": "stderr",
     "output_type": "stream",
     "text": [
      "\n"
     ]
    }
   ],
   "source": [
    "path = \"../examples/linear/linear_sequence.xml\"\n",
    "res = bpmnconstraints(compile_path=path, constraint_type=\"LTLf\")\n",
    "print(res)"
   ]
  },
  {
   "cell_type": "markdown",
   "id": "14405c5957e7e4ba",
   "metadata": {
    "collapsed": false
   },
   "source": [
    "Similarly, the same procedure can be executed in order to compile to DECLARE"
   ]
  },
  {
   "cell_type": "code",
   "execution_count": 7,
   "id": "b4ab47e8fb467398",
   "metadata": {
    "ExecuteTime": {
     "end_time": "2023-11-29T13:03:00.056265274Z",
     "start_time": "2023-11-29T13:02:59.918921761Z"
    },
    "collapsed": false
   },
   "outputs": [
    {
     "name": "stderr",
     "output_type": "stream",
     "text": [
      "100%|██████████| 10/10 [00:00<00:00, 423667.07it/s]"
     ]
    },
    {
     "name": "stdout",
     "output_type": "stream",
     "text": [
      "['Init[register invoice]', 'Succession[register invoice, check invoice]', 'Co-Existence[check invoice, register invoice]', 'Choice[check invoice, register invoice]', 'Alternate Succession[register invoice, check invoice]', 'Succession[check invoice, accept invoice]', 'Co-Existence[accept invoice, check invoice]', 'Choice[accept invoice, check invoice]', 'Alternate Succession[check invoice, accept invoice]', 'End[accept invoice]']\n"
     ]
    },
    {
     "name": "stderr",
     "output_type": "stream",
     "text": [
      "\n"
     ]
    }
   ],
   "source": [
    "path = \"../examples/linear/linear_sequence.xml\"\n",
    "#bpmnconstraints defaults to DECLARE so assigning it is for clarity\n",
    "res = bpmnconstraints(compile_path=path, constraint_type=\"DECLARE\") \n",
    "print(res)"
   ]
  },
  {
   "cell_type": "markdown",
   "id": "9c4be165db05d5b5",
   "metadata": {
    "collapsed": false
   },
   "source": [
    "The following flags can be used with this version of bpmnconstraints:\n",
    "\n",
    "**parse_path (str):**\n",
    "- Relevant for the \"parse\" command.\n",
    "- Specify the path to the BPMN file you want to parse.\n",
    "\n",
    "**compile_path (str):**\n",
    "- Relevant for the \"compile\" command.\n",
    "- Specify the path to the BPMN file you want to compile.\n",
    "\n",
    "**transitivity (bool):**\n",
    "- Relevant for both \"parse\" and \"compile\" commands.\n",
    "- Flag indicating whether to include transitivity in compilation. Default is False.\n",
    "\n",
    "**compare_constraints (bool):**\n",
    "- Relevant for the \"compare_constraints\" command.\n",
    "- Flag to enable the comparison of constraints.\n",
    "\n",
    "**dataset (str):**\n",
    "- Relevant for the \"compare_constraints\" command.\n",
    "- Specify the path to the dataset for constraint comparison.\n",
    "\n",
    "**dataframe (str):**\n",
    "- Relevant for the \"compare_constraints\" command.\n",
    "- Specify the path to the dataframe of compiled constraints for comparison.\n",
    "- Note: The dataframe must be a pickled dataframe, containing a \"model_id\" column as well as a \"constraints\" column. The dataset should be a CSV file.\n",
    "\n",
    "\n",
    "\n",
    "**parse_dataset (str):**\n",
    "- Relevant for the \"parse_dataset\" command.\n",
    "- Specify the path to the dataset folder for parsing multiple BPMN files.\n",
    "\n",
    "**plot (bool):**\n",
    "- Relevant for both \"compare_constraints\" and \"parse_dataset\" commands.\n",
    "- Flag indicating whether to generate plots. Default is False.\n",
    "\n",
    "**constraint_type (str):**\n",
    "- Relevant for the \"compile\" command.\n",
    "- Specify the type of constraint to be generated (\"DECLARE\" or \"LTLf\"). Default is \"DECLARE\".\n",
    "\n",
    "**compile_dataset (str):**\n",
    "- Relevant for the \"compile_dataset\" command.\n",
    "- Specify the path to the dataset folder for compiling multiple BPMN files.\n",
    "\n",
    "**skip_named_gateways (bool):**\n",
    "- Relevant for the \"compile\" command.\n",
    "- Flag to skip adding named gateways as tokens in compilation. Default is False.\n",
    "\n",
    "**Returns:**\n",
    "- The function returns either a list of constraints or the result of the operation, depending on the command.\n"
   ]
  },
  {
   "cell_type": "markdown",
   "id": "9e515ecf0a1d90f2",
   "metadata": {
    "collapsed": false
   },
   "source": [
    "One more example of usage, for more examples see the original repository."
   ]
  },
  {
   "cell_type": "code",
   "execution_count": 8,
   "id": "b4f22f5abf341228",
   "metadata": {
    "ExecuteTime": {
     "end_time": "2023-11-29T13:03:04.894479074Z",
     "start_time": "2023-11-29T13:03:00.056992740Z"
    },
    "collapsed": false
   },
   "outputs": [
    {
     "name": "stderr",
     "output_type": "stream",
     "text": [
      "100%|██████████| 26/26 [00:00<00:00, 908765.87it/s]\n",
      "100%|██████████| 26/26 [00:00<00:00, 690201.92it/s]"
     ]
    },
    {
     "name": "stdout",
     "output_type": "stream",
     "text": [
      "['review_request', '((F(assess_risks)) -> (F(standard_terms_applicable))) & ((F(standard_terms_applicable)) -> (F(assess_risks)))', '((F(prepare_special_terms)) -> (F(standard_terms_applicable))) & ((F(standard_terms_applicable)) -> (F(prepare_special_terms)))', '((F(calculate_terms)) -> (F(standard_terms_applicable))) & ((F(standard_terms_applicable)) -> (F(calculate_terms)))', '((F(prepare_special_terms)) -> (F(assess_risks))) & ((F(assess_risks)) -> (F(prepare_special_terms)))', '((F(calculate_terms)) -> (F(assess_risks))) & ((F(assess_risks)) -> (F(calculate_terms)))', '((F(calculate_terms)) -> (F(prepare_special_terms))) & ((F(prepare_special_terms)) -> (F(calculate_terms)))', '((~(assess_risks)) U (review_request)) | (G(~(assess_risks)))', '(((~(assess_risks)) U (review_request)) | (G(~(assess_risks)))) & (G((assess_risks) -> (((~(assess_risks)) U (review_request)) | (G(~(assess_risks))))))', '((~(prepare_special_terms)) U (review_request)) | (G(~(prepare_special_terms)))', '(((~(prepare_special_terms)) U (review_request)) | (G(~(prepare_special_terms)))) & (G((prepare_special_terms) -> (((~(prepare_special_terms)) U (review_request)) | (G(~(prepare_special_terms))))))', '((~(calculate_terms)) U (review_request)) | (G(~(calculate_terms)))', '(((~(calculate_terms)) U (review_request)) | (G(~(calculate_terms)))) & (G((calculate_terms) -> (((~(calculate_terms)) U (review_request)) | (G(~(calculate_terms))))))', '((~(prepare_special_terms)) U (review_request)) | (G(~(prepare_special_terms)))', '(((~(prepare_special_terms)) U (review_request)) | (G(~(prepare_special_terms)))) & (G((prepare_special_terms) -> (((~(prepare_special_terms)) U (review_request)) | (G(~(prepare_special_terms))))))', '((~(calculate_terms)) U (review_request)) | (G(~(calculate_terms)))', '(((~(calculate_terms)) U (review_request)) | (G(~(calculate_terms)))) & (G((calculate_terms) -> (((~(calculate_terms)) U (review_request)) | (G(~(calculate_terms))))))', 'G((prepare_contract) -> (F(send_quote)))', 'G((prepare_contract) -> (X[!]((~(prepare_contract)) U (send_quote))))', 'G((assess_risks) -> (F(send_quote)))', 'G((assess_risks) -> (X[!]((~(assess_risks)) U (send_quote))))', 'F((send_quote) & (X[!](false)))', 'G((calculate_terms) -> (F(prepare_contract)))', 'G((calculate_terms) -> (X[!]((~(calculate_terms)) U (prepare_contract))))', 'G((prepare_special_terms) -> (F(prepare_contract)))', 'G((prepare_special_terms) -> (X[!]((~(prepare_special_terms)) U (prepare_contract))))']\n",
      "--------------------------------\n",
      "['Init[review request]', 'Co-Existence[assess risks, standard terms applicable]', 'Co-Existence[prepare special terms, standard terms applicable]', 'Co-Existence[calculate terms, standard terms applicable]', 'Co-Existence[prepare special terms, assess risks]', 'Co-Existence[calculate terms, assess risks]', 'Co-Existence[calculate terms, prepare special terms]', 'Precedence[review request, assess risks]', 'Alternate Precedence[review request, assess risks]', 'Precedence[review request, prepare special terms]', 'Alternate Precedence[review request, prepare special terms]', 'Precedence[review request, calculate terms]', 'Alternate Precedence[review request, calculate terms]', 'Precedence[review request, prepare special terms]', 'Alternate Precedence[review request, prepare special terms]', 'Precedence[review request, calculate terms]', 'Alternate Precedence[review request, calculate terms]', 'Response[prepare contract, send quote]', 'Alternate Response[prepare contract, send quote]', 'Response[assess risks, send quote]', 'Alternate Response[assess risks, send quote]', 'End[send quote]', 'Response[calculate terms, prepare contract]', 'Alternate Response[calculate terms, prepare contract]', 'Response[prepare special terms, prepare contract]', 'Alternate Response[prepare special terms, prepare contract]']\n"
     ]
    },
    {
     "name": "stderr",
     "output_type": "stream",
     "text": [
      "\n"
     ]
    }
   ],
   "source": [
    "path = \"../examples/main_example/Credit_quote_creation_simplified_SAP Signavio.xml\"\n",
    "#bpmnconstraints defaults to DECLARE so assigning it is for clarity\n",
    "res1 = bpmnconstraints(compile_path=path, constraint_type=\"LTLf\") \n",
    "res2 = bpmnconstraints(compile_path=path, constraint_type=\"DECLARE\") \n",
    "print(res1)\n",
    "print(\"--------------------------------\")\n",
    "print(res2)"
   ]
  }
 ],
 "metadata": {
  "kernelspec": {
   "display_name": "Python 3",
   "language": "python",
   "name": "python3"
  },
  "language_info": {
   "codemirror_mode": {
    "name": "ipython",
    "version": 3
   },
   "file_extension": ".py",
   "mimetype": "text/x-python",
   "name": "python",
   "nbconvert_exporter": "python",
   "pygments_lexer": "ipython3",
   "version": "3.11.6"
  }
 },
 "nbformat": 4,
 "nbformat_minor": 5
}
