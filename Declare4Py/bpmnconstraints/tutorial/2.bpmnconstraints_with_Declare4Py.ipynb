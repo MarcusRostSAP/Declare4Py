{
 "cells": [
  {
   "cell_type": "markdown",
   "id": "a08d0956842bbe3e",
   "metadata": {
    "collapsed": false
   },
   "source": [
    "## Combining bpmnconstraints with Declare4Py\n",
    "To use bpmnconstraints with Declare4Py, first import the necessary modules"
   ]
  },
  {
   "cell_type": "code",
   "execution_count": 1,
   "id": "initial_id",
   "metadata": {
    "ExecuteTime": {
     "end_time": "2023-11-29T13:16:52.834918253Z",
     "start_time": "2023-11-29T13:16:52.833202459Z"
    },
    "collapsed": true
   },
   "outputs": [
    {
     "name": "stderr",
     "output_type": "stream",
     "text": [
      "/home/fleph/sap/Declare4Py/.venv/lib64/python3.11/site-packages/lark/utils.py:163: DeprecationWarning: module 'sre_parse' is deprecated\n",
      "  import sre_parse\n",
      "/home/fleph/sap/Declare4Py/.venv/lib64/python3.11/site-packages/lark/utils.py:164: DeprecationWarning: module 'sre_constants' is deprecated\n",
      "  import sre_constants\n",
      "/home/fleph/sap/Declare4Py/.venv/lib64/python3.11/site-packages/tqdm/auto.py:21: TqdmWarning: IProgress not found. Please update jupyter and ipywidgets. See https://ipywidgets.readthedocs.io/en/stable/user_install.html\n",
      "  from .autonotebook import tqdm as notebook_tqdm\n",
      "parsing log, completed traces :: 100%|██████████| 1050/1050 [00:00<00:00, 3901.39it/s]\n",
      "/home/fleph/sap/Declare4Py/.venv/lib64/python3.11/site-packages/pm4py/utils.py:486: UserWarning: the EventLog class has been deprecated and will be removed in a future release.\n",
      "  warnings.warn(\"the EventLog class has been deprecated and will be removed in a future release.\")\n",
      "DEBUG:matplotlib:CACHEDIR=/home/fleph/.cache/matplotlib\n",
      "DEBUG:matplotlib.font_manager:Using fontManager instance from /home/fleph/.cache/matplotlib/fontlist-v330.json\n"
     ]
    }
   ],
   "source": [
    "import os\n",
    "from Declare4Py.D4PyEventLog import D4PyEventLog\n",
    "\n",
    "log_path = os.path.join(\"../../../\", \"tests\", \"test_logs\",\"Sepsis Cases.xes.gz\")\n",
    "event_log = D4PyEventLog()\n",
    "event_log.parse_xes_log(log_path)\n",
    "from Declare4Py.bpmnconstraints.bpmnconstraints import bpmnconstraints\n"
   ]
  },
  {
   "cell_type": "markdown",
   "id": "f8033c5edbaa0cce",
   "metadata": {
    "collapsed": false
   },
   "source": [
    "Translate a bpmn model that you are interested in checking. For example, the nested and/or graph:\n",
    "<figure>\n",
    "    <img width=800\" height=\"250\" src=\"nested_and_or.png\">\n",
    "</figure>"
   ]
  },
  {
   "cell_type": "code",
   "execution_count": 2,
   "id": "b40fdb729507fb4d",
   "metadata": {
    "collapsed": false
   },
   "outputs": [
    {
     "name": "stderr",
     "output_type": "stream",
     "text": [
      "100%|██████████| 5/5 [00:00<00:00, 177724.75it/s]\n"
     ]
    },
    {
     "name": "stdout",
     "output_type": "stream",
     "text": [
      "parallelgateway is satisfiable? True\n",
      "----------------------\n",
      "parallelgateway\n",
      "     case:concept:name  accepted\n",
      "0                    A     False\n",
      "1                    B     False\n",
      "2                    C     False\n",
      "3                    D     False\n",
      "4                    E     False\n",
      "...                ...       ...\n",
      "1045               HNA     False\n",
      "1046               INA     False\n",
      "1047               JNA     False\n",
      "1048               KNA     False\n",
      "1049               LNA     False\n",
      "\n",
      "[1050 rows x 2 columns]\n",
      "(F(task)) ->  (F(task)) is satisfiable? True\n",
      "----------------------\n",
      "(implies (eventually task) (eventually task))\n",
      "     case:concept:name  accepted\n",
      "0                    A      True\n",
      "1                    B      True\n",
      "2                    C      True\n",
      "3                    D      True\n",
      "4                    E      True\n",
      "...                ...       ...\n",
      "1045               HNA      True\n",
      "1046               INA      True\n",
      "1047               JNA      True\n",
      "1048               KNA      True\n",
      "1049               LNA      True\n",
      "\n",
      "[1050 rows x 2 columns]\n",
      "(F(task)) ->  (F(task)) is satisfiable? True\n",
      "----------------------\n",
      "(implies (eventually task) (eventually task))\n",
      "     case:concept:name  accepted\n",
      "0                    A      True\n",
      "1                    B      True\n",
      "2                    C      True\n",
      "3                    D      True\n",
      "4                    E      True\n",
      "...                ...       ...\n",
      "1045               HNA      True\n",
      "1046               INA      True\n",
      "1047               JNA      True\n",
      "1048               KNA      True\n",
      "1049               LNA      True\n",
      "\n",
      "[1050 rows x 2 columns]\n",
      "(F(task)) ->  (F(task)) is satisfiable? True\n",
      "----------------------\n",
      "(implies (eventually task) (eventually task))\n",
      "     case:concept:name  accepted\n",
      "0                    A      True\n",
      "1                    B      True\n",
      "2                    C      True\n",
      "3                    D      True\n",
      "4                    E      True\n",
      "...                ...       ...\n",
      "1045               HNA      True\n",
      "1046               INA      True\n",
      "1047               JNA      True\n",
      "1048               KNA      True\n",
      "1049               LNA      True\n",
      "\n",
      "[1050 rows x 2 columns]\n",
      "F(task) is satisfiable? True\n",
      "----------------------\n",
      "(eventually task)\n",
      "     case:concept:name  accepted\n",
      "0                    A     False\n",
      "1                    B     False\n",
      "2                    C     False\n",
      "3                    D     False\n",
      "4                    E     False\n",
      "...                ...       ...\n",
      "1045               HNA     False\n",
      "1046               INA     False\n",
      "1047               JNA     False\n",
      "1048               KNA     False\n",
      "1049               LNA     False\n",
      "\n",
      "[1050 rows x 2 columns]\n"
     ]
    }
   ],
   "source": [
    "from Declare4Py.ProcessModels.LTLModel import LTLModel\n",
    "from Declare4Py.ProcessMiningTasks.ConformanceChecking.LTLAnalyzer import LTLAnalyzer\n",
    "\n",
    "\n",
    "\n",
    "path = \"../examples/combinations/nested_and_or.xml\"\n",
    "model = bpmnconstraints(compile_path= path, constraint_type=\"LTLf\")\n",
    "# model now contains the translated graph\n",
    "ltl_model = LTLModel()\n",
    "for constraint in model:\n",
    "    ltl_model.parse_from_string(content= constraint)\n",
    "    analyzer = LTLAnalyzer(event_log, ltl_model)\n",
    "    df = analyzer.run()\n",
    "    print(f\"{ltl_model.formula} is satisfiable? {ltl_model.check_satisfiability()}\") \n",
    "    print(\"----------------------\")\n",
    "    print(ltl_model.parsed_formula)\n",
    "    print(df)\n",
    "    # This is currently wrong because of difference in ltlf dialect, but subject to change"
   ]
  },
  {
   "cell_type": "markdown",
   "metadata": {},
   "source": [
    "Similary can be done with DECLARE"
   ]
  },
  {
   "cell_type": "code",
   "execution_count": 10,
   "metadata": {},
   "outputs": [
    {
     "name": "stderr",
     "output_type": "stream",
     "text": [
      "100%|██████████| 5/5 [00:00<00:00, 71575.15it/s]\n"
     ]
    },
    {
     "name": "stdout",
     "output_type": "stream",
     "text": [
      "0 Init[parallelgateway] |\n",
      "1 Co-Existence[task, task] |\n",
      "2 Co-Existence[task, task] |\n",
      "3 Co-Existence[task, task] |\n",
      "4 Choice[task, task] |\n"
     ]
    }
   ],
   "source": [
    "from Declare4Py.ProcessMiningTasks.ConformanceChecking.MPDeclareAnalyzer import MPDeclareAnalyzer\n",
    "from Declare4Py.ProcessMiningTasks.ConformanceChecking.MPDeclareResultsBrowser import MPDeclareResultsBrowser\n",
    "from Declare4Py.ProcessModels.DeclareModel import DeclareModel\n",
    "\n",
    "\n",
    "model = bpmnconstraints(compile_path= path)\n",
    "declare_model = DeclareModel()\n",
    "declare_model.parse_from_string(\"\\n\".join(model))\n",
    "model_constraints = declare_model.get_decl_model_constraints()\n",
    "model_act = declare_model.get_model_activities()\n",
    "for idx, act in enumerate(model_act):\n",
    "    print (idx, act)\n",
    "for idx, constr in enumerate(model_constraints):\n",
    "    print(idx, constr)\n",
    "\n",
    "\n",
    "#basic_checker = MPDeclareAnalyzer(log=event_log, declare_model=declare_model, consider_vacuity=False)\n",
    "#conf_check_res: MPDeclareResultsBrowser = basic_checker.run()\n",
    "#conf_check_res.get_metric(metric=\"num_activations\")"
   ]
  }
 ],
 "metadata": {
  "kernelspec": {
   "display_name": "Python 3",
   "language": "python",
   "name": "python3"
  },
  "language_info": {
   "codemirror_mode": {
    "name": "ipython",
    "version": 3
   },
   "file_extension": ".py",
   "mimetype": "text/x-python",
   "name": "python",
   "nbconvert_exporter": "python",
   "pygments_lexer": "ipython3",
   "version": "3.11.6"
  }
 },
 "nbformat": 4,
 "nbformat_minor": 5
}
