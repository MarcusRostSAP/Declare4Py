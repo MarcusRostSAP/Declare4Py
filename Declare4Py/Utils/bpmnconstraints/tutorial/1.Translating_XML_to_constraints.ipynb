{
 "cells": [
  {
   "cell_type": "markdown",
   "id": "1d64a8b9a01f2d29",
   "metadata": {
    "collapsed": false
   },
   "source": [
    "Bpmn2constraints is made to compile BPMN models from both `JSON` and `XML`, but since `JSON` models are proprietary to SAP Signavio, only `XML` support have been added in this repository. Go to [the original repository](https://github.com/signavio/bpmn2constraints) for the full version. \n",
    "\n",
    "In order to start using the tool, import the necessary packages."
   ]
  },
  {
   "cell_type": "code",
   "execution_count": 1,
   "id": "initial_id",
   "metadata": {
    "ExecuteTime": {
     "end_time": "2023-11-29T13:02:59.781359787Z",
     "start_time": "2023-11-29T13:02:58.421541843Z"
    },
    "collapsed": true
   },
   "outputs": [
    {
     "name": "stderr",
     "output_type": "stream",
     "text": [
      "/home/fleph/sap/Declare4Py/.venv/lib64/python3.11/site-packages/lark/utils.py:163: DeprecationWarning: module 'sre_parse' is deprecated\n",
      "  import sre_parse\n",
      "/home/fleph/sap/Declare4Py/.venv/lib64/python3.11/site-packages/lark/utils.py:164: DeprecationWarning: module 'sre_constants' is deprecated\n",
      "  import sre_constants\n",
      "DEBUG:matplotlib:CACHEDIR=/home/fleph/.cache/matplotlib\n",
      "DEBUG:matplotlib.font_manager:Using fontManager instance from /home/fleph/.cache/matplotlib/fontlist-v330.json\n"
     ]
    }
   ],
   "source": [
    "import os\n",
    "from Declare4Py.ProcessModels.BpmnConstraintsModel import BpmnConstraintsModel"
   ]
  },
  {
   "cell_type": "markdown",
   "id": "a97f59b17a709f11",
   "metadata": {
    "collapsed": false
   },
   "source": [
    "Some examples are provided in this repository, such as this linear sequence: \n",
    "<figure>\n",
    "    <img width=\"900\" height=\"200\" src=\"linear_diagram.png\">\n",
    "</figure>\n",
    "\n",
    "With bpmn2constraints, this diagram can be translated into DECLARE constraints, such as:"
   ]
  },
  {
   "cell_type": "code",
   "execution_count": 7,
   "id": "68aaff03d9d70600",
   "metadata": {
    "ExecuteTime": {
     "end_time": "2023-11-29T13:02:59.918794770Z",
     "start_time": "2023-11-29T13:02:59.781210072Z"
    },
    "collapsed": false
   },
   "outputs": [
    {
     "name": "stdout",
     "output_type": "stream",
     "text": [
      "\n",
      "---------------DECLARE constraints---------------\n",
      "Init[accept invoice, register invoice, check invoice] |\n",
      "Succession[accept invoice, register invoice, check invoice] |\n",
      "Co-Existence[accept invoice, register invoice, check invoice] |\n",
      "Choice[accept invoice, register invoice, check invoice] |\n",
      "Alternate Succession[accept invoice, register invoice, check invoice] |\n",
      "Succession[accept invoice, register invoice, check invoice] |\n",
      "Co-Existence[accept invoice, register invoice, check invoice] |\n",
      "Choice[accept invoice, register invoice, check invoice] |\n",
      "Alternate Succession[accept invoice, register invoice, check invoice] |\n",
      "End[accept invoice, register invoice, check invoice] |\n",
      "\n",
      "---------------DECLARE activites---------------\n",
      "accept invoice\n",
      "register invoice\n",
      "check invoice\n"
     ]
    }
   ],
   "source": [
    "path = os.path.join(\"../\",\"examples\", \"linear\",\"linear_sequence.xml\")\n",
    "#path = \"../examples/linear/linear_sequence.xml\"\n",
    "model = BpmnConstraintsModel()\n",
    "model.parse_from_file(path)\n",
    "declare_model = model.declare_model\n",
    "constraints = declare_model.get_decl_model_constraints()\n",
    "activities = declare_model.get_model_activities()\n",
    "print(\"\\n---------------DECLARE constraints---------------\\n\")\n",
    "for constraint in constraints:\n",
    "    print(constraint)\n",
    "print(\"\\n---------------DECLARE activites---------------\\n\")\n",
    "for act in activities:\n",
    "    print(act)"
   ]
  },
  {
   "cell_type": "markdown",
   "id": "9e515ecf0a1d90f2",
   "metadata": {
    "collapsed": false
   },
   "source": [
    "One more example of usage, for more examples see the original repository."
   ]
  },
  {
   "cell_type": "code",
   "execution_count": 6,
   "id": "b4f22f5abf341228",
   "metadata": {
    "ExecuteTime": {
     "end_time": "2023-11-29T13:03:04.894479074Z",
     "start_time": "2023-11-29T13:03:00.056992740Z"
    },
    "collapsed": false
   },
   "outputs": [
    {
     "name": "stdout",
     "output_type": "stream",
     "text": [
      "----------------LTLf constraints----------------\n",
      "\n",
      "---------------DECLARE constraints---------------\n",
      "Init[accept invoice, register invoice, check invoice] |\n",
      "Succession[accept invoice, register invoice, check invoice] |\n",
      "Co-Existence[accept invoice, register invoice, check invoice] |\n",
      "Choice[accept invoice, register invoice, check invoice] |\n",
      "Alternate Succession[accept invoice, register invoice, check invoice] |\n",
      "Succession[accept invoice, register invoice, check invoice] |\n",
      "Co-Existence[accept invoice, register invoice, check invoice] |\n",
      "Choice[accept invoice, register invoice, check invoice] |\n",
      "Alternate Succession[accept invoice, register invoice, check invoice] |\n",
      "End[accept invoice, register invoice, check invoice] |\n",
      "Init[accept invoice, register invoice, check invoice] |\n",
      "Succession[accept invoice, register invoice, check invoice] |\n",
      "Co-Existence[accept invoice, register invoice, check invoice] |\n",
      "Choice[accept invoice, register invoice, check invoice] |\n",
      "Alternate Succession[accept invoice, register invoice, check invoice] |\n",
      "Succession[accept invoice, register invoice, check invoice] |\n",
      "Co-Existence[accept invoice, register invoice, check invoice] |\n",
      "Choice[accept invoice, register invoice, check invoice] |\n",
      "Alternate Succession[accept invoice, register invoice, check invoice] |\n",
      "End[accept invoice, register invoice, check invoice] |\n",
      "Init[assess risks, calculate terms, prepare special terms, standard terms applicable, prepare contract, send quote, review request] |\n",
      "Co-Existence[assess risks, calculate terms, prepare special terms, standard terms applicable, prepare contract, send quote, review request] |\n",
      "Co-Existence[assess risks, calculate terms, prepare special terms, standard terms applicable, prepare contract, send quote, review request] |\n",
      "Co-Existence[assess risks, calculate terms, prepare special terms, standard terms applicable, prepare contract, send quote, review request] |\n",
      "Co-Existence[assess risks, calculate terms, prepare special terms, standard terms applicable, prepare contract, send quote, review request] |\n",
      "Co-Existence[assess risks, calculate terms, prepare special terms, standard terms applicable, prepare contract, send quote, review request] |\n",
      "Co-Existence[assess risks, calculate terms, prepare special terms, standard terms applicable, prepare contract, send quote, review request] |\n",
      "Precedence[assess risks, calculate terms, prepare special terms, standard terms applicable, prepare contract, send quote, review request] |\n",
      "Alternate Precedence[assess risks, calculate terms, prepare special terms, standard terms applicable, prepare contract, send quote, review request] |\n",
      "Precedence[assess risks, calculate terms, prepare special terms, standard terms applicable, prepare contract, send quote, review request] |\n",
      "Alternate Precedence[assess risks, calculate terms, prepare special terms, standard terms applicable, prepare contract, send quote, review request] |\n",
      "Precedence[assess risks, calculate terms, prepare special terms, standard terms applicable, prepare contract, send quote, review request] |\n",
      "Alternate Precedence[assess risks, calculate terms, prepare special terms, standard terms applicable, prepare contract, send quote, review request] |\n",
      "Precedence[assess risks, calculate terms, prepare special terms, standard terms applicable, prepare contract, send quote, review request] |\n",
      "Alternate Precedence[assess risks, calculate terms, prepare special terms, standard terms applicable, prepare contract, send quote, review request] |\n",
      "Precedence[assess risks, calculate terms, prepare special terms, standard terms applicable, prepare contract, send quote, review request] |\n",
      "Alternate Precedence[assess risks, calculate terms, prepare special terms, standard terms applicable, prepare contract, send quote, review request] |\n",
      "Response[assess risks, calculate terms, prepare special terms, standard terms applicable, prepare contract, send quote, review request] |\n",
      "Alternate Response[assess risks, calculate terms, prepare special terms, standard terms applicable, prepare contract, send quote, review request] |\n",
      "Response[assess risks, calculate terms, prepare special terms, standard terms applicable, prepare contract, send quote, review request] |\n",
      "Alternate Response[assess risks, calculate terms, prepare special terms, standard terms applicable, prepare contract, send quote, review request] |\n",
      "End[assess risks, calculate terms, prepare special terms, standard terms applicable, prepare contract, send quote, review request] |\n",
      "Response[assess risks, calculate terms, prepare special terms, standard terms applicable, prepare contract, send quote, review request] |\n",
      "Alternate Response[assess risks, calculate terms, prepare special terms, standard terms applicable, prepare contract, send quote, review request] |\n",
      "Response[assess risks, calculate terms, prepare special terms, standard terms applicable, prepare contract, send quote, review request] |\n",
      "Alternate Response[assess risks, calculate terms, prepare special terms, standard terms applicable, prepare contract, send quote, review request] |\n",
      "Init[accept invoice, register invoice, check invoice] |\n",
      "Succession[accept invoice, register invoice, check invoice] |\n",
      "Co-Existence[accept invoice, register invoice, check invoice] |\n",
      "Choice[accept invoice, register invoice, check invoice] |\n",
      "Alternate Succession[accept invoice, register invoice, check invoice] |\n",
      "Succession[accept invoice, register invoice, check invoice] |\n",
      "Co-Existence[accept invoice, register invoice, check invoice] |\n",
      "Choice[accept invoice, register invoice, check invoice] |\n",
      "Alternate Succession[accept invoice, register invoice, check invoice] |\n",
      "End[accept invoice, register invoice, check invoice] |\n",
      "Init[assess risks, calculate terms, prepare special terms, standard terms applicable, prepare contract, send quote, review request] |\n",
      "Co-Existence[assess risks, calculate terms, prepare special terms, standard terms applicable, prepare contract, send quote, review request] |\n",
      "Co-Existence[assess risks, calculate terms, prepare special terms, standard terms applicable, prepare contract, send quote, review request] |\n",
      "Co-Existence[assess risks, calculate terms, prepare special terms, standard terms applicable, prepare contract, send quote, review request] |\n",
      "Co-Existence[assess risks, calculate terms, prepare special terms, standard terms applicable, prepare contract, send quote, review request] |\n",
      "Co-Existence[assess risks, calculate terms, prepare special terms, standard terms applicable, prepare contract, send quote, review request] |\n",
      "Co-Existence[assess risks, calculate terms, prepare special terms, standard terms applicable, prepare contract, send quote, review request] |\n",
      "Precedence[assess risks, calculate terms, prepare special terms, standard terms applicable, prepare contract, send quote, review request] |\n",
      "Alternate Precedence[assess risks, calculate terms, prepare special terms, standard terms applicable, prepare contract, send quote, review request] |\n",
      "Precedence[assess risks, calculate terms, prepare special terms, standard terms applicable, prepare contract, send quote, review request] |\n",
      "Alternate Precedence[assess risks, calculate terms, prepare special terms, standard terms applicable, prepare contract, send quote, review request] |\n",
      "Precedence[assess risks, calculate terms, prepare special terms, standard terms applicable, prepare contract, send quote, review request] |\n",
      "Alternate Precedence[assess risks, calculate terms, prepare special terms, standard terms applicable, prepare contract, send quote, review request] |\n",
      "Precedence[assess risks, calculate terms, prepare special terms, standard terms applicable, prepare contract, send quote, review request] |\n",
      "Alternate Precedence[assess risks, calculate terms, prepare special terms, standard terms applicable, prepare contract, send quote, review request] |\n",
      "Precedence[assess risks, calculate terms, prepare special terms, standard terms applicable, prepare contract, send quote, review request] |\n",
      "Alternate Precedence[assess risks, calculate terms, prepare special terms, standard terms applicable, prepare contract, send quote, review request] |\n",
      "Response[assess risks, calculate terms, prepare special terms, standard terms applicable, prepare contract, send quote, review request] |\n",
      "Alternate Response[assess risks, calculate terms, prepare special terms, standard terms applicable, prepare contract, send quote, review request] |\n",
      "Response[assess risks, calculate terms, prepare special terms, standard terms applicable, prepare contract, send quote, review request] |\n",
      "Alternate Response[assess risks, calculate terms, prepare special terms, standard terms applicable, prepare contract, send quote, review request] |\n",
      "End[assess risks, calculate terms, prepare special terms, standard terms applicable, prepare contract, send quote, review request] |\n",
      "Response[assess risks, calculate terms, prepare special terms, standard terms applicable, prepare contract, send quote, review request] |\n",
      "Alternate Response[assess risks, calculate terms, prepare special terms, standard terms applicable, prepare contract, send quote, review request] |\n",
      "Response[assess risks, calculate terms, prepare special terms, standard terms applicable, prepare contract, send quote, review request] |\n",
      "Alternate Response[assess risks, calculate terms, prepare special terms, standard terms applicable, prepare contract, send quote, review request] |\n",
      "Init[assess risks, calculate terms, prepare special terms, standard terms applicable, prepare contract, send quote, review request] |\n",
      "Co-Existence[assess risks, calculate terms, prepare special terms, standard terms applicable, prepare contract, send quote, review request] |\n",
      "Co-Existence[assess risks, calculate terms, prepare special terms, standard terms applicable, prepare contract, send quote, review request] |\n",
      "Co-Existence[assess risks, calculate terms, prepare special terms, standard terms applicable, prepare contract, send quote, review request] |\n",
      "Co-Existence[assess risks, calculate terms, prepare special terms, standard terms applicable, prepare contract, send quote, review request] |\n",
      "Co-Existence[assess risks, calculate terms, prepare special terms, standard terms applicable, prepare contract, send quote, review request] |\n",
      "Co-Existence[assess risks, calculate terms, prepare special terms, standard terms applicable, prepare contract, send quote, review request] |\n",
      "Precedence[assess risks, calculate terms, prepare special terms, standard terms applicable, prepare contract, send quote, review request] |\n",
      "Alternate Precedence[assess risks, calculate terms, prepare special terms, standard terms applicable, prepare contract, send quote, review request] |\n",
      "Precedence[assess risks, calculate terms, prepare special terms, standard terms applicable, prepare contract, send quote, review request] |\n",
      "Alternate Precedence[assess risks, calculate terms, prepare special terms, standard terms applicable, prepare contract, send quote, review request] |\n",
      "Precedence[assess risks, calculate terms, prepare special terms, standard terms applicable, prepare contract, send quote, review request] |\n",
      "Alternate Precedence[assess risks, calculate terms, prepare special terms, standard terms applicable, prepare contract, send quote, review request] |\n",
      "Precedence[assess risks, calculate terms, prepare special terms, standard terms applicable, prepare contract, send quote, review request] |\n",
      "Alternate Precedence[assess risks, calculate terms, prepare special terms, standard terms applicable, prepare contract, send quote, review request] |\n",
      "Precedence[assess risks, calculate terms, prepare special terms, standard terms applicable, prepare contract, send quote, review request] |\n",
      "Alternate Precedence[assess risks, calculate terms, prepare special terms, standard terms applicable, prepare contract, send quote, review request] |\n",
      "Response[assess risks, calculate terms, prepare special terms, standard terms applicable, prepare contract, send quote, review request] |\n",
      "Alternate Response[assess risks, calculate terms, prepare special terms, standard terms applicable, prepare contract, send quote, review request] |\n",
      "Response[assess risks, calculate terms, prepare special terms, standard terms applicable, prepare contract, send quote, review request] |\n",
      "Alternate Response[assess risks, calculate terms, prepare special terms, standard terms applicable, prepare contract, send quote, review request] |\n",
      "End[assess risks, calculate terms, prepare special terms, standard terms applicable, prepare contract, send quote, review request] |\n",
      "Response[assess risks, calculate terms, prepare special terms, standard terms applicable, prepare contract, send quote, review request] |\n",
      "Alternate Response[assess risks, calculate terms, prepare special terms, standard terms applicable, prepare contract, send quote, review request] |\n",
      "Response[assess risks, calculate terms, prepare special terms, standard terms applicable, prepare contract, send quote, review request] |\n",
      "Alternate Response[assess risks, calculate terms, prepare special terms, standard terms applicable, prepare contract, send quote, review request] |\n",
      "Init[accept invoice, register invoice, check invoice] |\n",
      "Succession[accept invoice, register invoice, check invoice] |\n",
      "Co-Existence[accept invoice, register invoice, check invoice] |\n",
      "Choice[accept invoice, register invoice, check invoice] |\n",
      "Alternate Succession[accept invoice, register invoice, check invoice] |\n",
      "Succession[accept invoice, register invoice, check invoice] |\n",
      "Co-Existence[accept invoice, register invoice, check invoice] |\n",
      "Choice[accept invoice, register invoice, check invoice] |\n",
      "Alternate Succession[accept invoice, register invoice, check invoice] |\n",
      "End[accept invoice, register invoice, check invoice] |\n",
      "Init[assess risks, calculate terms, prepare special terms, standard terms applicable, prepare contract, send quote, review request] |\n",
      "Co-Existence[assess risks, calculate terms, prepare special terms, standard terms applicable, prepare contract, send quote, review request] |\n",
      "Co-Existence[assess risks, calculate terms, prepare special terms, standard terms applicable, prepare contract, send quote, review request] |\n",
      "Co-Existence[assess risks, calculate terms, prepare special terms, standard terms applicable, prepare contract, send quote, review request] |\n",
      "Co-Existence[assess risks, calculate terms, prepare special terms, standard terms applicable, prepare contract, send quote, review request] |\n",
      "Co-Existence[assess risks, calculate terms, prepare special terms, standard terms applicable, prepare contract, send quote, review request] |\n",
      "Co-Existence[assess risks, calculate terms, prepare special terms, standard terms applicable, prepare contract, send quote, review request] |\n",
      "Precedence[assess risks, calculate terms, prepare special terms, standard terms applicable, prepare contract, send quote, review request] |\n",
      "Alternate Precedence[assess risks, calculate terms, prepare special terms, standard terms applicable, prepare contract, send quote, review request] |\n",
      "Precedence[assess risks, calculate terms, prepare special terms, standard terms applicable, prepare contract, send quote, review request] |\n",
      "Alternate Precedence[assess risks, calculate terms, prepare special terms, standard terms applicable, prepare contract, send quote, review request] |\n",
      "Precedence[assess risks, calculate terms, prepare special terms, standard terms applicable, prepare contract, send quote, review request] |\n",
      "Alternate Precedence[assess risks, calculate terms, prepare special terms, standard terms applicable, prepare contract, send quote, review request] |\n",
      "Precedence[assess risks, calculate terms, prepare special terms, standard terms applicable, prepare contract, send quote, review request] |\n",
      "Alternate Precedence[assess risks, calculate terms, prepare special terms, standard terms applicable, prepare contract, send quote, review request] |\n",
      "Precedence[assess risks, calculate terms, prepare special terms, standard terms applicable, prepare contract, send quote, review request] |\n",
      "Alternate Precedence[assess risks, calculate terms, prepare special terms, standard terms applicable, prepare contract, send quote, review request] |\n",
      "Response[assess risks, calculate terms, prepare special terms, standard terms applicable, prepare contract, send quote, review request] |\n",
      "Alternate Response[assess risks, calculate terms, prepare special terms, standard terms applicable, prepare contract, send quote, review request] |\n",
      "Response[assess risks, calculate terms, prepare special terms, standard terms applicable, prepare contract, send quote, review request] |\n",
      "Alternate Response[assess risks, calculate terms, prepare special terms, standard terms applicable, prepare contract, send quote, review request] |\n",
      "End[assess risks, calculate terms, prepare special terms, standard terms applicable, prepare contract, send quote, review request] |\n",
      "Response[assess risks, calculate terms, prepare special terms, standard terms applicable, prepare contract, send quote, review request] |\n",
      "Alternate Response[assess risks, calculate terms, prepare special terms, standard terms applicable, prepare contract, send quote, review request] |\n",
      "Response[assess risks, calculate terms, prepare special terms, standard terms applicable, prepare contract, send quote, review request] |\n",
      "Alternate Response[assess risks, calculate terms, prepare special terms, standard terms applicable, prepare contract, send quote, review request] |\n",
      "Init[assess risks, calculate terms, prepare special terms, standard terms applicable, prepare contract, send quote, review request] |\n",
      "Co-Existence[assess risks, calculate terms, prepare special terms, standard terms applicable, prepare contract, send quote, review request] |\n",
      "Co-Existence[assess risks, calculate terms, prepare special terms, standard terms applicable, prepare contract, send quote, review request] |\n",
      "Co-Existence[assess risks, calculate terms, prepare special terms, standard terms applicable, prepare contract, send quote, review request] |\n",
      "Co-Existence[assess risks, calculate terms, prepare special terms, standard terms applicable, prepare contract, send quote, review request] |\n",
      "Co-Existence[assess risks, calculate terms, prepare special terms, standard terms applicable, prepare contract, send quote, review request] |\n",
      "Co-Existence[assess risks, calculate terms, prepare special terms, standard terms applicable, prepare contract, send quote, review request] |\n",
      "Precedence[assess risks, calculate terms, prepare special terms, standard terms applicable, prepare contract, send quote, review request] |\n",
      "Alternate Precedence[assess risks, calculate terms, prepare special terms, standard terms applicable, prepare contract, send quote, review request] |\n",
      "Precedence[assess risks, calculate terms, prepare special terms, standard terms applicable, prepare contract, send quote, review request] |\n",
      "Alternate Precedence[assess risks, calculate terms, prepare special terms, standard terms applicable, prepare contract, send quote, review request] |\n",
      "Precedence[assess risks, calculate terms, prepare special terms, standard terms applicable, prepare contract, send quote, review request] |\n",
      "Alternate Precedence[assess risks, calculate terms, prepare special terms, standard terms applicable, prepare contract, send quote, review request] |\n",
      "Precedence[assess risks, calculate terms, prepare special terms, standard terms applicable, prepare contract, send quote, review request] |\n",
      "Alternate Precedence[assess risks, calculate terms, prepare special terms, standard terms applicable, prepare contract, send quote, review request] |\n",
      "Precedence[assess risks, calculate terms, prepare special terms, standard terms applicable, prepare contract, send quote, review request] |\n",
      "Alternate Precedence[assess risks, calculate terms, prepare special terms, standard terms applicable, prepare contract, send quote, review request] |\n",
      "Response[assess risks, calculate terms, prepare special terms, standard terms applicable, prepare contract, send quote, review request] |\n",
      "Alternate Response[assess risks, calculate terms, prepare special terms, standard terms applicable, prepare contract, send quote, review request] |\n",
      "Response[assess risks, calculate terms, prepare special terms, standard terms applicable, prepare contract, send quote, review request] |\n",
      "Alternate Response[assess risks, calculate terms, prepare special terms, standard terms applicable, prepare contract, send quote, review request] |\n",
      "End[assess risks, calculate terms, prepare special terms, standard terms applicable, prepare contract, send quote, review request] |\n",
      "Response[assess risks, calculate terms, prepare special terms, standard terms applicable, prepare contract, send quote, review request] |\n",
      "Alternate Response[assess risks, calculate terms, prepare special terms, standard terms applicable, prepare contract, send quote, review request] |\n",
      "Response[assess risks, calculate terms, prepare special terms, standard terms applicable, prepare contract, send quote, review request] |\n",
      "Alternate Response[assess risks, calculate terms, prepare special terms, standard terms applicable, prepare contract, send quote, review request] |\n",
      "Init[assess risks, calculate terms, prepare special terms, standard terms applicable, prepare contract, send quote, review request] |\n",
      "Co-Existence[assess risks, calculate terms, prepare special terms, standard terms applicable, prepare contract, send quote, review request] |\n",
      "Co-Existence[assess risks, calculate terms, prepare special terms, standard terms applicable, prepare contract, send quote, review request] |\n",
      "Co-Existence[assess risks, calculate terms, prepare special terms, standard terms applicable, prepare contract, send quote, review request] |\n",
      "Co-Existence[assess risks, calculate terms, prepare special terms, standard terms applicable, prepare contract, send quote, review request] |\n",
      "Co-Existence[assess risks, calculate terms, prepare special terms, standard terms applicable, prepare contract, send quote, review request] |\n",
      "Co-Existence[assess risks, calculate terms, prepare special terms, standard terms applicable, prepare contract, send quote, review request] |\n",
      "Precedence[assess risks, calculate terms, prepare special terms, standard terms applicable, prepare contract, send quote, review request] |\n",
      "Alternate Precedence[assess risks, calculate terms, prepare special terms, standard terms applicable, prepare contract, send quote, review request] |\n",
      "Precedence[assess risks, calculate terms, prepare special terms, standard terms applicable, prepare contract, send quote, review request] |\n",
      "Alternate Precedence[assess risks, calculate terms, prepare special terms, standard terms applicable, prepare contract, send quote, review request] |\n",
      "Precedence[assess risks, calculate terms, prepare special terms, standard terms applicable, prepare contract, send quote, review request] |\n",
      "Alternate Precedence[assess risks, calculate terms, prepare special terms, standard terms applicable, prepare contract, send quote, review request] |\n",
      "Precedence[assess risks, calculate terms, prepare special terms, standard terms applicable, prepare contract, send quote, review request] |\n",
      "Alternate Precedence[assess risks, calculate terms, prepare special terms, standard terms applicable, prepare contract, send quote, review request] |\n",
      "Precedence[assess risks, calculate terms, prepare special terms, standard terms applicable, prepare contract, send quote, review request] |\n",
      "Alternate Precedence[assess risks, calculate terms, prepare special terms, standard terms applicable, prepare contract, send quote, review request] |\n",
      "Response[assess risks, calculate terms, prepare special terms, standard terms applicable, prepare contract, send quote, review request] |\n",
      "Alternate Response[assess risks, calculate terms, prepare special terms, standard terms applicable, prepare contract, send quote, review request] |\n",
      "Response[assess risks, calculate terms, prepare special terms, standard terms applicable, prepare contract, send quote, review request] |\n",
      "Alternate Response[assess risks, calculate terms, prepare special terms, standard terms applicable, prepare contract, send quote, review request] |\n",
      "End[assess risks, calculate terms, prepare special terms, standard terms applicable, prepare contract, send quote, review request] |\n",
      "Response[assess risks, calculate terms, prepare special terms, standard terms applicable, prepare contract, send quote, review request] |\n",
      "Alternate Response[assess risks, calculate terms, prepare special terms, standard terms applicable, prepare contract, send quote, review request] |\n",
      "Response[assess risks, calculate terms, prepare special terms, standard terms applicable, prepare contract, send quote, review request] |\n",
      "Alternate Response[assess risks, calculate terms, prepare special terms, standard terms applicable, prepare contract, send quote, review request] |\n"
     ]
    }
   ],
   "source": [
    "path = \"../examples/main_example/Credit_quote_creation_simplified_SAP Signavio.xml\"\n",
    "#bpmnconstraints defaults to DECLARE so assigning it is for clarity\n",
    "model.parse_from_file(model_path=path)  \n",
    "declare_model = model.declare_model\n",
    "print(\"----------------LTLf constraints----------------\")\n",
    "#for constraint in model.ltl_model:\n",
    "    #print(constraint)\n",
    "print(\"\\n---------------DECLARE constraints---------------\")\n",
    "for constraint in declare_model.get_decl_model_constraints():\n",
    "    print(constraint)"
   ]
  },
  {
   "cell_type": "code",
   "execution_count": null,
   "metadata": {},
   "outputs": [
    {
     "name": "stdout",
     "output_type": "stream",
     "text": [
      "Model activities:\n",
      "-----------------\n",
      "\n",
      "\n",
      "Model constraints:\n",
      "-----------------\n"
     ]
    }
   ],
   "source": [
    "\n",
    "\n",
    "#path = os.path.join(\"../\",\"examples\", \"linear\",\"linear_sequence.xml\")\n",
    "path = \"../examples/main_example/Credit_quote_creation_simplified_SAP Signavio.xml\"\n",
    "model = BpmnConstraintsModel()\n",
    "model.parse_from_file(path)\n",
    "\n",
    "\n",
    "model_activities = model.declare_model.get_model_activities()\n",
    "model_constraints = model.declare_model.get_decl_model_constraints()\n",
    "print(\"Model activities:\")\n",
    "print(\"-----------------\")\n",
    "for idx, act in enumerate(model_activities):\n",
    "    print(idx, act)\n",
    "print(\"\\n\")\n",
    "print(\"Model constraints:\")\n",
    "print(\"-----------------\")\n",
    "for idx, con in enumerate(model_constraints):\n",
    "    print(idx, con)\n"
   ]
  },
  {
   "cell_type": "code",
   "execution_count": null,
   "metadata": {},
   "outputs": [
    {
     "name": "stderr",
     "output_type": "stream",
     "text": [
      "parsing log, completed traces :: 100%|██████████| 1050/1050 [00:00<00:00, 2454.43it/s]\n",
      "/home/fleph/sap/Declare4Py/.venv/lib64/python3.11/site-packages/pm4py/utils.py:486: UserWarning: the EventLog class has been deprecated and will be removed in a future release.\n",
      "  warnings.warn(\"the EventLog class has been deprecated and will be removed in a future release.\")\n"
     ]
    },
    {
     "ename": "IndexError",
     "evalue": "list index out of range",
     "output_type": "error",
     "traceback": [
      "\u001b[0;31m---------------------------------------------------------------------------\u001b[0m",
      "\u001b[0;31mIndexError\u001b[0m                                Traceback (most recent call last)",
      "\u001b[1;32m/home/fleph/sap/Declare4Py/Declare4Py/Utils/bpmnconstraints/tutorial/1.Translating_XML_to_constraints.ipynb Cell 8\u001b[0m line \u001b[0;36m1\n\u001b[1;32m      <a href='vscode-notebook-cell:/home/fleph/sap/Declare4Py/Declare4Py/Utils/bpmnconstraints/tutorial/1.Translating_XML_to_constraints.ipynb#X10sZmlsZQ%3D%3D?line=6'>7</a>\u001b[0m event_log\u001b[39m.\u001b[39mparse_xes_log(log_path)\n\u001b[1;32m     <a href='vscode-notebook-cell:/home/fleph/sap/Declare4Py/Declare4Py/Utils/bpmnconstraints/tutorial/1.Translating_XML_to_constraints.ipynb#X10sZmlsZQ%3D%3D?line=10'>11</a>\u001b[0m basic_checker \u001b[39m=\u001b[39m MPDeclareAnalyzer(log\u001b[39m=\u001b[39mevent_log, declare_model\u001b[39m=\u001b[39mdeclare_model, consider_vacuity\u001b[39m=\u001b[39m\u001b[39mFalse\u001b[39;00m)\n\u001b[0;32m---> <a href='vscode-notebook-cell:/home/fleph/sap/Declare4Py/Declare4Py/Utils/bpmnconstraints/tutorial/1.Translating_XML_to_constraints.ipynb#X10sZmlsZQ%3D%3D?line=11'>12</a>\u001b[0m conf_check_res: MPDeclareResultsBrowser \u001b[39m=\u001b[39m basic_checker\u001b[39m.\u001b[39;49mrun()\n",
      "File \u001b[0;32m~/sap/Declare4Py/Declare4Py/ProcessMiningTasks/ConformanceChecking/MPDeclareAnalyzer.py:46\u001b[0m, in \u001b[0;36mMPDeclareAnalyzer.run\u001b[0;34m(self)\u001b[0m\n\u001b[1;32m     44\u001b[0m log_checkers_results \u001b[39m=\u001b[39m []\n\u001b[1;32m     45\u001b[0m \u001b[39mfor\u001b[39;00m trace \u001b[39min\u001b[39;00m \u001b[39mself\u001b[39m\u001b[39m.\u001b[39mevent_log\u001b[39m.\u001b[39mget_log():\n\u001b[0;32m---> 46\u001b[0m     log_checkers_results\u001b[39m.\u001b[39mappend(ConstraintChecker()\u001b[39m.\u001b[39;49mcheck_trace_conformance(trace, \u001b[39mself\u001b[39;49m\u001b[39m.\u001b[39;49mprocess_model,\n\u001b[1;32m     47\u001b[0m                                                                             \u001b[39mself\u001b[39;49m\u001b[39m.\u001b[39;49mconsider_vacuity,\n\u001b[1;32m     48\u001b[0m                                                                             \u001b[39mself\u001b[39;49m\u001b[39m.\u001b[39;49mevent_log\u001b[39m.\u001b[39;49mactivity_key))\n\u001b[1;32m     49\u001b[0m \u001b[39mreturn\u001b[39;00m MPDeclareResultsBrowser(log_checkers_results, \u001b[39mself\u001b[39m\u001b[39m.\u001b[39mprocess_model\u001b[39m.\u001b[39mserialized_constraints)\n",
      "File \u001b[0;32m~/sap/Declare4Py/Declare4Py/Utils/Declare/Checkers.py:40\u001b[0m, in \u001b[0;36mConstraintChecker.check_trace_conformance\u001b[0;34m(self, trace, decl_model, consider_vacuity, concept_name)\u001b[0m\n\u001b[1;32m     38\u001b[0m \u001b[39mfor\u001b[39;00m idx, constraint \u001b[39min\u001b[39;00m \u001b[39menumerate\u001b[39m(model\u001b[39m.\u001b[39mconstraints):\n\u001b[1;32m     39\u001b[0m     constraint_str \u001b[39m=\u001b[39m model\u001b[39m.\u001b[39mserialized_constraints[idx]\n\u001b[0;32m---> 40\u001b[0m     rules[\u001b[39m\"\u001b[39m\u001b[39mactivation\u001b[39m\u001b[39m\"\u001b[39m] \u001b[39m=\u001b[39m constraint[\u001b[39m'\u001b[39;49m\u001b[39mcondition\u001b[39;49m\u001b[39m'\u001b[39;49m][\u001b[39m0\u001b[39;49m]\n\u001b[1;32m     41\u001b[0m     \u001b[39mif\u001b[39;00m constraint[\u001b[39m'\u001b[39m\u001b[39mtemplate\u001b[39m\u001b[39m'\u001b[39m]\u001b[39m.\u001b[39msupports_cardinality:\n\u001b[1;32m     42\u001b[0m         rules[\u001b[39m\"\u001b[39m\u001b[39mn\u001b[39m\u001b[39m\"\u001b[39m] \u001b[39m=\u001b[39m constraint[\u001b[39m'\u001b[39m\u001b[39mn\u001b[39m\u001b[39m'\u001b[39m]\n",
      "\u001b[0;31mIndexError\u001b[0m: list index out of range"
     ]
    }
   ],
   "source": [
    "from Declare4Py.D4PyEventLog import D4PyEventLog\n",
    "from Declare4Py.ProcessMiningTasks.ConformanceChecking.MPDeclareAnalyzer import MPDeclareAnalyzer\n",
    "from Declare4Py.ProcessMiningTasks.ConformanceChecking.MPDeclareResultsBrowser import MPDeclareResultsBrowser\n",
    "\n",
    "log_path = os.path.join(\"../../../../\", \"tests\", \"test_logs\",\"Sepsis Cases.xes.gz\")\n",
    "event_log = D4PyEventLog(case_name=\"case:concept:name\")\n",
    "event_log.parse_xes_log(log_path)\n",
    "\n",
    "\n",
    "\n",
    "basic_checker = MPDeclareAnalyzer(log=event_log, declare_model=declare_model, consider_vacuity=False)\n",
    "conf_check_res: MPDeclareResultsBrowser = basic_checker.run()"
   ]
  }
 ],
 "metadata": {
  "kernelspec": {
   "display_name": "Python 3",
   "language": "python",
   "name": "python3"
  },
  "language_info": {
   "codemirror_mode": {
    "name": "ipython",
    "version": 3
   },
   "file_extension": ".py",
   "mimetype": "text/x-python",
   "name": "python",
   "nbconvert_exporter": "python",
   "pygments_lexer": "ipython3",
   "version": "3.11.6"
  }
 },
 "nbformat": 4,
 "nbformat_minor": 5
}
