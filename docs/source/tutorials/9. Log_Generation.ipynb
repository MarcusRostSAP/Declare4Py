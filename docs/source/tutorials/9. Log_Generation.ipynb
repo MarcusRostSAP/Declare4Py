{
 "cells": [
  {
   "cell_type": "markdown",
   "id": "4f5a9a59",
   "metadata": {},
   "source": [
    "# Synthetic Log Generation from DECLARE Models\n",
    "\n",
    "DECLARE4Py implements the generation of synthetic logs from DECLARE models with a solution based on Answer Set Programming that uses a Clingo solver. More details can be found in the paper Chiariello, F., Maggi, F. M., & Patrizi, F. (2022, June). ASP-Based Declarative Process Mining. In *Proceedings of the AAAI Conference on Artificial Intelligence* (Vol. 36, No. 5, pp. 5539-5547).\n",
    "\n",
    "As first step, it is necessary to import a `.decl` file containing the DECLARE constraints."
   ]
  },
  {
   "cell_type": "code",
   "execution_count": 86,
   "id": "bdf42d09",
   "metadata": {},
   "outputs": [],
   "source": [
    "import sys\n",
    "import os\n",
    "import pathlib\n",
    "\n",
    "SCRIPT_DIR = pathlib.Path(\"../../../\", \"src\").resolve()\n",
    "sys.path.append(os.path.dirname(SCRIPT_DIR))\n",
    "\n",
    "from src.Declare4Py.ProcessModels.DeclareModel import DeclareModel\n",
    "\n",
    "model_name = 'sepsis'\n",
    "model: DeclareModel = DeclareModel().parse_from_file(os.path.join(\"decl_files\", f\"{model_name}.decl\"))"
   ]
  },
  {
   "cell_type": "markdown",
   "id": "7a9b8417",
   "metadata": {},
   "source": [
    "Then, some general settings are needed to set the number of cases to generate and the minimum and maximum number of events for each case"
   ]
  },
  {
   "cell_type": "code",
   "execution_count": 87,
   "id": "785a61eb",
   "metadata": {},
   "outputs": [],
   "source": [
    "# Number of cases that have be generated\n",
    "num_of_cases = 15\n",
    "\n",
    "# Minimum and maximum number of events a case can contain\n",
    "(num_min_events, num_max_events) = (3, 10)"
   ]
  },
  {
   "cell_type": "markdown",
   "id": "6a06484d",
   "metadata": {},
   "source": [
    "The class `AspGenerator` has to be instantiated with the DECLARE model and the settings of above. Then, the `run` method will generate the cases and the `to_xes` method will save them in a `.xes` event log."
   ]
  },
  {
   "cell_type": "code",
   "execution_count": 88,
   "id": "e3669320",
   "metadata": {},
   "outputs": [],
   "source": [
    "from src.Declare4Py.ProcessMiningTasks.ASPLogGeneration.asp_generator import AspGenerator\n",
    "\n",
    "asp_gen: AspGenerator = AspGenerator(model, num_of_cases, num_min_events, num_max_events)\n",
    "asp_gen.run()"
   ]
  },
  {
   "cell_type": "code",
   "execution_count": 89,
   "id": "188777b4",
   "metadata": {},
   "outputs": [
    {
     "data": {
      "application/vnd.jupyter.widget-view+json": {
       "model_id": "bb49e0232f1040879634e35004efa6f3",
       "version_major": 2,
       "version_minor": 0
      },
      "text/plain": [
       "exporting log, completed traces ::   0%|          | 0/15 [00:00<?, ?it/s]"
      ]
     },
     "metadata": {},
     "output_type": "display_data"
    }
   ],
   "source": [
    "asp_gen.to_xes(f'{model_name}.xes')"
   ]
  },
  {
   "cell_type": "markdown",
   "id": "d1a80293",
   "metadata": {},
   "source": [
    "Logs can be generated with some **purposes** according to the needs of Process Mining algorithms. DECLARE4Py implements four useful purposes that can be set with the following methods of the `AspGenerator` class.\n",
    "\n",
    "\n",
    "## 1. Setting up the Length Distribution of the Cases\n",
    "\n",
    "Users can specify a probability distribution over the lengths of the generated traces. The method `set_distribution` takes as parameter the `distributor_type`. By setting this parameter with the `uniform` value, a uniform distribution in `[num_min_events, num_max_events]` is chosen."
   ]
  },
  {
   "cell_type": "code",
   "execution_count": 90,
   "id": "7b624f2d",
   "metadata": {},
   "outputs": [
    {
     "data": {
      "application/vnd.jupyter.widget-view+json": {
       "model_id": "26d979344688414db858fc0a06e9f3c2",
       "version_major": 2,
       "version_minor": 0
      },
      "text/plain": [
       "exporting log, completed traces ::   0%|          | 0/15 [00:00<?, ?it/s]"
      ]
     },
     "metadata": {},
     "output_type": "display_data"
    }
   ],
   "source": [
    "asp_gen.set_distribution(distributor_type=\"uniform\")\n",
    "\n",
    "asp_gen: AspGenerator = AspGenerator(model, num_of_cases, num_min_events, num_max_events)\n",
    "asp_gen.run()\n",
    "asp_gen.to_xes(f'{model_name}.xes')"
   ]
  },
  {
   "cell_type": "markdown",
   "id": "8fc1cfec",
   "metadata": {},
   "source": [
    "A `gaussian` distribution requires a location (the mean) and a scale (the variance)"
   ]
  },
  {
   "cell_type": "code",
   "execution_count": 91,
   "id": "b094a88f",
   "metadata": {},
   "outputs": [
    {
     "data": {
      "application/vnd.jupyter.widget-view+json": {
       "model_id": "bc7e848913e145e1af3e5eadc958ef60",
       "version_major": 2,
       "version_minor": 0
      },
      "text/plain": [
       "exporting log, completed traces ::   0%|          | 0/15 [00:00<?, ?it/s]"
      ]
     },
     "metadata": {},
     "output_type": "display_data"
    }
   ],
   "source": [
    "asp_gen.set_distribution(distributor_type=\"gaussian\", loc=5, scale= 2)\n",
    "\n",
    "asp_gen: AspGenerator = AspGenerator(model, num_of_cases, num_min_events, num_max_events)\n",
    "asp_gen.run()\n",
    "asp_gen.to_xes(f'{model_name}.xes')"
   ]
  },
  {
   "cell_type": "markdown",
   "id": "d17bb2bf",
   "metadata": {},
   "source": [
    "A `custom` distribution requires the user to set the probability for each length in `[num_min_events, num_max_events]`"
   ]
  },
  {
   "cell_type": "code",
   "execution_count": 92,
   "id": "b5e657eb",
   "metadata": {},
   "outputs": [
    {
     "data": {
      "application/vnd.jupyter.widget-view+json": {
       "model_id": "fb7f2130ad9c42a0953897a2b062e65d",
       "version_major": 2,
       "version_minor": 0
      },
      "text/plain": [
       "exporting log, completed traces ::   0%|          | 0/15 [00:00<?, ?it/s]"
      ]
     },
     "metadata": {},
     "output_type": "display_data"
    }
   ],
   "source": [
    "asp_gen.set_distribution(distributor_type=\"custom\",\n",
    "                         custom_probabilities=[0.1, 0.1, 0.1, 0.1, 0.1, 0.1, 0.1, 0.3])\n",
    "\n",
    "asp_gen: AspGenerator = AspGenerator(model, num_of_cases, num_min_events, num_max_events)\n",
    "asp_gen.run()\n",
    "asp_gen.to_xes(f'{model_name}.xes')"
   ]
  },
  {
   "cell_type": "markdown",
   "id": "0a4122d0",
   "metadata": {},
   "source": [
    "## 2. Setting up the Variants\n",
    "\n",
    "Users can generate variants by setting the number of repetitions of the workflow of each case. This is done with the `set_number_of_repetition_per_trace` method"
   ]
  },
  {
   "cell_type": "code",
   "execution_count": 93,
   "id": "bbdedc87",
   "metadata": {},
   "outputs": [
    {
     "data": {
      "application/vnd.jupyter.widget-view+json": {
       "model_id": "ca97384e02b647efa1b750ec4927dd46",
       "version_major": 2,
       "version_minor": 0
      },
      "text/plain": [
       "exporting log, completed traces ::   0%|          | 0/15 [00:00<?, ?it/s]"
      ]
     },
     "metadata": {},
     "output_type": "display_data"
    }
   ],
   "source": [
    "asp_gen.set_number_of_repetition_per_trace(5)\n",
    "\n",
    "asp_gen: AspGenerator = AspGenerator(model, num_of_cases, num_min_events, num_max_events)\n",
    "asp_gen.run()\n",
    "asp_gen.to_xes(f'{model_name}.xes')"
   ]
  },
  {
   "cell_type": "markdown",
   "id": "5d94874a",
   "metadata": {},
   "source": [
    "## Setting up Positive and Negative Traces\n",
    "\n",
    "Users can specify some constraints to be violated in the synthetic cases to obtain labelled logs for binary classification, e.g., for deviance mining algorithms. The method `set_constraints_to_violate` takes as input:\n",
    "\n",
    "1. `tot_negative_trace`: the number of negative cases to be violated;\n",
    "2. `violate_all`: whether to violate *all* the specified constraints or let Clingo decide which constraints to be violated;\n",
    "3. `constraints_list`: the list containing the subset of DECLARE constraints (specified as strings of text) to be violated."
   ]
  },
  {
   "cell_type": "code",
   "execution_count": 94,
   "id": "982111f4",
   "metadata": {},
   "outputs": [
    {
     "data": {
      "application/vnd.jupyter.widget-view+json": {
       "model_id": "03c894a0e0474dd5b2ad3660922b30a8",
       "version_major": 2,
       "version_minor": 0
      },
      "text/plain": [
       "exporting log, completed traces ::   0%|          | 0/15 [00:00<?, ?it/s]"
      ]
     },
     "metadata": {},
     "output_type": "display_data"
    }
   ],
   "source": [
    "asp.set_constraints_to_violate(tot_negative_trace=15, violate_all=True, constraints_list=[\n",
    "    \"Init[ER Registration] | |\",\n",
    "    \"Chain Response[ER Registration, ER Triage] |A.org:group is J |T.org:group is A |\"])\n",
    "\n",
    "asp_gen: AspGenerator = AspGenerator(model, num_of_cases, num_min_events, num_max_events)\n",
    "asp_gen.run()\n",
    "asp_gen.to_xes(f'{model_name}.xes')"
   ]
  },
  {
   "cell_type": "markdown",
   "id": "14eda967",
   "metadata": {},
   "source": [
    "In addition, instead of giving the explicit text of the DECLARE constraint, an index can be used in the `set_constraints_to_violate_by_template_index` method"
   ]
  },
  {
   "cell_type": "code",
   "execution_count": 95,
   "id": "31e4b953",
   "metadata": {},
   "outputs": [
    {
     "name": "stdout",
     "output_type": "stream",
     "text": [
      "0 - Init[ER Registration] | |\n",
      "1 - Response[Admission NC, Release B] | | |\n",
      "2 - Precedence[IV Liquid, Admission NC] | | |\n",
      "3 - Chain Response[ER Registration, ER Triage] |A.org:group is J |T.org:group is A |\n",
      "4 - Chain Response[LacticAcid, Leucocytes] |A.LacticAcid <= 0.8 |T.Leucocytes >= 13.8 |\n"
     ]
    },
    {
     "data": {
      "application/vnd.jupyter.widget-view+json": {
       "model_id": "b6159d3e91ac42d286637efd635e7ae1",
       "version_major": 2,
       "version_minor": 0
      },
      "text/plain": [
       "exporting log, completed traces ::   0%|          | 0/15 [00:00<?, ?it/s]"
      ]
     },
     "metadata": {},
     "output_type": "display_data"
    }
   ],
   "source": [
    "for id, constr_text in enumerate(model.serialized_constraints):\n",
    "    print(f\"{id} - {constr_text}\")\n",
    "\n",
    "asp.set_constraints_to_violate_by_template_index(tot_negative_trace=15, violate_all=True, \n",
    "                                                 constraints_idx_list=[0, 3])\n",
    "\n",
    "asp_gen: AspGenerator = AspGenerator(model, num_of_cases, num_min_events, num_max_events)\n",
    "asp_gen.run()\n",
    "asp_gen.to_xes(f'{model_name}.xes')"
   ]
  },
  {
   "cell_type": "markdown",
   "id": "9d948642",
   "metadata": {},
   "source": [
    "## Setting up Rules for the Activation Conditions\n",
    "\n",
    "Users can specify the number of activations of a DECLARE constraint in the synthetic cases. This can be done with the `set_activation_conditions` method by specifying an interval of activations for specific DECLARE constraints in the loaded model"
   ]
  },
  {
   "cell_type": "code",
   "execution_count": 96,
   "id": "9a2f7727",
   "metadata": {},
   "outputs": [
    {
     "data": {
      "application/vnd.jupyter.widget-view+json": {
       "model_id": "0a6cea3515e64756a29ce2ce9a899b45",
       "version_major": 2,
       "version_minor": 0
      },
      "text/plain": [
       "exporting log, completed traces ::   0%|          | 0/15 [00:00<?, ?it/s]"
      ]
     },
     "metadata": {},
     "output_type": "display_data"
    }
   ],
   "source": [
    "asp.set_activation_conditions({\n",
    "    'Chain Response[ER Registration, ER Triage] |A.org:group is J |T.org:group is A |': \n",
    "    [3, 5]})  # activation should occur between 3 to 5 times\n",
    "\n",
    "asp_gen: AspGenerator = AspGenerator(model, num_of_cases, num_min_events, num_max_events)\n",
    "asp_gen.run()\n",
    "asp_gen.to_xes(f'{model_name}.xes')"
   ]
  },
  {
   "cell_type": "markdown",
   "id": "d28a4daf",
   "metadata": {},
   "source": [
    "In addition, instead of giving the explicit text of the DECLARE constraints, an index can be used in the `set_activation_conditions_by_template_index` method"
   ]
  },
  {
   "cell_type": "code",
   "execution_count": 97,
   "id": "81518fa8",
   "metadata": {},
   "outputs": [
    {
     "name": "stdout",
     "output_type": "stream",
     "text": [
      "0 - Init[ER Registration] | |\n",
      "1 - Response[Admission NC, Release B] | | |\n",
      "2 - Precedence[IV Liquid, Admission NC] | | |\n",
      "3 - Chain Response[ER Registration, ER Triage] |A.org:group is J |T.org:group is A |\n",
      "4 - Chain Response[LacticAcid, Leucocytes] |A.LacticAcid <= 0.8 |T.Leucocytes >= 13.8 |\n"
     ]
    },
    {
     "data": {
      "application/vnd.jupyter.widget-view+json": {
       "model_id": "ae770ad5203a4f6c86bbfbd655deb40d",
       "version_major": 2,
       "version_minor": 0
      },
      "text/plain": [
       "exporting log, completed traces ::   0%|          | 0/15 [00:00<?, ?it/s]"
      ]
     },
     "metadata": {},
     "output_type": "display_data"
    }
   ],
   "source": [
    "for id, constr_text in enumerate(model.serialized_constraints):\n",
    "    print(f\"{id} - {constr_text}\")\n",
    "\n",
    "asp.set_activation_conditions_by_template_index({2: [3, 5]})\n",
    "\n",
    "asp_gen: AspGenerator = AspGenerator(model, num_of_cases, num_min_events, num_max_events)\n",
    "asp_gen.run()\n",
    "asp_gen.to_xes(f'{model_name}.xes')"
   ]
  }
 ],
 "metadata": {
  "kernelspec": {
   "display_name": "Python 3 (ipykernel)",
   "language": "python",
   "name": "python3"
  },
  "language_info": {
   "codemirror_mode": {
    "name": "ipython",
    "version": 3
   },
   "file_extension": ".py",
   "mimetype": "text/x-python",
   "name": "python",
   "nbconvert_exporter": "python",
   "pygments_lexer": "ipython3",
   "version": "3.9.7"
  }
 },
 "nbformat": 4,
 "nbformat_minor": 5
}
