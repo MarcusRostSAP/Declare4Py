{
 "cells": [
  {
   "cell_type": "markdown",
   "id": "5279e90c",
   "metadata": {},
   "source": [
    "# Log Filters\n",
    "\n",
    "The class `ProcessMiningTasks.LogFiltering.BasicFilters.BasicFilters` provides several functions to filter a log according to some input requirements. The `BasicFilters` class provides the following filtering functions:\n",
    "\n",
    "1. `filter_time_range_contained` that filters a log on a time interval.\n",
    "2. `filter_case_performance` that filters the log by a range of minimum performance and maximum performance, which is the duration of a case.\n",
    "3. `filter_start_activities` that filters all the activities that start with the specified set of start activities.\n",
    "4. `filter_end_activities` that filters all the activities that end with the specified set of end activities.\n",
    "5. `filter_variants_top_k` retains the top-k variants of the log.\n",
    "6. `filter_variants` filters a log by a specified set of variants.\n",
    "7. `filter_event_attribute_values` filters a log by the values of some event attribute. \n",
    "\n",
    "We first import such a class and the input `xes` log."
   ]
  },
  {
   "cell_type": "code",
   "execution_count": null,
   "id": "d276cc2d",
   "metadata": {},
   "outputs": [],
   "source": [
    "import sys\n",
    "import os\n",
    "import pathlib\n",
    "\n",
    "SCRIPT_DIR = pathlib.Path(\"../../../\", \"src\").resolve()\n",
    "sys.path.append(os.path.dirname(SCRIPT_DIR))\n",
    "\n",
    "from src.Declare4Py.ProcessMiningTasks.LogFiltering.BasicFilters import BasicFilters\n",
    "from src.Declare4Py.D4PyEventLog import D4PyEventLog\n",
    "\n",
    "log_path = os.path.join(\"../../../\", \"tests\", \"test_logs\",\"Sepsis Cases.xes.gz\")\n",
    "event_log = D4PyEventLog()\n",
    "event_log.parse_xes_log(log_path)"
   ]
  },
  {
   "cell_type": "markdown",
   "id": "1225a100",
   "metadata": {},
   "source": [
    "Then, the `BasicFilters` class is built from the `event_log` object."
   ]
  },
  {
   "cell_type": "code",
   "execution_count": null,
   "id": "e5ae55fa",
   "metadata": {},
   "outputs": [],
   "source": [
    "log_filters = BasicFilters(event_log)"
   ]
  },
  {
   "cell_type": "markdown",
   "id": "a6774faa",
   "metadata": {},
   "source": [
    "## `filter_time_range_contained`\n",
    "\n",
    "The method `filter_time_range_contained` filters a log on a time interval. It takes as input: \n",
    "- `start_date` as a string of type `2013-01-01 00:00:00`; \n",
    "- `end_date` a string of type `2013-01-01 00:00:00`; \n",
    "- `mode` is modality of filtering (takes as input the values `events`, `traces_contained`, `traces_intersecting`). `events`: any event that fits the time frame is retained; `traces_contained`: any trace completely contained in the timeframe is retained; `traces_intersecting`: any trace intersecting with the time-frame is retained."
   ]
  },
  {
   "cell_type": "code",
   "execution_count": null,
   "id": "8816640b",
   "metadata": {},
   "outputs": [],
   "source": [
    "filtered_log = log_filters.filter_time_range_contained(\"2013-01-01 00:00:00\", \"2015-12-31 23:59:59\", mode='traces_contained')\n",
    "print(f\"Filtered log for time range:\\n{filtered_log}\")\n",
    "print(\"--------------------------------------\")\n",
    "\n",
    "filtered_log = log_filters.filter_time_range_contained(\"2013-01-01 00:00:00\", \"2015-12-31 23:59:59\", mode='traces_constrained')\n",
    "print(f\"Filtered log for time range:\\n{filtered_log}\")\n",
    "print(\"--------------------------------------\")\n",
    "\n",
    "filtered_log = log_filters.filter_time_range_contained(\"2013-01-01 00:00:00\", \"2015-12-31 23:59:59\", mode='events')\n",
    "print(f\"Filtered log for time range:\\n{filtered_log}\")"
   ]
  },
  {
   "cell_type": "markdown",
   "id": "e9255a38",
   "metadata": {},
   "source": [
    "## `filter_case_performance`\n",
    "\n",
    "The method `filter_case_performance` filters the log keeping the cases having a duration (the timestamp of the last event minus the timestamp of the first event) included between `min_performance` and `max_performance`. It takes as input:\n",
    "- `min_performace`: a floating point value that represents the minimum value of the range;\n",
    "- `max_performance`: a floating point value that represents the maximum value of the range."
   ]
  },
  {
   "cell_type": "code",
   "execution_count": null,
   "id": "17128633",
   "metadata": {},
   "outputs": [],
   "source": [
    "filtered_log = log_filters.filter_case_performance(86400, 864000)\n",
    "print(f\"Filtered on case performance:\\n{filtered_log}\")"
   ]
  },
  {
   "cell_type": "markdown",
   "id": "ea3756bc",
   "metadata": {},
   "source": [
    "## `filter_start_activities`\n",
    "\n",
    "The method `filter_start_activities` filters all the activities that start with the specified set of start activities. It takes as input:\n",
    "- `activities` can be either a set or a list. It is the collection of start activities;\n",
    "- `retain` a boolean value that if True, retains the traces containing the given start activities, if false, the traces are dropped, default values is: `True`."
   ]
  },
  {
   "cell_type": "code",
   "execution_count": null,
   "id": "c9991b13",
   "metadata": {},
   "outputs": [],
   "source": [
    "start_activities = [\"ER Registration\", \"CRP\"]\n",
    "filtered_log = log_filters.filter_start_activities(start_activities)\n",
    "print(f\"First event of the filtered log with {start_activities} as start activities:\\n\")\n",
    "for case in filtered_log:\n",
    "    print(case[0])"
   ]
  },
  {
   "cell_type": "markdown",
   "id": "665284e7",
   "metadata": {},
   "source": [
    "##  `filter_end_activities`\n",
    "\n",
    "The method `filter_end_activities` filters all the activities that end with the specified set of end activities. It takes as input:\n",
    "- `activities` can be either a set or a list. It is the collection of the end activities;\n",
    "- `retain` a boolean value that if True, retains the traces containing the given start activities, if false, the traces are dropped, default values is: `True`."
   ]
  },
  {
   "cell_type": "code",
   "execution_count": null,
   "id": "aaa1f112",
   "metadata": {},
   "outputs": [],
   "source": [
    "end_activities = [\"Release A\", \"Release C\"]\n",
    "filtered_log = log_filters.filter_end_activities(end_activities)\n",
    "print(f\"Last event of the filtered log with {end_activities} as end activities:\\n\")\n",
    "for case in filtered_log:\n",
    "    print(case[-1])"
   ]
  },
  {
   "cell_type": "markdown",
   "id": "b752a14e",
   "metadata": {},
   "source": [
    "## `filter_variants_top_k`\n",
    "\n",
    "The method `filter_variants_top_k` retains the top-k variants of the log. It takes as input:\n",
    "- `k` number of variants that should be kept."
   ]
  },
  {
   "cell_type": "code",
   "execution_count": null,
   "id": "61ea7e8c",
   "metadata": {},
   "outputs": [],
   "source": [
    "k = 2\n",
    "filtered_variants = log_filters.filter_variants_top_k(k)\n",
    "print(f\"Filtered log on cases following one of the {k} most frequent variants:\\n{filtered_variants}\")"
   ]
  },
  {
   "cell_type": "markdown",
   "id": "bb98240f",
   "metadata": {},
   "source": [
    "## `filter_variants`\n",
    "\n",
    "The method `filter_variants` filters a log by a specified set of variants. It takes as input:\n",
    "- `variants` can be either a set or a list. It is the collection of the variants by which we want to filter;\n",
    "- `retain` a boolean value that if True, retains the traces containing the given start activities, if false, the traces are dropped, default values is: `True`."
   ]
  },
  {
   "cell_type": "code",
   "execution_count": null,
   "id": "cb052fdd",
   "metadata": {},
   "outputs": [],
   "source": [
    "filtered_variants = log_filters.filter_variants([(\"ER Registration\", \"Leucocytes\", \"CRP\", \"LacticAcid\", \"ER Triage\", \"ER Sepsis Triage\", \"IV Liquid\", \"IV Antibiotics\", \"Admission NC\", \"CRP,Leucocytes\", \"Leucocytes\", \"CRP\", \"Leucocytes\", \"CRP\", \"CRP\", \"Leucocytes\", \"Leucocytes\", \"CRP\", \"CRP\", \"Leucocytes\", \"Release A\")])\n",
    "print(f\"Filtered variants on given collection:\\n{filtered_variants}\")"
   ]
  },
  {
   "cell_type": "markdown",
   "id": "9eb08b19",
   "metadata": {},
   "source": [
    "## `filter_event_attribute_values`\n",
    "\n",
    "The method `filter_event_attribute_values` filters an event log by the values of some event attribute. It takes as inputs: \n",
    "- `attribute_key` attribute to filter;\n",
    "- `values` admitted (or forbidden) values (accepted both sets and lists);\n",
    "- `level` specifies how the filter should be applied, default values is: `case`, which filters the cases where at least one occurrence happens, `event` filter the events eventually trimming the cases;\n",
    "- `retain` a boolean value that specifies if the values should be kept or removed, default values is: `True`."
   ]
  },
  {
   "cell_type": "code",
   "execution_count": null,
   "id": "fbf6f92e",
   "metadata": {},
   "outputs": [],
   "source": [
    "# This filter keeps the cases where the attribute 'org:group' (i.e., the resource) takes 'A' or 'B' as values\n",
    "filtered_log = log_filters.filter_event_attribute_values('org:group', ['A', 'B'], level=\"case\", retain=True)\n",
    "print(f\"Cases where org:group is A or B:\\n{filtered_log}\")"
   ]
  },
  {
   "cell_type": "code",
   "execution_count": null,
   "id": "8e791fbf",
   "metadata": {},
   "outputs": [],
   "source": [
    "# This filter keeps the cases where the attribute 'Age' is not 85 as values\n",
    "filtered_log = log_filters.filter_event_attribute_values('Age', [85], level=\"case\", retain=False)\n",
    "print(f\"Cases where age is not 85:\\n{filtered_log}\")"
   ]
  }
 ],
 "metadata": {
  "kernelspec": {
   "display_name": "Python 3 (ipykernel)",
   "language": "python",
   "name": "python3"
  },
  "language_info": {
   "codemirror_mode": {
    "name": "ipython",
    "version": 3
   },
   "file_extension": ".py",
   "mimetype": "text/x-python",
   "name": "python",
   "nbconvert_exporter": "python",
   "pygments_lexer": "ipython3",
   "version": "3.9.7"
  },
  "vscode": {
   "interpreter": {
    "hash": "05d4b7c3cd0aad81aa9df4db91d3eeeb2841d831664bc3cb6ce2ef5b755f059a"
   }
  }
 },
 "nbformat": 4,
 "nbformat_minor": 5
}
