{
 "cells": [
  {
   "cell_type": "markdown",
   "id": "0009d44f-be72-4bb2-9ca6-487a2be24ce1",
   "metadata": {
    "tags": []
   },
   "source": [
    "# Generate pm4py log using ASP Generator\n",
    "\n",
    "ASP log generator uses the decl model which converts the model into abudction logic programming and pass to the clingo.\n",
    "Clingo generates the output which is turned into the pm4py log or can be created a .xes file.\n"
   ]
  },
  {
   "cell_type": "code",
   "execution_count": 1,
   "id": "1eb21bf2-bf41-46b2-96e3-806047cc8cb1",
   "metadata": {},
   "outputs": [
    {
     "name": "stdout",
     "output_type": "stream",
     "text": [
      "Python 3.9.12\n"
     ]
    }
   ],
   "source": [
    "!python --version"
   ]
  },
  {
   "cell_type": "code",
   "execution_count": 2,
   "id": "d5d2c259-df33-4c09-9663-e9b5b678ba9e",
   "metadata": {},
   "outputs": [],
   "source": [
    "%config Completer.use_jedi = False"
   ]
  },
  {
   "cell_type": "code",
   "execution_count": 3,
   "id": "2938753f-7b7c-4095-b918-1a667621e50d",
   "metadata": {
    "tags": []
   },
   "outputs": [],
   "source": [
    "# importing paths\n",
    "\n",
    "import sys\n",
    "import os\n",
    "import pathlib\n",
    "\n",
    "# If you are running from root path, you need specify the module path properly\n",
    "# or not. Good luck with setting this path if you start your notebook not from the root of this project\n",
    "SCRIPT_DIR = os.path.join(pathlib.Path(\"../../src\").resolve())\n",
    "sys.path.append(os.path.dirname(SCRIPT_DIR))\n",
    "\n",
    "from src.declare4py.pm_tasks.log_generation.asp.asp_generator import AspGenerator\n",
    "from src.declare4py.process_models.decl_model import DeclModel\n"
   ]
  },
  {
   "cell_type": "code",
   "execution_count": 4,
   "id": "0b9d5123-dc4f-4a75-bdd1-d4235d636772",
   "metadata": {
    "tags": []
   },
   "outputs": [],
   "source": [
    "# Setting up required files\n",
    "\n",
    "# possible files to test\n",
    "decl_model_1 = \"./decl_files/Response.decl\"\n",
    "decl_model_2 = \"./decl_files/MikeModel.decl\"\n",
    "decl_model_3 = \"./decl_files/reference10.decl\"\n",
    "decl_model_4 = \"./decl_files/diagonisis.decl\"\n",
    "\n",
    "decl_file = os.path.join(pathlib.Path(decl_model_4).resolve())\n",
    "output_file = os.path.join(pathlib.Path(\"./generated_exporter.xes\").resolve())\n"
   ]
  },
  {
   "cell_type": "code",
   "execution_count": 5,
   "id": "4b2d84b6-6a5a-4b3c-a0bb-335981eb6374",
   "metadata": {},
   "outputs": [],
   "source": [
    "# Create Declare model by reading declare model from a file.\n",
    "\n",
    "model: DeclModel = DeclModel().parse_from_file(decl_file)\n"
   ]
  },
  {
   "cell_type": "code",
   "execution_count": 6,
   "id": "f4b87ba4-2740-4006-b40f-b0ae95bab202",
   "metadata": {},
   "outputs": [],
   "source": [
    "#general Setting\n",
    "\n",
    "# Number of traces that should be generated\n",
    "num_of_traces = 4\n",
    "\n",
    "# Minimum and maximum number of events a trace can contain\n",
    "(num_min_events, num_max_events) = (2, 4)\n"
   ]
  },
  {
   "cell_type": "code",
   "execution_count": 7,
   "id": "b9dc4474-319b-40e0-95a7-c8ac36a18f2b",
   "metadata": {},
   "outputs": [],
   "source": [
    "# Initializing ASP generator with default distributor which is uniform.\n",
    "\n",
    "asp = AspGenerator(\n",
    "    model,\n",
    "    num_of_traces,\n",
    "    num_min_events,\n",
    "    num_max_events,\n",
    "    # distributor_type=\"gaussian\",  # possible values: \"uniform\", \"gaussian\", \"custom\"\n",
    "    # loc=3, scale=0.8,  # loc, scale works only if they distributor is gaussian\n",
    "    encode_decl_model=True  #\n",
    ")\n"
   ]
  },
  {
   "cell_type": "code",
   "execution_count": 8,
   "id": "974a92ad-6497-433f-99e4-2f0d79a6e150",
   "metadata": {},
   "outputs": [
    {
     "name": "stderr",
     "output_type": "stream",
     "text": [
      "<block>:23:4-12: info: atom does not occur in any rule head:\n",
      "  unsat(I)\n",
      "\n",
      "<block>:23:4-12: info: atom does not occur in any rule head:\n",
      "  unsat(I)\n",
      "\n",
      "<block>:23:4-12: info: atom does not occur in any rule head:\n",
      "  unsat(I)\n",
      "\n",
      "<block>:23:4-12: info: atom does not occur in any rule head:\n",
      "  unsat(I)\n",
      "\n"
     ]
    }
   ],
   "source": [
    "# Generate the traces and parse the result produced by clingo\n",
    "asp.run()  # Run accets 1 optional value whether to create file for the ASP generated from given declare model\n"
   ]
  },
  {
   "cell_type": "code",
   "execution_count": 9,
   "id": "a03b7b40-e718-4783-a8e4-36528bd4d01d",
   "metadata": {},
   "outputs": [
    {
     "name": "stderr",
     "output_type": "stream",
     "text": [
      "/home/mani/miniconda3/lib/python3.9/site-packages/tqdm/auto.py:22: TqdmWarning: IProgress not found. Please update jupyter and ipywidgets. See https://ipywidgets.readthedocs.io/en/stable/user_install.html\n",
      "  from .autonotebook import tqdm as notebook_tqdm\n",
      "exporting log, completed traces :: 100%|███████████████████████████████████████████████████████████████████████████████████████████████████████████████████████████████████████| 4/4 [00:00<00:00, 7377.84it/s]\n"
     ]
    }
   ],
   "source": [
    "# Save file to xes\n",
    "asp.to_xes(output_file)"
   ]
  }
 ],
 "metadata": {
  "kernelspec": {
   "display_name": "Python 3 (ipykernel)",
   "language": "python",
   "name": "python3"
  },
  "language_info": {
   "codemirror_mode": {
    "name": "ipython",
    "version": 3
   },
   "file_extension": ".py",
   "mimetype": "text/x-python",
   "name": "python",
   "nbconvert_exporter": "python",
   "pygments_lexer": "ipython3",
   "version": "3.9.12"
  }
 },
 "nbformat": 4,
 "nbformat_minor": 5
}
