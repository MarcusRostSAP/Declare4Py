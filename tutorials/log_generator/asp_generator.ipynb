{
 "cells": [
  {
   "cell_type": "markdown",
   "id": "0009d44f-be72-4bb2-9ca6-487a2be24ce1",
   "metadata": {
    "tags": []
   },
   "source": [
    "# Generate pm4py log using ASP Generator\n",
    "\n",
    "ASP log generator uses the decl model which converts the model into abudction logic programming and pass to the clingo.\n",
    "Clingo generates the output which is turned into the pm4py log or can be created a .xes file.\n"
   ]
  },
  {
   "cell_type": "code",
   "execution_count": 1,
   "id": "1eb21bf2-bf41-46b2-96e3-806047cc8cb1",
   "metadata": {},
   "outputs": [
    {
     "name": "stdout",
     "output_type": "stream",
     "text": [
      "Python 3.9.12\n"
     ]
    }
   ],
   "source": [
    "!python --version"
   ]
  },
  {
   "cell_type": "code",
   "execution_count": 2,
   "id": "d5d2c259-df33-4c09-9663-e9b5b678ba9e",
   "metadata": {},
   "outputs": [],
   "source": [
    "%config Completer.use_jedi = False"
   ]
  },
  {
   "cell_type": "code",
   "execution_count": 3,
   "id": "2938753f-7b7c-4095-b918-1a667621e50d",
   "metadata": {
    "tags": []
   },
   "outputs": [],
   "source": [
    "import sys\n",
    "import os\n",
    "import pathlib\n",
    "\n",
    "# If you are running from root path, you need specify the module path properly\n",
    "# or not. Good luck with setting this path if you start your notebook not from the root of this project\n",
    "SCRIPT_DIR = os.path.join(pathlib.Path(\"../../src\").resolve())\n",
    "sys.path.append(os.path.dirname(SCRIPT_DIR))\n",
    "\n",
    "from src.declare4py.pm_tasks.log_generation.asp.asp_generator import AspGenerator\n",
    "from src.declare4py.process_models.decl_model import DeclModel\n"
   ]
  },
  {
   "cell_type": "code",
   "execution_count": 4,
   "id": "0b9d5123-dc4f-4a75-bdd1-d4235d636772",
   "metadata": {
    "tags": []
   },
   "outputs": [
    {
     "name": "stdout",
     "output_type": "stream",
     "text": [
      "/home/mani/Desktop/thesis/declare4py/tutorials/log_generator/decl_files/Response.decl\n"
     ]
    }
   ],
   "source": [
    "# Setting up required files\n",
    "\n",
    "decl_file = os.path.join(pathlib.Path(\"./decl_files/Response.decl\").resolve())\n",
    "\n",
    "output_file = os.path.join(pathlib.Path(\"./generated_exporter.xes\").resolve())"
   ]
  },
  {
   "cell_type": "code",
   "execution_count": 10,
   "id": "4b2d84b6-6a5a-4b3c-a0bb-335981eb6374",
   "metadata": {},
   "outputs": [],
   "source": [
    "# Create Declare model by reading declare model from a file.\n",
    "\n",
    "model: DeclModel = DeclModel().parse_from_file(decl_file)\n"
   ]
  },
  {
   "cell_type": "code",
   "execution_count": 11,
   "id": "f4b87ba4-2740-4006-b40f-b0ae95bab202",
   "metadata": {},
   "outputs": [],
   "source": [
    "#general Setting\n",
    "\n",
    "# Number of traces that should be generated\n",
    "num_of_traces = 4\n",
    "\n",
    "# Minimum and maximum number of events a trace can contain\n",
    "(num_min_events, num_max_events) = (2, 4)\n"
   ]
  },
  {
   "cell_type": "code",
   "execution_count": 12,
   "id": "b9dc4474-319b-40e0-95a7-c8ac36a18f2b",
   "metadata": {},
   "outputs": [],
   "source": [
    "# Initializing ASP generator.\n",
    "\n",
    "asp = AspGenerator(\n",
    "    model,\n",
    "    num_of_traces,\n",
    "    num_min_events,\n",
    "    num_max_events,\n",
    "    # distributor_type=\"gaussian\",\n",
    "    # loc=3, scale=0.8,\n",
    "    encode_decl_model=True\n",
    ")\n"
   ]
  },
  {
   "cell_type": "code",
   "execution_count": 13,
   "id": "974a92ad-6497-433f-99e4-2f0d79a6e150",
   "metadata": {},
   "outputs": [
    {
     "name": "stderr",
     "output_type": "stream",
     "text": [
      "<block>:23:4-12: info: atom does not occur in any rule head:\n",
      "  unsat(I)\n",
      "\n",
      "<block>:23:4-12: info: atom does not occur in any rule head:\n",
      "  unsat(I)\n",
      "\n",
      "<block>:23:4-12: info: atom does not occur in any rule head:\n",
      "  unsat(I)\n",
      "\n",
      "<block>:23:4-12: info: atom does not occur in any rule head:\n",
      "  unsat(I)\n",
      "\n",
      " Unsafe: attribute \"grade\" => \"integer between 1 and 5\" is type of integer but scaling down from a float. Value: 1 precision: 1 num: 1.0 final result will be 1\n",
      " Unsafe: attribute \"mark\" => \"integer between 1 and 5\" is type of integer but scaling down from a float. Value: 3 precision: 1 num: 3.0 final result will be 3\n",
      " Unsafe: attribute \"grade\" => \"integer between 1 and 5\" is type of integer but scaling down from a float. Value: 3 precision: 1 num: 3.0 final result will be 3\n",
      " Unsafe: attribute \"mark\" => \"integer between 1 and 5\" is type of integer but scaling down from a float. Value: 2 precision: 1 num: 2.0 final result will be 2\n",
      " Unsafe: attribute \"grade\" => \"integer between 1 and 5\" is type of integer but scaling down from a float. Value: 4 precision: 1 num: 4.0 final result will be 4\n",
      " Unsafe: attribute \"mark\" => \"integer between 1 and 5\" is type of integer but scaling down from a float. Value: 1 precision: 1 num: 1.0 final result will be 1\n",
      " Unsafe: attribute \"grade\" => \"integer between 1 and 5\" is type of integer but scaling down from a float. Value: 1 precision: 1 num: 1.0 final result will be 1\n",
      " Unsafe: attribute \"mark\" => \"integer between 1 and 5\" is type of integer but scaling down from a float. Value: 3 precision: 1 num: 3.0 final result will be 3\n",
      " Unsafe: attribute \"grade\" => \"integer between 1 and 5\" is type of integer but scaling down from a float. Value: 1 precision: 1 num: 1.0 final result will be 1\n",
      " Unsafe: attribute \"mark\" => \"integer between 1 and 5\" is type of integer but scaling down from a float. Value: 2 precision: 1 num: 2.0 final result will be 2\n",
      " Unsafe: attribute \"grade\" => \"integer between 1 and 5\" is type of integer but scaling down from a float. Value: 1 precision: 1 num: 1.0 final result will be 1\n",
      " Unsafe: attribute \"mark\" => \"integer between 1 and 5\" is type of integer but scaling down from a float. Value: 2 precision: 1 num: 2.0 final result will be 2\n",
      " Unsafe: attribute \"grade\" => \"integer between 1 and 5\" is type of integer but scaling down from a float. Value: 5 precision: 1 num: 5.0 final result will be 5\n",
      " Unsafe: attribute \"mark\" => \"integer between 1 and 5\" is type of integer but scaling down from a float. Value: 3 precision: 1 num: 3.0 final result will be 3\n",
      " Unsafe: attribute \"grade\" => \"integer between 1 and 5\" is type of integer but scaling down from a float. Value: 2 precision: 1 num: 2.0 final result will be 2\n",
      " Unsafe: attribute \"mark\" => \"integer between 1 and 5\" is type of integer but scaling down from a float. Value: 4 precision: 1 num: 4.0 final result will be 4\n",
      " Unsafe: attribute \"grade\" => \"integer between 1 and 5\" is type of integer but scaling down from a float. Value: 4 precision: 1 num: 4.0 final result will be 4\n",
      " Unsafe: attribute \"mark\" => \"integer between 1 and 5\" is type of integer but scaling down from a float. Value: 1 precision: 1 num: 1.0 final result will be 1\n",
      " Unsafe: attribute \"grade\" => \"integer between 1 and 5\" is type of integer but scaling down from a float. Value: 3 precision: 1 num: 3.0 final result will be 3\n",
      " Unsafe: attribute \"mark\" => \"integer between 1 and 5\" is type of integer but scaling down from a float. Value: 2 precision: 1 num: 2.0 final result will be 2\n",
      " Unsafe: attribute \"grade\" => \"integer between 1 and 5\" is type of integer but scaling down from a float. Value: 2 precision: 1 num: 2.0 final result will be 2\n",
      " Unsafe: attribute \"mark\" => \"integer between 1 and 5\" is type of integer but scaling down from a float. Value: 1 precision: 1 num: 1.0 final result will be 1\n",
      " Unsafe: attribute \"grade\" => \"integer between 1 and 5\" is type of integer but scaling down from a float. Value: 1 precision: 1 num: 1.0 final result will be 1\n",
      " Unsafe: attribute \"mark\" => \"integer between 1 and 5\" is type of integer but scaling down from a float. Value: 2 precision: 1 num: 2.0 final result will be 2\n",
      " Unsafe: attribute \"grade\" => \"integer between 1 and 5\" is type of integer but scaling down from a float. Value: 2 precision: 1 num: 2.0 final result will be 2\n",
      " Unsafe: attribute \"mark\" => \"integer between 1 and 5\" is type of integer but scaling down from a float. Value: 2 precision: 1 num: 2.0 final result will be 2\n",
      " Unsafe: attribute \"grade\" => \"integer between 1 and 5\" is type of integer but scaling down from a float. Value: 3 precision: 1 num: 3.0 final result will be 3\n",
      " Unsafe: attribute \"mark\" => \"integer between 1 and 5\" is type of integer but scaling down from a float. Value: 4 precision: 1 num: 4.0 final result will be 4\n"
     ]
    }
   ],
   "source": [
    "# Generate the traces and parse the result produced by clingo\n",
    "asp.run()\n"
   ]
  },
  {
   "cell_type": "code",
   "execution_count": null,
   "id": "a03b7b40-e718-4783-a8e4-36528bd4d01d",
   "metadata": {},
   "outputs": [],
   "source": [
    "# Save file to xes\n",
    "asp.to_xes(output_file)"
   ]
  }
 ],
 "metadata": {
  "kernelspec": {
   "display_name": "Python 3 (ipykernel)",
   "language": "python",
   "name": "python3"
  },
  "language_info": {
   "codemirror_mode": {
    "name": "ipython",
    "version": 3
   },
   "file_extension": ".py",
   "mimetype": "text/x-python",
   "name": "python",
   "nbconvert_exporter": "python",
   "pygments_lexer": "ipython3",
   "version": "3.9.12"
  }
 },
 "nbformat": 4,
 "nbformat_minor": 5
}
