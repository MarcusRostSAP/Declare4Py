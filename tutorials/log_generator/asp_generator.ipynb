{
 "cells": [
  {
   "cell_type": "markdown",
   "id": "0009d44f-be72-4bb2-9ca6-487a2be24ce1",
   "metadata": {
    "tags": []
   },
   "source": [
    "# Generate pm4py log using ASP Generator\n",
    "\n",
    "ASP log generator uses the decl model which converts the model into abudction logic programming and pass to the clingo.\n",
    "Clingo generates the output which is turned into the pm4py log or can be created a .xes file.\n"
   ]
  },
  {
   "cell_type": "code",
   "execution_count": 1,
   "id": "1eb21bf2-bf41-46b2-96e3-806047cc8cb1",
   "metadata": {},
   "outputs": [
    {
     "name": "stdout",
     "output_type": "stream",
     "text": [
      "Python 3.9.12\n"
     ]
    }
   ],
   "source": [
    "!python --version"
   ]
  },
  {
   "cell_type": "code",
   "execution_count": 2,
   "id": "d5d2c259-df33-4c09-9663-e9b5b678ba9e",
   "metadata": {},
   "outputs": [],
   "source": [
    "%config Completer.use_jedi = False"
   ]
  },
  {
   "cell_type": "code",
   "execution_count": 3,
   "id": "2938753f-7b7c-4095-b918-1a667621e50d",
   "metadata": {
    "tags": []
   },
   "outputs": [],
   "source": [
    "# importing paths\n",
    "\n",
    "import sys\n",
    "import os\n",
    "import pathlib\n",
    "import logging\n",
    "\n",
    "# If you are running from root path, you need specify the module path properly\n",
    "# or not. Good luck with setting this path if you start your notebook not from the root of this project\n",
    "SCRIPT_DIR = os.path.join(pathlib.Path(\"../../src\").resolve())\n",
    "sys.path.append(os.path.dirname(SCRIPT_DIR))\n",
    "\n",
    "from src.declare4py.pm_tasks.log_generation.asp.asp_generator import AspGenerator\n",
    "from src.declare4py.process_models.decl_model import DeclModel\n"
   ]
  },
  {
   "cell_type": "code",
   "execution_count": 4,
   "id": "0b9d5123-dc4f-4a75-bdd1-d4235d636772",
   "metadata": {
    "tags": []
   },
   "outputs": [],
   "source": [
    "# Setting up required files\n",
    "\n",
    "# possible files to test\n",
    "decl_model_1 = \"./decl_files/Response.decl\"\n",
    "decl_model_2 = \"./decl_files/MikeModel.decl\"\n",
    "decl_model_3 = \"./decl_files/reference10.decl\"\n",
    "decl_model_4 = \"./decl_files/diagonisis.decl\"\n",
    "\n",
    "decl_file = os.path.join(pathlib.Path(decl_model_4).resolve())\n",
    "output_file = os.path.join(pathlib.Path(\"./generated_exporter.xes\").resolve())\n"
   ]
  },
  {
   "cell_type": "code",
   "execution_count": 5,
   "id": "4b2d84b6-6a5a-4b3c-a0bb-335981eb6374",
   "metadata": {},
   "outputs": [],
   "source": [
    "# Create Declare model by reading declare model from a file.\n",
    "\n",
    "model: DeclModel = DeclModel().parse_from_file(decl_file)\n"
   ]
  },
  {
   "cell_type": "code",
   "execution_count": 6,
   "id": "f4b87ba4-2740-4006-b40f-b0ae95bab202",
   "metadata": {},
   "outputs": [],
   "source": [
    "#general Setting\n",
    "\n",
    "# Number of traces that should be generated\n",
    "num_of_traces = 4\n",
    "\n",
    "# Minimum and maximum number of events a trace can contain\n",
    "(num_min_events, num_max_events) = (2, 4)\n"
   ]
  },
  {
   "cell_type": "code",
   "execution_count": 7,
   "id": "b9dc4474-319b-40e0-95a7-c8ac36a18f2b",
   "metadata": {},
   "outputs": [
    {
     "name": "stderr",
     "output_type": "stream",
     "text": [
      "DEBUG:ASP generator:Distribution for traces uniform\n",
      "DEBUG:ASP generator:traces length: 4, events can have a trace min(2) max(4)\n",
      "INFO:ASP generator:Start computing distribution\n",
      "INFO:ASP generator:Distribution result Counter({2: 2, 3: 2})\n"
     ]
    }
   ],
   "source": [
    "# Initializing ASP generator with default distributor which is uniform.\n",
    "\n",
    "logging.basicConfig(level=logging.DEBUG)\n",
    "asp = AspGenerator(\n",
    "    model,\n",
    "    num_of_traces,\n",
    "    num_min_events,\n",
    "    num_max_events,\n",
    "    # distributor_type=\"gaussian\",  # possible values: \"uniform\", \"gaussian\", \"custom\"\n",
    "    # custom_probabilities= [0.12, 0.08, 0.80]  # custom probabilites are used for custom distribution\n",
    "    # loc=3, scale=0.8,  # loc, scale works only if they distributor is gaussian\n",
    "    encode_decl_model=True  #\n",
    ")\n"
   ]
  },
  {
   "cell_type": "code",
   "execution_count": 8,
   "id": "1a35131f-9c1c-44d3-9660-a6c657fed23a",
   "metadata": {},
   "outputs": [],
   "source": [
    "# Violates some constraints for declare model\n",
    "\n",
    "# NOTE: this examples or cell is only configured for the `decl_model_4` file\n",
    "\n",
    "\n",
    "# You can add constraint templates as a string array to be violated from the declared model lines.\n",
    "# You can use the flag `violate_all_constraints_in_subset` in order to tell clingo, to violate all\n",
    "# templates or some of them( will be decided by clingo).  violate_all_constraints_in_subset= True means\n",
    "# all the contstraint should be violate which are available in the subset (which you add in the array string/list).\n",
    "\n",
    "model.violate_all_constraints_in_subset = True\n",
    "model.add_constraints_subset_to_violate([\n",
    "    # \"Existence[act2] | |\",\n",
    "    # \"Existence[act4] | |\"\n",
    "\"Chain Response[Admission IC, Admission NC] |A.org:group is J |T.org:group is J |61534,61534,s\",\n",
    "\"Chain Response[LacticAcid, Leucocytes] |A.LacticAcid <= 0.8 |T.Leucocytes >= 13.8 |0,2778,m\",\n",
    "])"
   ]
  },
  {
   "cell_type": "code",
   "execution_count": 9,
   "id": "974a92ad-6497-433f-99e4-2f0d79a6e150",
   "metadata": {
    "tags": []
   },
   "outputs": [
    {
     "name": "stderr",
     "output_type": "stream",
     "text": [
      "DEBUG:ASP generator:Starting RUN method\n",
      "DEBUG:ASP generator:Starting translate declare model to ASP\n",
      "DEBUG:ASP generator:Declare model translated to ASP. Total Facts 12\n",
      "DEBUG:ASP generator:ASP encoding generated\n",
      "DEBUG:ASP generator:Start generating traces\n",
      "DEBUG:ASP generator: Total trace to generate and events: Traces:2, Events: 2, RandFrequency: 0.9\n",
      "DEBUG:ASP generator: Generating trace:1/2 with events:2, seed:3795733704\n",
      "/home/mani/Desktop/thesis/declare4py/src/declare4py/pm_tasks/log_generation/asp/asp_generator.py:142: UserWarning: WARNING: Cannot generate traces with 2 events following this model.\n",
      "  warnings.warn(f'WARNING: Cannot generate traces with {num_events} events following this model.')\n",
      "DEBUG:ASP generator: Generating trace:2/2 with events:2, seed:4267034141\n",
      "DEBUG:ASP generator: Total trace to generate and events: Traces:2, Events: 3, RandFrequency: 0.9\n",
      "DEBUG:ASP generator: Generating trace:1/2 with events:3, seed:3072025758\n",
      "/home/mani/Desktop/thesis/declare4py/src/declare4py/pm_tasks/log_generation/asp/asp_generator.py:142: UserWarning: WARNING: Cannot generate traces with 3 events following this model.\n",
      "  warnings.warn(f'WARNING: Cannot generate traces with {num_events} events following this model.')\n",
      "DEBUG:ASP generator: Generating trace:2/2 with events:3, seed:1980225529\n",
      "DEBUG:ASP generator:Traces generated. Parsing Trace results\n",
      "DEBUG:ASP generator:Trace results parsed\n",
      "DEBUG:ASP generator:Generating Pm4py log\n",
      "WARNING:ASP generator:PM4PY log generated: 0/4 only.\n",
      "DEBUG:ASP generator:Pm4py generated but not saved yet\n"
     ]
    }
   ],
   "source": [
    "# Generate the traces and parse the result produced by clingo\n",
    "asp.run()  # Run accets 1 optional value whether to create file for the ASP generated from given declare model\n"
   ]
  },
  {
   "cell_type": "code",
   "execution_count": 10,
   "id": "a03b7b40-e718-4783-a8e4-36528bd4d01d",
   "metadata": {},
   "outputs": [
    {
     "name": "stderr",
     "output_type": "stream",
     "text": [
      "/home/mani/miniconda3/lib/python3.9/site-packages/tqdm/auto.py:22: TqdmWarning: IProgress not found. Please update jupyter and ipywidgets. See https://ipywidgets.readthedocs.io/en/stable/user_install.html\n",
      "  from .autonotebook import tqdm as notebook_tqdm\n",
      "exporting log, completed traces :: : 0it [00:00, ?it/s]\n"
     ]
    }
   ],
   "source": [
    "# Save file to xes\n",
    "asp.to_xes(output_file)"
   ]
  }
 ],
 "metadata": {
  "kernelspec": {
   "display_name": "Python 3 (ipykernel)",
   "language": "python",
   "name": "python3"
  },
  "language_info": {
   "codemirror_mode": {
    "name": "ipython",
    "version": 3
   },
   "file_extension": ".py",
   "mimetype": "text/x-python",
   "name": "python",
   "nbconvert_exporter": "python",
   "pygments_lexer": "ipython3",
   "version": "3.9.12"
  }
 },
 "nbformat": 4,
 "nbformat_minor": 5
}
