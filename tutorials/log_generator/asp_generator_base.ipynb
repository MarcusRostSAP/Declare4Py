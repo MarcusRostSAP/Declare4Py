{
 "cells": [
  {
   "cell_type": "markdown",
   "id": "0009d44f-be72-4bb2-9ca6-487a2be24ce1",
   "metadata": {
    "tags": []
   },
   "source": [
    "# Generate pm4py log using ASP Generator\n",
    "\n",
    "ASP log generator uses the decl model which converts the model into abudction logic programming and pass to the clingo.\n",
    "Clingo generates the output which is turned into the pm4py log or can be created a .xes file.\n"
   ]
  },
  {
   "cell_type": "code",
   "execution_count": null,
   "id": "1eb21bf2-bf41-46b2-96e3-806047cc8cb1",
   "metadata": {
    "scrolled": true
   },
   "outputs": [],
   "source": [
    "!python --version"
   ]
  },
  {
   "cell_type": "code",
   "execution_count": 1,
   "id": "2938753f-7b7c-4095-b918-1a667621e50d",
   "metadata": {
    "tags": []
   },
   "outputs": [
    {
     "ename": "ModuleNotFoundError",
     "evalue": "No module named 'src.declare4py.ProcessMiningTasks.pm_task'",
     "output_type": "error",
     "traceback": [
      "\u001b[0;31m---------------------------------------------------------------------------\u001b[0m",
      "\u001b[0;31mModuleNotFoundError\u001b[0m                       Traceback (most recent call last)",
      "\u001b[0;32m/var/folders/5w/6k152p214xbc6ghcldxtvf2r0000gq/T/ipykernel_58810/2758942798.py\u001b[0m in \u001b[0;36m<module>\u001b[0;34m\u001b[0m\n\u001b[1;32m      6\u001b[0m \u001b[0msys\u001b[0m\u001b[0;34m.\u001b[0m\u001b[0mpath\u001b[0m\u001b[0;34m.\u001b[0m\u001b[0mappend\u001b[0m\u001b[0;34m(\u001b[0m\u001b[0mos\u001b[0m\u001b[0;34m.\u001b[0m\u001b[0mpath\u001b[0m\u001b[0;34m.\u001b[0m\u001b[0mdirname\u001b[0m\u001b[0;34m(\u001b[0m\u001b[0mSCRIPT_DIR\u001b[0m\u001b[0;34m)\u001b[0m\u001b[0;34m)\u001b[0m\u001b[0;34m\u001b[0m\u001b[0;34m\u001b[0m\u001b[0m\n\u001b[1;32m      7\u001b[0m \u001b[0;34m\u001b[0m\u001b[0m\n\u001b[0;32m----> 8\u001b[0;31m \u001b[0;32mfrom\u001b[0m \u001b[0msrc\u001b[0m\u001b[0;34m.\u001b[0m\u001b[0mdeclare4py\u001b[0m\u001b[0;34m.\u001b[0m\u001b[0mProcessMiningTasks\u001b[0m\u001b[0;34m.\u001b[0m\u001b[0masp_log_generation\u001b[0m\u001b[0;34m.\u001b[0m\u001b[0masp_generator\u001b[0m \u001b[0;32mimport\u001b[0m \u001b[0mAspGenerator\u001b[0m\u001b[0;34m\u001b[0m\u001b[0;34m\u001b[0m\u001b[0m\n\u001b[0m\u001b[1;32m      9\u001b[0m \u001b[0;32mfrom\u001b[0m \u001b[0msrc\u001b[0m\u001b[0;34m.\u001b[0m\u001b[0mdeclare4py\u001b[0m\u001b[0;34m.\u001b[0m\u001b[0mProcessModels\u001b[0m\u001b[0;34m.\u001b[0m\u001b[0mDeclareModel\u001b[0m \u001b[0;32mimport\u001b[0m \u001b[0mDeclareModel\u001b[0m\u001b[0;34m\u001b[0m\u001b[0;34m\u001b[0m\u001b[0m\n",
      "\u001b[0;32m~/PycharmProjects/declare4py-v2.0/src/declare4py/ProcessMiningTasks/asp_log_generation/asp_generator.py\u001b[0m in \u001b[0;36m<module>\u001b[0;34m\u001b[0m\n\u001b[1;32m     17\u001b[0m \u001b[0;34m\u001b[0m\u001b[0m\n\u001b[1;32m     18\u001b[0m \u001b[0;32mfrom\u001b[0m \u001b[0msrc\u001b[0m\u001b[0;34m.\u001b[0m\u001b[0mdeclare4py\u001b[0m\u001b[0;34m.\u001b[0m\u001b[0mProcessMiningTasks\u001b[0m\u001b[0;34m.\u001b[0m\u001b[0masp_log_generation\u001b[0m\u001b[0;34m.\u001b[0m\u001b[0masp_utils\u001b[0m\u001b[0;34m.\u001b[0m\u001b[0mdistribution\u001b[0m \u001b[0;32mimport\u001b[0m \u001b[0mDistributor\u001b[0m\u001b[0;34m\u001b[0m\u001b[0;34m\u001b[0m\u001b[0m\n\u001b[0;32m---> 19\u001b[0;31m \u001b[0;32mfrom\u001b[0m \u001b[0msrc\u001b[0m\u001b[0;34m.\u001b[0m\u001b[0mdeclare4py\u001b[0m\u001b[0;34m.\u001b[0m\u001b[0mProcessMiningTasks\u001b[0m\u001b[0;34m.\u001b[0m\u001b[0mlog_generator\u001b[0m \u001b[0;32mimport\u001b[0m \u001b[0mLogGenerator\u001b[0m\u001b[0;34m\u001b[0m\u001b[0;34m\u001b[0m\u001b[0m\n\u001b[0m\u001b[1;32m     20\u001b[0m \u001b[0;32mfrom\u001b[0m \u001b[0msrc\u001b[0m\u001b[0;34m.\u001b[0m\u001b[0mdeclare4py\u001b[0m\u001b[0;34m.\u001b[0m\u001b[0mProcessModels\u001b[0m\u001b[0;34m.\u001b[0m\u001b[0mDeclareModel\u001b[0m \u001b[0;32mimport\u001b[0m \u001b[0mDeclareModel\u001b[0m\u001b[0;34m,\u001b[0m \u001b[0mDeclareParsedDataModel\u001b[0m\u001b[0;34m,\u001b[0m \u001b[0mDeclareModelAttributeType\u001b[0m\u001b[0;34m,\u001b[0m\u001b[0;31m \u001b[0m\u001b[0;31m\\\u001b[0m\u001b[0;34m\u001b[0m\u001b[0;34m\u001b[0m\u001b[0m\n\u001b[1;32m     21\u001b[0m     \u001b[0mDeclareModelTemplateDataModel\u001b[0m\u001b[0;34m\u001b[0m\u001b[0;34m\u001b[0m\u001b[0m\n",
      "\u001b[0;32m~/PycharmProjects/declare4py-v2.0/src/declare4py/ProcessMiningTasks/log_generator.py\u001b[0m in \u001b[0;36m<module>\u001b[0;34m\u001b[0m\n\u001b[1;32m      5\u001b[0m \u001b[0;32mfrom\u001b[0m \u001b[0mabc\u001b[0m \u001b[0;32mimport\u001b[0m \u001b[0mABC\u001b[0m\u001b[0;34m\u001b[0m\u001b[0;34m\u001b[0m\u001b[0m\n\u001b[1;32m      6\u001b[0m \u001b[0;34m\u001b[0m\u001b[0m\n\u001b[0;32m----> 7\u001b[0;31m \u001b[0;32mfrom\u001b[0m \u001b[0msrc\u001b[0m\u001b[0;34m.\u001b[0m\u001b[0mdeclare4py\u001b[0m\u001b[0;34m.\u001b[0m\u001b[0mProcessMiningTasks\u001b[0m\u001b[0;34m.\u001b[0m\u001b[0mpm_task\u001b[0m \u001b[0;32mimport\u001b[0m \u001b[0mPMTask\u001b[0m\u001b[0;34m\u001b[0m\u001b[0;34m\u001b[0m\u001b[0m\n\u001b[0m\u001b[1;32m      8\u001b[0m \u001b[0;32mfrom\u001b[0m \u001b[0msrc\u001b[0m\u001b[0;34m.\u001b[0m\u001b[0mdeclare4py\u001b[0m\u001b[0;34m.\u001b[0m\u001b[0mProcessModels\u001b[0m\u001b[0;34m.\u001b[0m\u001b[0mprocess_model\u001b[0m \u001b[0;32mimport\u001b[0m \u001b[0mProcessModel\u001b[0m\u001b[0;34m\u001b[0m\u001b[0;34m\u001b[0m\u001b[0m\n\u001b[1;32m      9\u001b[0m \u001b[0;34m\u001b[0m\u001b[0m\n",
      "\u001b[0;31mModuleNotFoundError\u001b[0m: No module named 'src.declare4py.ProcessMiningTasks.pm_task'"
     ]
    }
   ],
   "source": [
    "import sys\n",
    "import os\n",
    "import pathlib\n",
    "\n",
    "SCRIPT_DIR = pathlib.Path(\"..\", \"..\", \"src\").resolve()\n",
    "sys.path.append(os.path.dirname(SCRIPT_DIR))\n",
    "\n",
    "from src.declare4py.ProcessMiningTasks.asp_log_generation.asp_generator import AspGenerator\n",
    "from src.declare4py.ProcessModels.DeclareModel import DeclareModel"
   ]
  },
  {
   "cell_type": "code",
   "execution_count": 29,
   "id": "0b9d5123-dc4f-4a75-bdd1-d4235d636772",
   "metadata": {
    "tags": []
   },
   "outputs": [],
   "source": [
    "decl_model_1 = \"decl_files/Response.decl\"\n",
    "decl_model_2 = \"decl_files/MikeModel.decl\"\n",
    "decl_model_3 = \"decl_files/reference10.decl\"\n",
    "decl_model_4 = \"diagonisis.decl\"\n",
    "decl_folder = \"decl_files\"\n",
    "\n",
    "decl_filename = decl_model_4.split(\".\")[0]\n",
    "output_file = pathlib.Path(\".\", f\"{decl_filename}.xes\")\n",
    "decl_file = pathlib.Path(\".\", decl_folder, decl_model_4)"
   ]
  },
  {
   "cell_type": "code",
   "execution_count": 30,
   "id": "4b2d84b6-6a5a-4b3c-a0bb-335981eb6374",
   "metadata": {},
   "outputs": [],
   "source": [
    "# Create Declare model by reading declare model from a file.\n",
    "\n",
    "model: DeclModel = DeclModel().parse_from_file(decl_file)"
   ]
  },
  {
   "cell_type": "code",
   "execution_count": 33,
   "id": "f4b87ba4-2740-4006-b40f-b0ae95bab202",
   "metadata": {},
   "outputs": [],
   "source": [
    "#general Setting\n",
    "\n",
    "# Number of traces that should be generated\n",
    "num_of_traces = 0\n",
    "\n",
    "# Minimum and maximum number of events a trace can contain\n",
    "(num_min_events, num_max_events) = (2, 25)\n"
   ]
  },
  {
   "cell_type": "code",
   "execution_count": 34,
   "id": "b9dc4474-319b-40e0-95a7-c8ac36a18f2b",
   "metadata": {},
   "outputs": [],
   "source": [
    "# Initializing ASP generator with default distributor which is uniform.\n",
    "\n",
    "asp = AspGenerator(\n",
    "    model,\n",
    "    num_of_traces,\n",
    "    num_min_events,\n",
    "    num_max_events\n",
    ")"
   ]
  },
  {
   "cell_type": "code",
   "execution_count": 19,
   "id": "974a92ad-6497-433f-99e4-2f0d79a6e150",
   "metadata": {
    "scrolled": true
   },
   "outputs": [],
   "source": [
    "# Generate the traces and parse the result produced by clingo\n",
    "asp.run()  # Run accets 1 optional value whether to create file for the ASP generated from given declare model\n"
   ]
  },
  {
   "cell_type": "code",
   "execution_count": 20,
   "id": "a03b7b40-e718-4783-a8e4-36528bd4d01d",
   "metadata": {},
   "outputs": [
    {
     "data": {
      "application/vnd.jupyter.widget-view+json": {
       "model_id": "19d269324ce94c6eb4e690d3b1f62add",
       "version_major": 2,
       "version_minor": 0
      },
      "text/plain": [
       "exporting log, completed traces :: : 0it [00:00, ?it/s]"
      ]
     },
     "metadata": {},
     "output_type": "display_data"
    }
   ],
   "source": [
    "# Save file to xes\n",
    "asp.to_xes(output_file.as_posix())"
   ]
  },
  {
   "cell_type": "code",
   "execution_count": null,
   "id": "16c4df61",
   "metadata": {},
   "outputs": [],
   "source": [
    "asp.set_distribution(\"custom\", custom_probabilities=[0.0, 0.9, 0.0, 0.0, 0.1])"
   ]
  },
  {
   "cell_type": "code",
   "execution_count": null,
   "id": "eae4ba22",
   "metadata": {},
   "outputs": [],
   "source": [
    "asp.run()"
   ]
  },
  {
   "cell_type": "code",
   "execution_count": null,
   "id": "a6e602c3",
   "metadata": {},
   "outputs": [],
   "source": [
    "asp.to_xes(output_file.as_posix())"
   ]
  },
  {
   "cell_type": "code",
   "execution_count": null,
   "id": "fe003e19",
   "metadata": {},
   "outputs": [],
   "source": []
  }
 ],
 "metadata": {
  "kernelspec": {
   "display_name": "Python 3 (ipykernel)",
   "language": "python",
   "name": "python3"
  },
  "language_info": {
   "codemirror_mode": {
    "name": "ipython",
    "version": 3
   },
   "file_extension": ".py",
   "mimetype": "text/x-python",
   "name": "python",
   "nbconvert_exporter": "python",
   "pygments_lexer": "ipython3",
   "version": "3.9.7"
  }
 },
 "nbformat": 4,
 "nbformat_minor": 5
}
