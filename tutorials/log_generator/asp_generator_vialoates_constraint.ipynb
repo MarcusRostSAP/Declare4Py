{
 "cells": [
  {
   "cell_type": "markdown",
   "id": "0009d44f-be72-4bb2-9ca6-487a2be24ce1",
   "metadata": {
    "tags": []
   },
   "source": [
    "# Generate pm4py log using ASP Generator\n",
    "\n",
    "ASP log generator uses the decl model which converts the model into abudction logic programming and pass to the clingo.\n",
    "Clingo generates the output which is turned into the pm4py log or can be created a .xes file.\n"
   ]
  },
  {
   "cell_type": "code",
   "execution_count": 1,
   "id": "1eb21bf2-bf41-46b2-96e3-806047cc8cb1",
   "metadata": {},
   "outputs": [
    {
     "name": "stdout",
     "output_type": "stream",
     "text": [
      "Python 3.9.12\r\n"
     ]
    }
   ],
   "source": [
    "!python --version"
   ]
  },
  {
   "cell_type": "code",
   "execution_count": 2,
   "id": "2938753f-7b7c-4095-b918-1a667621e50d",
   "metadata": {
    "tags": []
   },
   "outputs": [],
   "source": [
    "# importing paths\n",
    "\n",
    "import sys\n",
    "import os\n",
    "import pathlib\n",
    "import logging\n",
    "\n",
    "# If you are running from root path, you need specify the module path properly\n",
    "# or not. Good luck with setting this path if you start your notebook not from the root of this project\n",
    "SCRIPT_DIR = os.path.join(pathlib.Path(\"../../src\").resolve())\n",
    "sys.path.append(os.path.dirname(SCRIPT_DIR))\n",
    "\n",
    "from src.declare4py.pm_tasks.log_generation.asp.asp_generator import AspGenerator\n",
    "from src.declare4py.process_models.decl_model import DeclModel\n"
   ]
  },
  {
   "cell_type": "code",
   "execution_count": 3,
   "id": "0b9d5123-dc4f-4a75-bdd1-d4235d636772",
   "metadata": {
    "tags": []
   },
   "outputs": [],
   "source": [
    "# Setting up required files\n",
    "\n",
    "# possible files to test\n",
    "decl_model_1 = \"./decl_files/Response.decl\"\n",
    "decl_model_2 = \"./decl_files/MikeModel.decl\"\n",
    "decl_model_3 = \"./decl_files/reference10.decl\"\n",
    "decl_model_4 = \"./decl_files/diagonisis.decl\"\n",
    "\n",
    "decl_file = os.path.join(pathlib.Path(decl_model_4).resolve())\n",
    "output_file = os.path.join(pathlib.Path(\"./generated_exporter.xes\").resolve())\n"
   ]
  },
  {
   "cell_type": "code",
   "execution_count": 4,
   "id": "4b2d84b6-6a5a-4b3c-a0bb-335981eb6374",
   "metadata": {},
   "outputs": [],
   "source": [
    "# Create Declare model by reading declare model from a file.\n",
    "\n",
    "model: DeclModel = DeclModel().parse_from_file(decl_file)\n"
   ]
  },
  {
   "cell_type": "code",
   "execution_count": 5,
   "id": "f4b87ba4-2740-4006-b40f-b0ae95bab202",
   "metadata": {},
   "outputs": [],
   "source": [
    "#general Setting\n",
    "\n",
    "# Number of traces that should be generated\n",
    "num_of_traces = 4\n",
    "\n",
    "# Minimum and maximum number of events a trace can contain\n",
    "(num_min_events, num_max_events) = (2, 4)\n"
   ]
  },
  {
   "cell_type": "code",
   "execution_count": 6,
   "id": "b9dc4474-319b-40e0-95a7-c8ac36a18f2b",
   "metadata": {},
   "outputs": [
    {
     "name": "stderr",
     "output_type": "stream",
     "text": [
      "DEBUG:ASP generator:Distribution for traces uniform\n",
      "DEBUG:ASP generator:traces: 4, events can have a trace min(2) max(4)\n",
      "INFO:LOG_GENERATOR:Computing distribution\n",
      "INFO:LOG_GENERATOR:Distribution result Counter({3: 3, 4: 1})\n"
     ]
    }
   ],
   "source": [
    "# Initializing ASP generator with default distributor which is uniform.\n",
    "\n",
    "logging.basicConfig(level=logging.DEBUG)\n",
    "asp = AspGenerator(\n",
    "    model,\n",
    "    num_of_traces,\n",
    "    num_min_events,\n",
    "    num_max_events,\n",
    "    encode_decl_model=True  #\n",
    ")\n"
   ]
  },
  {
   "cell_type": "code",
   "execution_count": 7,
   "id": "1a35131f-9c1c-44d3-9660-a6c657fed23a",
   "metadata": {},
   "outputs": [],
   "source": [
    "# Violates some constraints for declare model\n",
    "\n",
    "# NOTE: this examples or cell is only configured for the `decl_model_4` file\n",
    "\n",
    "# You can add constraint templates as a string array to be violated from the declared model lines.\n",
    "# You can use the flag `violate_all_constraints_in_subset` in order to tell clingo, to violate all\n",
    "# templates or some of them( will be decided by clingo).  violate_all_constraints_in_subset= True means\n",
    "# all the contstraint should be violate which are available in the subset (which you add in the array string/list).\n",
    "\n",
    "asp.set_negative_traces_len(2)\n",
    "asp.violate_all_constraints_in_subset = True\n",
    "asp.add_constraints_subset_to_violate([\n",
    "    # \"Existence[act2] | |\",\n",
    "    # \"Existence[act4] | |\"\n",
    "    \"Response[Driving_Test, Resit] |A.Grade<=2 | |\"\n",
    "    # \"Chain Response[Admission IC, Admission NC] |A.org:group is J |T.org:group is J |61534,61534,s\",\n",
    "    # \"Chain Response[LacticAcid, Leucocytes] |A.LacticAcid <= 0.8 |T.Leucocytes >= 13.8 |0,2778,m\",\n",
    "])\n"
   ]
  },
  {
   "cell_type": "code",
   "execution_count": 8,
   "id": "974a92ad-6497-433f-99e4-2f0d79a6e150",
   "metadata": {
    "tags": []
   },
   "outputs": [
    {
     "name": "stderr",
     "output_type": "stream",
     "text": [
      "INFO:LOG_GENERATOR:Computing distribution\n",
      "INFO:LOG_GENERATOR:Distribution result Counter({2: 1, 4: 1})\n",
      "INFO:LOG_GENERATOR:Computing distribution\n",
      "INFO:LOG_GENERATOR:Distribution result Counter({4: 2})\n",
      "DEBUG:ASP generator:Generating negative traces\n",
      "DEBUG:ASP generator:Translate declare model to ASP\n",
      "DEBUG:ASP generator:Declare model translated to ASP. Total Facts 12\n",
      "DEBUG:ASP generator:ASP encoding generated\n",
      "DEBUG:ASP generator:Start generating traces\n",
      "DEBUG:ASP generator: Total trace to generate and events: Traces:2, Events: 4, RandFrequency: 0.9\n",
      "DEBUG:ASP generator: Generating trace:1/2 with events:4, seed:51715140\n",
      "<block>:33:4-12: info: atom does not occur in any rule head:\n",
      "  unsat(I)\n",
      "\n",
      "DEBUG:ASP generator: Traces generated :[assigned_value(b3JnOmdyb3VwENCODEDSTRINGENCODEDSTRING,lowerlowerIlowerlowerEIEEEQUALSIGNNNENCODEDSTRINGENCODEDSTRING,1), assigned_value(lowerlowerTlowerlowerGFjdGljQWNpZAEEEQUALSIGNNNEEEQUALSIGNNNENCODEDSTRINGENCODEDSTRING,66,1), assigned_value(b3JnOmdyb3VwENCODEDSTRINGENCODEDSTRING,lowerlowerQlowerlowerQEEEQUALSIGNNNEEEQUALSIGNNNENCODEDSTRINGENCODEDSTRING,2), assigned_value(lowerlowerTlowerlowerGFjdGljQWNpZAEEEQUALSIGNNNEEEQUALSIGNNNENCODEDSTRINGENCODEDSTRING,62,2), assigned_value(b3JnOmdyb3VwENCODEDSTRINGENCODEDSTRING,lowerlowerIlowerlowerEIEEEQUALSIGNNNENCODEDSTRINGENCODEDSTRING,3), assigned_value(lowerlowerRlowerlowerGlhZ25vc2UEEEQUALSIGNNNENCODEDSTRINGENCODEDSTRING,lowerlowerWlowerlowerUEEEEQUALSIGNNNENCODEDSTRINGENCODEDSTRING,3), assigned_value(lowerlowerQlowerlowerWdlENCODEDSTRINGENCODEDSTRING,46,3), assigned_value(lowerlowerTlowerlowerGV1Y29jeXRlcwEEEQUALSIGNNNEEEQUALSIGNNNENCODEDSTRINGENCODEDSTRING,1411,3), assigned_value(b3JnOmdyb3VwENCODEDSTRINGENCODEDSTRING,lowerlowerIlowerlowerEMEEEQUALSIGNNNENCODEDSTRINGENCODEDSTRING,4), assigned_value(lowerlowerRlowerlowerGlhZ25vc2UEEEQUALSIGNNNENCODEDSTRINGENCODEDSTRING,lowerlowerWlowerlowerUEEEEQUALSIGNNNENCODEDSTRINGENCODEDSTRING,4), assigned_value(lowerlowerQlowerlowerWdlENCODEDSTRINGENCODEDSTRING,45,4), assigned_value(lowerlowerTlowerlowerGV1Y29jeXRlcwEEEQUALSIGNNNEEEQUALSIGNNNENCODEDSTRINGENCODEDSTRING,3453,4), trace(lowerlowerTlowerlowerGFjdGljQWNpZAEEEQUALSIGNNNEEEQUALSIGNNNENCODEDSTRINGENCODEDSTRING,1), trace(lowerlowerTlowerlowerGFjdGljQWNpZAEEEQUALSIGNNNEEEQUALSIGNNNENCODEDSTRINGENCODEDSTRING,2), trace(lowerlowerTlowerlowerGV1Y29jeXRlcwEEEQUALSIGNNNEEEQUALSIGNNNENCODEDSTRINGENCODEDSTRING,3), trace(lowerlowerTlowerlowerGV1Y29jeXRlcwEEEQUALSIGNNNEEEQUALSIGNNNENCODEDSTRINGENCODEDSTRING,4)]\n",
      "DEBUG:ASP generator: Clingo Result :SAT\n",
      "DEBUG:ASP generator: Generating trace:2/2 with events:4, seed:1204157516\n",
      "<block>:33:4-12: info: atom does not occur in any rule head:\n",
      "  unsat(I)\n",
      "\n",
      "DEBUG:ASP generator: Traces generated :[assigned_value(b3JnOmdyb3VwENCODEDSTRINGENCODEDSTRING,lowerlowerQlowerlowerQEEEQUALSIGNNNEEEQUALSIGNNNENCODEDSTRINGENCODEDSTRING,1), assigned_value(lowerlowerRlowerlowerGlhZ25vc2UEEEQUALSIGNNNENCODEDSTRINGENCODEDSTRING,lowerlowerWlowerlowerUEEEEQUALSIGNNNENCODEDSTRINGENCODEDSTRING,1), assigned_value(lowerlowerQlowerlowerWdlENCODEDSTRINGENCODEDSTRING,47,1), assigned_value(lowerlowerQlowerlower1JQENCODEDSTRINGENCODEDSTRING,3802,1), assigned_value(b3JnOmdyb3VwENCODEDSTRINGENCODEDSTRING,lowerlowerIlowerlowerEIEEEQUALSIGNNNENCODEDSTRINGENCODEDSTRING,2), assigned_value(lowerlowerRlowerlowerGlhZ25vc2UEEEQUALSIGNNNENCODEDSTRINGENCODEDSTRING,lowerlowerWlowerlowerUEEEEQUALSIGNNNENCODEDSTRINGENCODEDSTRING,2), assigned_value(lowerlowerQlowerlowerWdlENCODEDSTRINGENCODEDSTRING,45,2), assigned_value(lowerlowerQlowerlower1JQENCODEDSTRINGENCODEDSTRING,1566,2), assigned_value(b3JnOmdyb3VwENCODEDSTRINGENCODEDSTRING,lowerlowerIlowerlowerEIEEEQUALSIGNNNENCODEDSTRINGENCODEDSTRING,3), assigned_value(lowerlowerRlowerlowerGlhZ25vc2UEEEQUALSIGNNNENCODEDSTRINGENCODEDSTRING,lowerlowerWlowerlowerUEEEEQUALSIGNNNENCODEDSTRINGENCODEDSTRING,3), assigned_value(lowerlowerQlowerlowerWdlENCODEDSTRINGENCODEDSTRING,46,3), assigned_value(lowerlowerTlowerlowerGV1Y29jeXRlcwEEEQUALSIGNNNEEEQUALSIGNNNENCODEDSTRINGENCODEDSTRING,2302,3), assigned_value(b3JnOmdyb3VwENCODEDSTRINGENCODEDSTRING,lowerlowerQlowerlowerQEEEQUALSIGNNNEEEQUALSIGNNNENCODEDSTRINGENCODEDSTRING,4), assigned_value(lowerlowerRlowerlowerGlhZ25vc2UEEEQUALSIGNNNENCODEDSTRINGENCODEDSTRING,lowerlowerWlowerlowerUEEEEQUALSIGNNNENCODEDSTRINGENCODEDSTRING,4), assigned_value(lowerlowerQlowerlowerWdlENCODEDSTRINGENCODEDSTRING,46,4), assigned_value(lowerlowerQlowerlower1JQENCODEDSTRINGENCODEDSTRING,2516,4), trace(lowerlowerQlowerlower1JQENCODEDSTRINGENCODEDSTRING,1), trace(lowerlowerQlowerlower1JQENCODEDSTRINGENCODEDSTRING,2), trace(lowerlowerTlowerlowerGV1Y29jeXRlcwEEEQUALSIGNNNEEEQUALSIGNNNENCODEDSTRINGENCODEDSTRING,3), trace(lowerlowerQlowerlower1JQENCODEDSTRINGENCODEDSTRING,4)]\n",
      "DEBUG:ASP generator: Clingo Result :SAT\n",
      "DEBUG:ASP generator:Generating traces\n",
      "DEBUG:ASP generator:Translate declare model to ASP\n",
      "DEBUG:ASP generator:Declare model translated to ASP. Total Facts 12\n",
      "DEBUG:ASP generator:ASP encoding generated\n",
      "DEBUG:ASP generator:Start generating traces\n",
      "DEBUG:ASP generator: Total trace to generate and events: Traces:1, Events: 2, RandFrequency: 0.9\n",
      "DEBUG:ASP generator: Generating trace:1/1 with events:2, seed:1481123511\n",
      "<block>:33:4-12: info: atom does not occur in any rule head:\n",
      "  unsat(I)\n",
      "\n",
      "DEBUG:ASP generator: Traces generated :[assigned_value(b3JnOmdyb3VwENCODEDSTRINGENCODEDSTRING,lowerlowerQlowerlowerQEEEQUALSIGNNNEEEQUALSIGNNNENCODEDSTRINGENCODEDSTRING,1), assigned_value(b3JnOmdyb3VwENCODEDSTRINGENCODEDSTRING,lowerlowerIlowerlowerEIEEEQUALSIGNNNENCODEDSTRINGENCODEDSTRING,2), assigned_value(lowerlowerRlowerlowerGlhZ25vc2UEEEQUALSIGNNNENCODEDSTRINGENCODEDSTRING,lowerlowerWlowerlowerUEEEEQUALSIGNNNENCODEDSTRINGENCODEDSTRING,2), assigned_value(lowerlowerQlowerlowerWdlENCODEDSTRINGENCODEDSTRING,20,2), assigned_value(lowerlowerQlowerlower1JQENCODEDSTRINGENCODEDSTRING,4178,2), trace(lowerlowerSlowerlowerVYgQW50aWJpb3RpY3MEEEQUALSIGNNNENCODEDSTRINGENCODEDSTRING,1), trace(lowerlowerQlowerlower1JQENCODEDSTRINGENCODEDSTRING,2)]\n",
      "DEBUG:ASP generator: Clingo Result :SAT\n",
      "DEBUG:ASP generator: Total trace to generate and events: Traces:1, Events: 4, RandFrequency: 0.9\n",
      "DEBUG:ASP generator: Generating trace:1/1 with events:4, seed:663518590\n",
      "<block>:33:4-12: info: atom does not occur in any rule head:\n",
      "  unsat(I)\n",
      "\n",
      "DEBUG:ASP generator: Traces generated :[assigned_value(b3JnOmdyb3VwENCODEDSTRINGENCODEDSTRING,lowerlowerQlowerlowerQEEEQUALSIGNNNEEEQUALSIGNNNENCODEDSTRINGENCODEDSTRING,1), assigned_value(lowerlowerRlowerlowerGlhZ25vc2UEEEQUALSIGNNNENCODEDSTRINGENCODEDSTRING,lowerlowerWlowerlowerUEEEEQUALSIGNNNENCODEDSTRINGENCODEDSTRING,1), assigned_value(lowerlowerQlowerlowerWdlENCODEDSTRINGENCODEDSTRING,20,1), assigned_value(lowerlowerQlowerlower1JQENCODEDSTRINGENCODEDSTRING,1755,1), assigned_value(b3JnOmdyb3VwENCODEDSTRINGENCODEDSTRING,lowerlowerIlowerlowerEIEEEQUALSIGNNNENCODEDSTRINGENCODEDSTRING,2), assigned_value(lowerlowerRlowerlowerGlhZ25vc2UEEEQUALSIGNNNENCODEDSTRINGENCODEDSTRING,lowerlowerIlowerlowerFlCENCODEDSTRINGENCODEDSTRING,2), assigned_value(lowerlowerQlowerlowerWdlENCODEDSTRINGENCODEDSTRING,52,2), assigned_value(lowerlowerTlowerlowerGV1Y29jeXRlcwEEEQUALSIGNNNEEEQUALSIGNNNENCODEDSTRINGENCODEDSTRING,2737,2), assigned_value(b3JnOmdyb3VwENCODEDSTRINGENCODEDSTRING,lowerlowerIlowerlowerEIEEEQUALSIGNNNENCODEDSTRINGENCODEDSTRING,3), assigned_value(lowerlowerRlowerlowerGlhZ25vc2UEEEQUALSIGNNNENCODEDSTRINGENCODEDSTRING,lowerlowerIlowerlowerFlDENCODEDSTRINGENCODEDSTRING,3), assigned_value(lowerlowerQlowerlowerWdlENCODEDSTRINGENCODEDSTRING,82,3), assigned_value(lowerlowerTlowerlowerGV1Y29jeXRlcwEEEQUALSIGNNNEEEQUALSIGNNNENCODEDSTRINGENCODEDSTRING,3755,3), assigned_value(b3JnOmdyb3VwENCODEDSTRINGENCODEDSTRING,lowerlowerQlowerlowerQEEEQUALSIGNNNEEEQUALSIGNNNENCODEDSTRINGENCODEDSTRING,4), assigned_value(lowerlowerRlowerlowerGlhZ25vc2UEEEQUALSIGNNNENCODEDSTRINGENCODEDSTRING,lowerlowerWlowerlowerUEEEEQUALSIGNNNENCODEDSTRINGENCODEDSTRING,4), assigned_value(lowerlowerQlowerlowerWdlENCODEDSTRINGENCODEDSTRING,47,4), assigned_value(lowerlowerQlowerlower1JQENCODEDSTRINGENCODEDSTRING,5431,4), trace(lowerlowerQlowerlower1JQENCODEDSTRINGENCODEDSTRING,1), trace(lowerlowerTlowerlowerGV1Y29jeXRlcwEEEQUALSIGNNNEEEQUALSIGNNNENCODEDSTRINGENCODEDSTRING,2), trace(lowerlowerTlowerlowerGV1Y29jeXRlcwEEEQUALSIGNNNEEEQUALSIGNNNENCODEDSTRINGENCODEDSTRING,3), trace(lowerlowerQlowerlower1JQENCODEDSTRINGENCODEDSTRING,4)]\n"
     ]
    },
    {
     "name": "stderr",
     "output_type": "stream",
     "text": [
      "DEBUG:ASP generator: Clingo Result :SAT\n",
      "DEBUG:ASP generator:Traces generated. Positive: 2 Neg: 2. Parsing Trace results.\n",
      "DEBUG:ASP generator:Trace results parsed\n",
      "DEBUG:ASP generator:Generating Pm4py log\n",
      "DEBUG:ASP generator:Pm4py generated but not saved yet\n"
     ]
    }
   ],
   "source": [
    "# Generate the traces and parse the result produced by clingo\n",
    "asp.run()  # Run accets 1 optional value whether to create file for the ASP generated from given declare model\n"
   ]
  },
  {
   "cell_type": "code",
   "execution_count": 9,
   "id": "a03b7b40-e718-4783-a8e4-36528bd4d01d",
   "metadata": {},
   "outputs": [
    {
     "name": "stderr",
     "output_type": "stream",
     "text": [
      "/home/mani/miniconda3/lib/python3.9/site-packages/tqdm/auto.py:22: TqdmWarning: IProgress not found. Please update jupyter and ipywidgets. See https://ipywidgets.readthedocs.io/en/stable/user_install.html\n",
      "  from .autonotebook import tqdm as notebook_tqdm\n",
      "exporting log, completed traces :: 100%|███████████████████████████████████████████████████████████████████████████████████████████████████████████████████████████████████████| 4/4 [00:00<00:00, 4357.72it/s]\n"
     ]
    }
   ],
   "source": [
    "# Save file to xes\n",
    "asp.to_xes(output_file)"
   ]
  }
 ],
 "metadata": {
  "kernelspec": {
   "display_name": "Python 3 (ipykernel)",
   "language": "python",
   "name": "python3"
  },
  "language_info": {
   "codemirror_mode": {
    "name": "ipython",
    "version": 3
   },
   "file_extension": ".py",
   "mimetype": "text/x-python",
   "name": "python",
   "nbconvert_exporter": "python",
   "pygments_lexer": "ipython3",
   "version": "3.9.12"
  }
 },
 "nbformat": 4,
 "nbformat_minor": 5
}
