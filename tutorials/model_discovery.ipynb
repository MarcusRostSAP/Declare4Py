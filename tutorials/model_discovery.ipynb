{
 "cells": [
  {
   "cell_type": "markdown",
   "id": "b3e8c31a",
   "metadata": {},
   "source": [
    "# Model Discovery in Declare4Py\n",
    "\n",
    "This tutorial explains how to perform the discovery of a DECLARE model and how to browse the results.\n",
    "\n",
    "After importing the Declare4Py package, a `Declare4Py` object has to be instantiated to load the log."
   ]
  },
  {
   "cell_type": "code",
   "execution_count": 1,
   "id": "e6cc9c8b",
   "metadata": {},
   "outputs": [
    {
     "data": {
      "application/vnd.jupyter.widget-view+json": {
       "model_id": "aff8b4e828c948419c1d4fe575111dd7",
       "version_major": 2,
       "version_minor": 0
      },
      "text/plain": [
       "parsing log, completed traces ::   0%|          | 0/1050 [00:00<?, ?it/s]"
      ]
     },
     "metadata": {},
     "output_type": "display_data"
    }
   ],
   "source": [
    "import os\n",
    "from declare4py.declare4py import Declare4Py\n",
    "\n",
    "\n",
    "log_path = os.path.join(\"..\", \"tests\", \"Sepsis Cases.xes.gz\")\n",
    "\n",
    "d4py = Declare4Py()\n",
    "d4py.parse_xes_log(log_path)"
   ]
  },
  {
   "cell_type": "markdown",
   "id": "3a62f54f",
   "metadata": {},
   "source": [
    "The discovery of a DECLARE model is performed with two consecutive steps in Declare4Py:\n",
    "\n",
    "1. the computing of the frequent itemsets with an input support and of length 2 with the `compute_frequent_itemsets()` function, see the tutorial on the analysis of the logs.\n",
    "2. the model discovery with the `discovery()` function. This takes as input the boolean parameter `consider_vacuity=true` that considers vacuously satisfied traces as satisfied, violated otherwise. The integer parameter `max_declare_cardinality` sets the cardinality of the Exactly, Existence and Absence templates. This function returns a Python dictionary containing the results indexed by discovered constraints. The value is a Python dictionary with keys the single ids of the traces in the log (that can be retrieved with `get_trace_keys()`) that satisfy the constraint. The values of this inner dictionary is a `CheckerResult` object containing the number of pendings, activations, violations, fulfilments and the truth value of the trace for that constraint.\n",
    "```\n",
    "discovery_results = {constr_1: {trace_1: CheckerResult object, trace_2: CheckerResult object, ...},\n",
    "                     constr_2: {trace_1: CheckerResult object, ... },\n",
    "                     ...\n",
    "                    }\n",
    "```\n",
    "The `CheckerResult` objects can be accessed by the attributes `num_pendings`, `num_activations`, `num_fulfillments`, `num_violations` and `state`."
   ]
  },
  {
   "cell_type": "code",
   "execution_count": 2,
   "id": "2c50844d",
   "metadata": {},
   "outputs": [
    {
     "name": "stdout",
     "output_type": "stream",
     "text": [
      "Computing discovery ...\n"
     ]
    }
   ],
   "source": [
    "d4py.compute_frequent_itemsets(min_support=0.9, len_itemset=2)\n",
    "discovery_results = d4py.discovery(consider_vacuity=True, max_declare_cardinality=2)"
   ]
  },
  {
   "cell_type": "markdown",
   "id": "dc19d8c5",
   "metadata": {},
   "source": [
    "Let's inspect the results for the constraint `Responded Existence[ER Sepsis Triage, ER Triage] | | |` and the trace `(488, 'VR')`"
   ]
  },
  {
   "cell_type": "code",
   "execution_count": 3,
   "id": "f45f2f39",
   "metadata": {},
   "outputs": [
    {
     "name": "stdout",
     "output_type": "stream",
     "text": [
      "Number of pendings: 0\n",
      "Number of activations: 1\n",
      "Number of fulfilments: 1\n",
      "Number of violation: 0\n",
      "Truth value of: Satisfied\n"
     ]
    }
   ],
   "source": [
    "decl_constr = 'Responded Existence[ER Sepsis Triage, ER Triage] | | |'\n",
    "trace_id = (488, 'VR')\n",
    "print(f\"Number of pendings: {discovery_results[decl_constr][trace_id].num_pendings}\")\n",
    "print(f\"Number of activations: {discovery_results[decl_constr][trace_id].num_activations}\")\n",
    "print(f\"Number of fulfilments: {discovery_results[decl_constr][trace_id].num_fulfillments}\")\n",
    "print(f\"Number of violation: {discovery_results[decl_constr][trace_id].num_violations}\")\n",
    "print(f\"Truth value of: {discovery_results[decl_constr][trace_id].state}\")"
   ]
  },
  {
   "cell_type": "markdown",
   "id": "0a9afda6",
   "metadata": {},
   "source": [
    "The results of the discovery can be filtered according to a support threshold and saved in a DECLARE file (if specified). This is performed by the `filter_discovery` function that returns a Python dictionary with the discovered DECLARE constraints as keys and their support as value."
   ]
  },
  {
   "cell_type": "code",
   "execution_count": 4,
   "id": "609476d4",
   "metadata": {},
   "outputs": [
    {
     "data": {
      "text/plain": [
       "{'Existence1[ER Triage] | |': 1.0,\n",
       " 'Absence2[ER Triage] | |': 0.9971428571428571,\n",
       " 'Exactly1[ER Triage] | |': 0.9971428571428571,\n",
       " 'Existence1[ER Registration] | |': 1.0,\n",
       " 'Absence2[ER Registration] | |': 1.0,\n",
       " 'Exactly1[ER Registration] | |': 1.0,\n",
       " 'Init[ER Registration] | |': 0.9476190476190476,\n",
       " 'Existence1[ER Sepsis Triage] | |': 0.9990476190476191,\n",
       " 'Absence2[ER Sepsis Triage] | |': 1.0,\n",
       " 'Exactly1[ER Sepsis Triage] | |': 0.9990476190476191,\n",
       " 'Existence1[Leucocytes] | |': 0.9638095238095238,\n",
       " 'Existence1[CRP] | |': 0.959047619047619,\n",
       " 'Choice[ER Registration, ER Triage] | | |': 1.0,\n",
       " 'Choice[ER Triage, ER Registration] | | |': 1.0,\n",
       " 'Responded Existence[ER Registration, ER Triage] | | |': 1.0,\n",
       " 'Responded Existence[ER Triage, ER Registration] | | |': 1.0,\n",
       " 'Response[ER Registration, ER Triage] | | |': 0.9942857142857143,\n",
       " 'Alternate Response[ER Registration, ER Triage] | | |': 0.9942857142857143,\n",
       " 'Chain Response[ER Registration, ER Triage] | | |': 0.9247619047619048,\n",
       " 'Precedence[ER Registration, ER Triage] | | |': 0.9942857142857143,\n",
       " 'Alternate Precedence[ER Registration, ER Triage] | | |': 0.9914285714285714,\n",
       " 'Chain Precedence[ER Registration, ER Triage] | | |': 0.9219047619047619,\n",
       " 'Not Response[ER Triage, ER Registration] | | |': 0.9942857142857143,\n",
       " 'Not Chain Response[ER Triage, ER Registration] | | |': 0.9952380952380953,\n",
       " 'Not Precedence[ER Triage, ER Registration] | | |': 0.9942857142857143,\n",
       " 'Not Chain Precedence[ER Triage, ER Registration] | | |': 0.9952380952380953,\n",
       " 'Choice[ER Sepsis Triage, ER Registration] | | |': 1.0,\n",
       " 'Choice[ER Registration, ER Sepsis Triage] | | |': 1.0,\n",
       " 'Responded Existence[ER Sepsis Triage, ER Registration] | | |': 1.0,\n",
       " 'Responded Existence[ER Registration, ER Sepsis Triage] | | |': 0.9990476190476191,\n",
       " 'Response[ER Registration, ER Sepsis Triage] | | |': 0.9923809523809524,\n",
       " 'Alternate Response[ER Registration, ER Sepsis Triage] | | |': 0.9923809523809524,\n",
       " 'Precedence[ER Registration, ER Sepsis Triage] | | |': 0.9933333333333333,\n",
       " 'Alternate Precedence[ER Registration, ER Sepsis Triage] | | |': 0.9933333333333333,\n",
       " 'Not Response[ER Sepsis Triage, ER Registration] | | |': 0.9933333333333333,\n",
       " 'Not Chain Response[ER Sepsis Triage, ER Registration] | | |': 0.9952380952380953,\n",
       " 'Not Chain Response[ER Registration, ER Sepsis Triage] | | |': 0.9895238095238095,\n",
       " 'Not Precedence[ER Sepsis Triage, ER Registration] | | |': 0.9933333333333333,\n",
       " 'Not Chain Precedence[ER Sepsis Triage, ER Registration] | | |': 0.9952380952380953,\n",
       " 'Not Chain Precedence[ER Registration, ER Sepsis Triage] | | |': 0.9895238095238095,\n",
       " 'Choice[ER Sepsis Triage, ER Triage] | | |': 1.0,\n",
       " 'Choice[ER Triage, ER Sepsis Triage] | | |': 1.0,\n",
       " 'Responded Existence[ER Sepsis Triage, ER Triage] | | |': 1.0,\n",
       " 'Responded Existence[ER Triage, ER Sepsis Triage] | | |': 0.9990476190476191,\n",
       " 'Response[ER Triage, ER Sepsis Triage] | | |': 0.98,\n",
       " 'Alternate Response[ER Triage, ER Sepsis Triage] | | |': 0.98,\n",
       " 'Chain Response[ER Triage, ER Sepsis Triage] | | |': 0.8590476190476191,\n",
       " 'Precedence[ER Triage, ER Sepsis Triage] | | |': 0.9838095238095238,\n",
       " 'Alternate Precedence[ER Triage, ER Sepsis Triage] | | |': 0.9838095238095238,\n",
       " 'Chain Precedence[ER Triage, ER Sepsis Triage] | | |': 0.8628571428571429,\n",
       " 'Not Response[ER Sepsis Triage, ER Triage] | | |': 0.9809523809523809,\n",
       " 'Not Chain Response[ER Sepsis Triage, ER Triage] | | |': 0.9952380952380953,\n",
       " 'Not Precedence[ER Sepsis Triage, ER Triage] | | |': 0.9809523809523809,\n",
       " 'Not Chain Precedence[ER Sepsis Triage, ER Triage] | | |': 0.9952380952380953,\n",
       " 'Choice[Leucocytes, ER Registration] | | |': 1.0,\n",
       " 'Choice[ER Registration, Leucocytes] | | |': 1.0,\n",
       " 'Responded Existence[Leucocytes, ER Registration] | | |': 1.0,\n",
       " 'Responded Existence[ER Registration, Leucocytes] | | |': 0.9638095238095238,\n",
       " 'Response[ER Registration, Leucocytes] | | |': 0.96,\n",
       " 'Alternate Response[ER Registration, Leucocytes] | | |': 0.96,\n",
       " 'Precedence[ER Registration, Leucocytes] | | |': 0.9733333333333334,\n",
       " 'Not Response[Leucocytes, ER Registration] | | |': 0.9733333333333334,\n",
       " 'Not Chain Response[Leucocytes, ER Registration] | | |': 0.9866666666666667,\n",
       " 'Not Chain Response[ER Registration, Leucocytes] | | |': 0.98,\n",
       " 'Not Precedence[Leucocytes, ER Registration] | | |': 0.9733333333333334,\n",
       " 'Not Chain Precedence[Leucocytes, ER Registration] | | |': 0.9866666666666667,\n",
       " 'Not Chain Precedence[ER Registration, Leucocytes] | | |': 0.98,\n",
       " 'Choice[Leucocytes, ER Triage] | | |': 1.0,\n",
       " 'Choice[ER Triage, Leucocytes] | | |': 1.0,\n",
       " 'Responded Existence[Leucocytes, ER Triage] | | |': 1.0,\n",
       " 'Responded Existence[ER Triage, Leucocytes] | | |': 0.9638095238095238,\n",
       " 'Response[ER Triage, Leucocytes] | | |': 0.9419047619047619,\n",
       " 'Alternate Response[ER Triage, Leucocytes] | | |': 0.9419047619047619,\n",
       " 'Precedence[ER Triage, Leucocytes] | | |': 0.9342857142857143,\n",
       " 'Not Response[Leucocytes, ER Triage] | | |': 0.9314285714285714,\n",
       " 'Not Chain Response[Leucocytes, ER Triage] | | |': 0.9895238095238095,\n",
       " 'Not Chain Response[ER Triage, Leucocytes] | | |': 0.9504761904761905,\n",
       " 'Not Precedence[Leucocytes, ER Triage] | | |': 0.9314285714285714,\n",
       " 'Not Chain Precedence[Leucocytes, ER Triage] | | |': 0.9895238095238095,\n",
       " 'Not Chain Precedence[ER Triage, Leucocytes] | | |': 0.9504761904761905,\n",
       " 'Choice[ER Sepsis Triage, Leucocytes] | | |': 1.0,\n",
       " 'Choice[Leucocytes, ER Sepsis Triage] | | |': 1.0,\n",
       " 'Responded Existence[ER Sepsis Triage, Leucocytes] | | |': 0.9638095238095238,\n",
       " 'Responded Existence[Leucocytes, ER Sepsis Triage] | | |': 0.9990476190476191,\n",
       " 'Response[ER Sepsis Triage, Leucocytes] | | |': 0.900952380952381,\n",
       " 'Alternate Response[ER Sepsis Triage, Leucocytes] | | |': 0.900952380952381,\n",
       " 'Precedence[ER Sepsis Triage, Leucocytes] | | |': 0.819047619047619,\n",
       " 'Not Response[Leucocytes, ER Sepsis Triage] | | |': 0.82,\n",
       " 'Not Chain Response[ER Sepsis Triage, Leucocytes] | | |': 0.7438095238095238,\n",
       " 'Not Chain Response[Leucocytes, ER Sepsis Triage] | | |': 0.9657142857142857,\n",
       " 'Not Precedence[Leucocytes, ER Sepsis Triage] | | |': 0.82,\n",
       " 'Not Chain Precedence[ER Sepsis Triage, Leucocytes] | | |': 0.7438095238095238,\n",
       " 'Not Chain Precedence[Leucocytes, ER Sepsis Triage] | | |': 0.9657142857142857,\n",
       " 'Choice[CRP, ER Registration] | | |': 1.0,\n",
       " 'Choice[ER Registration, CRP] | | |': 1.0,\n",
       " 'Responded Existence[CRP, ER Registration] | | |': 1.0,\n",
       " 'Responded Existence[ER Registration, CRP] | | |': 0.959047619047619,\n",
       " 'Response[ER Registration, CRP] | | |': 0.9561904761904761,\n",
       " 'Alternate Response[ER Registration, CRP] | | |': 0.9561904761904761,\n",
       " 'Precedence[ER Registration, CRP] | | |': 0.9771428571428571,\n",
       " 'Not Response[CRP, ER Registration] | | |': 0.9771428571428571,\n",
       " 'Not Chain Response[CRP, ER Registration] | | |': 0.9866666666666667,\n",
       " 'Not Chain Response[ER Registration, CRP] | | |': 0.9866666666666667,\n",
       " 'Not Precedence[CRP, ER Registration] | | |': 0.9771428571428571,\n",
       " 'Not Chain Precedence[CRP, ER Registration] | | |': 0.9866666666666667,\n",
       " 'Not Chain Precedence[ER Registration, CRP] | | |': 0.9866666666666667,\n",
       " 'Choice[CRP, ER Triage] | | |': 1.0,\n",
       " 'Choice[ER Triage, CRP] | | |': 1.0,\n",
       " 'Responded Existence[CRP, ER Triage] | | |': 1.0,\n",
       " 'Responded Existence[ER Triage, CRP] | | |': 0.959047619047619,\n",
       " 'Response[ER Triage, CRP] | | |': 0.9361904761904762,\n",
       " 'Alternate Response[ER Triage, CRP] | | |': 0.9361904761904762,\n",
       " 'Precedence[ER Triage, CRP] | | |': 0.9380952380952381,\n",
       " 'Not Response[CRP, ER Triage] | | |': 0.9352380952380952,\n",
       " 'Not Chain Response[CRP, ER Triage] | | |': 0.9847619047619047,\n",
       " 'Not Chain Response[ER Triage, CRP] | | |': 0.9542857142857143,\n",
       " 'Not Precedence[CRP, ER Triage] | | |': 0.9352380952380952,\n",
       " 'Not Chain Precedence[CRP, ER Triage] | | |': 0.9847619047619047,\n",
       " 'Not Chain Precedence[ER Triage, CRP] | | |': 0.9542857142857143,\n",
       " 'Choice[CRP, Leucocytes] | | |': 0.9647619047619047,\n",
       " 'Choice[Leucocytes, CRP] | | |': 0.9647619047619047,\n",
       " 'Responded Existence[CRP, Leucocytes] | | |': 0.9990476190476191,\n",
       " 'Responded Existence[Leucocytes, CRP] | | |': 0.9942857142857143,\n",
       " 'Choice[CRP, ER Sepsis Triage] | | |': 1.0,\n",
       " 'Choice[ER Sepsis Triage, CRP] | | |': 1.0,\n",
       " 'Responded Existence[CRP, ER Sepsis Triage] | | |': 0.9990476190476191,\n",
       " 'Responded Existence[ER Sepsis Triage, CRP] | | |': 0.959047619047619,\n",
       " 'Response[ER Sepsis Triage, CRP] | | |': 0.8990476190476191,\n",
       " 'Alternate Response[ER Sepsis Triage, CRP] | | |': 0.8990476190476191,\n",
       " 'Precedence[ER Sepsis Triage, CRP] | | |': 0.8228571428571428,\n",
       " 'Not Response[CRP, ER Sepsis Triage] | | |': 0.8238095238095238,\n",
       " 'Not Chain Response[CRP, ER Sepsis Triage] | | |': 0.9666666666666667,\n",
       " 'Not Chain Response[ER Sepsis Triage, CRP] | | |': 0.8171428571428572,\n",
       " 'Not Precedence[CRP, ER Sepsis Triage] | | |': 0.8238095238095238,\n",
       " 'Not Chain Precedence[CRP, ER Sepsis Triage] | | |': 0.9666666666666667,\n",
       " 'Not Chain Precedence[ER Sepsis Triage, CRP] | | |': 0.8171428571428572}"
      ]
     },
     "execution_count": 4,
     "metadata": {},
     "output_type": "execute_result"
    }
   ],
   "source": [
    "d4py.filter_discovery(min_support=0.7, output_path='sepsis_model_discovered.decl')"
   ]
  },
  {
   "cell_type": "code",
   "execution_count": null,
   "id": "2fb924cf",
   "metadata": {},
   "outputs": [],
   "source": []
  }
 ],
 "metadata": {
  "kernelspec": {
   "display_name": "Python 3 (ipykernel)",
   "language": "python",
   "name": "python3"
  },
  "language_info": {
   "codemirror_mode": {
    "name": "ipython",
    "version": 3
   },
   "file_extension": ".py",
   "mimetype": "text/x-python",
   "name": "python",
   "nbconvert_exporter": "python",
   "pygments_lexer": "ipython3",
   "version": "3.9.7"
  }
 },
 "nbformat": 4,
 "nbformat_minor": 5
}
