{
 "cells": [
  {
   "cell_type": "markdown",
   "id": "dac6605a",
   "metadata": {},
   "source": [
    "# Query Checking in Declare4Py\n",
    "\n",
    "This tutorial explains how to perform the query checking of a DECLARE constraint in a log and how to browse the results.\n",
    "\n",
    "After importing the Declare4Py package, a `Declare4Py` object has to be instantiated to load the log."
   ]
  },
  {
   "cell_type": "code",
   "execution_count": 1,
   "id": "427abbac",
   "metadata": {},
   "outputs": [
    {
     "data": {
      "application/vnd.jupyter.widget-view+json": {
       "model_id": "b704c39928e64d29b7b4d5dfb84fcd34",
       "version_major": 2,
       "version_minor": 0
      },
      "text/plain": [
       "parsing log, completed traces ::   0%|          | 0/1050 [00:00<?, ?it/s]"
      ]
     },
     "metadata": {},
     "output_type": "display_data"
    }
   ],
   "source": [
    "import sys\n",
    "sys.path.append(\"..\")\n",
    "import os\n",
    "from src.api.declare4py import Declare4Py\n",
    "\n",
    "\n",
    "log_path = os.path.join(\"..\", \"test\", \"Sepsis Cases.xes.gz\")\n",
    "\n",
    "d4py = Declare4Py()\n",
    "d4py.parse_xes_log(log_path)"
   ]
  },
  {
   "cell_type": "markdown",
   "id": "fbcf695b",
   "metadata": {},
   "source": [
    "The query checking is performed with the `query_checking` function. This takes as input the boolean parameter `consider_vacuity=true` that means that vacuously satisfied traces are considered as satisfied, violated otherwise. The parameter `template_str` sets the DECLARE constraint. Then the string parameters `activation` and `target` sets the variables to ask. If these parameters are not set then they are considered as variables to which compute the assignments. The input string parameters `act_cond`, `trg_cond`, `time_cond` are used to set the activation, target and time conditions (if needed), respectively. The float `min_support` parameter sets the support to be satisfied in the log by the variable assignments.\n",
    "\n",
    "Two related query checking tasks can be performed by setting the `return_first` boolean parameter:\n",
    "1. `return_first=False` returns all the variables assignments that satisfy the support in the log.\n",
    "2. `return_first=True` returns only one variables assignment (the first) that satisfy the support in the log. This saves computational time when one is only interested in the existence of a variable assignment with a given support.\n",
    "\n",
    "The returned data structure is a Python dictionary with keys the Declare constraints satisfying the assignments. The values are a structured representations of these constraints. Let's compute the assignments for the target by setting `template_str='Chain Response'`, `activation='IV Antibiotics'`, `act_cond='A.org:group is A'` and `min_support=0.2`:"
   ]
  },
  {
   "cell_type": "code",
   "execution_count": 2,
   "id": "ab182fa1",
   "metadata": {},
   "outputs": [
    {
     "name": "stdout",
     "output_type": "stream",
     "text": [
      "Computing query checking ...\n",
      "Chain Response[IV Antibiotics, ER Triage] |A.org:group is A | | -> {'template': 'Chain Response', 'activation': 'IV Antibiotics', 'target': 'ER Triage', 'act_cond': 'A.org:group is A', 'trg_cond': '', 'time_cond': ''}\n",
      "Chain Response[IV Antibiotics, Release E] |A.org:group is A | | -> {'template': 'Chain Response', 'activation': 'IV Antibiotics', 'target': 'Release E', 'act_cond': 'A.org:group is A', 'trg_cond': '', 'time_cond': ''}\n",
      "Chain Response[IV Antibiotics, LacticAcid] |A.org:group is A | | -> {'template': 'Chain Response', 'activation': 'IV Antibiotics', 'target': 'LacticAcid', 'act_cond': 'A.org:group is A', 'trg_cond': '', 'time_cond': ''}\n",
      "Chain Response[IV Antibiotics, IV Liquid] |A.org:group is A | | -> {'template': 'Chain Response', 'activation': 'IV Antibiotics', 'target': 'IV Liquid', 'act_cond': 'A.org:group is A', 'trg_cond': '', 'time_cond': ''}\n",
      "Chain Response[IV Antibiotics, Admission IC] |A.org:group is A | | -> {'template': 'Chain Response', 'activation': 'IV Antibiotics', 'target': 'Admission IC', 'act_cond': 'A.org:group is A', 'trg_cond': '', 'time_cond': ''}\n",
      "Chain Response[IV Antibiotics, Release B] |A.org:group is A | | -> {'template': 'Chain Response', 'activation': 'IV Antibiotics', 'target': 'Release B', 'act_cond': 'A.org:group is A', 'trg_cond': '', 'time_cond': ''}\n",
      "Chain Response[IV Antibiotics, Release D] |A.org:group is A | | -> {'template': 'Chain Response', 'activation': 'IV Antibiotics', 'target': 'Release D', 'act_cond': 'A.org:group is A', 'trg_cond': '', 'time_cond': ''}\n",
      "Chain Response[IV Antibiotics, CRP] |A.org:group is A | | -> {'template': 'Chain Response', 'activation': 'IV Antibiotics', 'target': 'CRP', 'act_cond': 'A.org:group is A', 'trg_cond': '', 'time_cond': ''}\n",
      "Chain Response[IV Antibiotics, Return ER] |A.org:group is A | | -> {'template': 'Chain Response', 'activation': 'IV Antibiotics', 'target': 'Return ER', 'act_cond': 'A.org:group is A', 'trg_cond': '', 'time_cond': ''}\n",
      "Chain Response[IV Antibiotics, Leucocytes] |A.org:group is A | | -> {'template': 'Chain Response', 'activation': 'IV Antibiotics', 'target': 'Leucocytes', 'act_cond': 'A.org:group is A', 'trg_cond': '', 'time_cond': ''}\n",
      "Chain Response[IV Antibiotics, ER Sepsis Triage] |A.org:group is A | | -> {'template': 'Chain Response', 'activation': 'IV Antibiotics', 'target': 'ER Sepsis Triage', 'act_cond': 'A.org:group is A', 'trg_cond': '', 'time_cond': ''}\n",
      "Chain Response[IV Antibiotics, Release A] |A.org:group is A | | -> {'template': 'Chain Response', 'activation': 'IV Antibiotics', 'target': 'Release A', 'act_cond': 'A.org:group is A', 'trg_cond': '', 'time_cond': ''}\n",
      "Chain Response[IV Antibiotics, Release C] |A.org:group is A | | -> {'template': 'Chain Response', 'activation': 'IV Antibiotics', 'target': 'Release C', 'act_cond': 'A.org:group is A', 'trg_cond': '', 'time_cond': ''}\n",
      "Chain Response[IV Antibiotics, Admission NC] |A.org:group is A | | -> {'template': 'Chain Response', 'activation': 'IV Antibiotics', 'target': 'Admission NC', 'act_cond': 'A.org:group is A', 'trg_cond': '', 'time_cond': ''}\n",
      "Chain Response[IV Antibiotics, ER Registration] |A.org:group is A | | -> {'template': 'Chain Response', 'activation': 'IV Antibiotics', 'target': 'ER Registration', 'act_cond': 'A.org:group is A', 'trg_cond': '', 'time_cond': ''}\n"
     ]
    }
   ],
   "source": [
    "res_1 = d4py.query_checking(consider_vacuity=True, template_str='Chain Response', activation='IV Antibiotics', act_cond='A.org:group is A', min_support=0.2, return_first=False)\n",
    "\n",
    "# exploring the results\n",
    "for k, v in res_1.items():\n",
    "    print(f\"{k} -> {v}\")"
   ]
  },
  {
   "cell_type": "markdown",
   "id": "67577003",
   "metadata": {},
   "source": [
    "The query checking results can be filtered with the `filter_query_checking()` function whose parameter `queries` takes as input a list of variables to ask. In the above example, we set the template and activation and ask for the targets. We now filter the results by returning only the targets:"
   ]
  },
  {
   "cell_type": "code",
   "execution_count": 3,
   "id": "8cdc0eed",
   "metadata": {},
   "outputs": [
    {
     "name": "stdout",
     "output_type": "stream",
     "text": [
      "['ER Triage']\n",
      "['Release E']\n",
      "['LacticAcid']\n",
      "['IV Liquid']\n",
      "['Admission IC']\n",
      "['Release B']\n",
      "['Release D']\n",
      "['CRP']\n",
      "['Return ER']\n",
      "['Leucocytes']\n",
      "['ER Sepsis Triage']\n",
      "['Release A']\n",
      "['Release C']\n",
      "['Admission NC']\n",
      "['ER Registration']\n"
     ]
    }
   ],
   "source": [
    "for tg in d4py.filter_query_checking(queries=['target']):\n",
    "    print(tg)"
   ]
  },
  {
   "cell_type": "markdown",
   "id": "efffc3c5",
   "metadata": {},
   "source": [
    "In the following example we compute the assignments both for the activation and the target by setting `template_str='Response'` and `min_support=0.8`:"
   ]
  },
  {
   "cell_type": "code",
   "execution_count": 4,
   "id": "7bd7cd74",
   "metadata": {},
   "outputs": [
    {
     "name": "stdout",
     "output_type": "stream",
     "text": [
      "Computing query checking ...\n",
      "Response[ER Triage, CRP] | | | -> {'template': 'Response', 'activation': 'ER Triage', 'target': 'CRP', 'act_cond': '', 'trg_cond': '', 'time_cond': ''}\n",
      "Response[ER Triage, Leucocytes] | | | -> {'template': 'Response', 'activation': 'ER Triage', 'target': 'Leucocytes', 'act_cond': '', 'trg_cond': '', 'time_cond': ''}\n",
      "Response[ER Triage, ER Sepsis Triage] | | | -> {'template': 'Response', 'activation': 'ER Triage', 'target': 'ER Sepsis Triage', 'act_cond': '', 'trg_cond': '', 'time_cond': ''}\n",
      "Response[ER Sepsis Triage, CRP] | | | -> {'template': 'Response', 'activation': 'ER Sepsis Triage', 'target': 'CRP', 'act_cond': '', 'trg_cond': '', 'time_cond': ''}\n",
      "Response[ER Sepsis Triage, Leucocytes] | | | -> {'template': 'Response', 'activation': 'ER Sepsis Triage', 'target': 'Leucocytes', 'act_cond': '', 'trg_cond': '', 'time_cond': ''}\n",
      "Response[ER Registration, ER Triage] | | | -> {'template': 'Response', 'activation': 'ER Registration', 'target': 'ER Triage', 'act_cond': '', 'trg_cond': '', 'time_cond': ''}\n",
      "Response[ER Registration, LacticAcid] | | | -> {'template': 'Response', 'activation': 'ER Registration', 'target': 'LacticAcid', 'act_cond': '', 'trg_cond': '', 'time_cond': ''}\n",
      "Response[ER Registration, CRP] | | | -> {'template': 'Response', 'activation': 'ER Registration', 'target': 'CRP', 'act_cond': '', 'trg_cond': '', 'time_cond': ''}\n",
      "Response[ER Registration, Leucocytes] | | | -> {'template': 'Response', 'activation': 'ER Registration', 'target': 'Leucocytes', 'act_cond': '', 'trg_cond': '', 'time_cond': ''}\n",
      "Response[ER Registration, ER Sepsis Triage] | | | -> {'template': 'Response', 'activation': 'ER Registration', 'target': 'ER Sepsis Triage', 'act_cond': '', 'trg_cond': '', 'time_cond': ''}\n"
     ]
    }
   ],
   "source": [
    "res_2 = d4py.query_checking(consider_vacuity=False, template_str='Response', min_support=0.8, return_first=False)\n",
    "\n",
    "# exploring the results\n",
    "for k, v in res_2.items():\n",
    "    print(f\"{k} -> {v}\")"
   ]
  },
  {
   "cell_type": "markdown",
   "id": "2df4afb4",
   "metadata": {},
   "source": [
    "In this example, we set the template and ask for the activations and targets. We now filter the results by returning both activations and targets:"
   ]
  },
  {
   "cell_type": "code",
   "execution_count": 5,
   "id": "d0b5cb83",
   "metadata": {},
   "outputs": [
    {
     "name": "stdout",
     "output_type": "stream",
     "text": [
      "['ER Triage', 'CRP']\n",
      "['ER Triage', 'Leucocytes']\n",
      "['ER Triage', 'ER Sepsis Triage']\n",
      "['ER Sepsis Triage', 'CRP']\n",
      "['ER Sepsis Triage', 'Leucocytes']\n",
      "['ER Registration', 'ER Triage']\n",
      "['ER Registration', 'LacticAcid']\n",
      "['ER Registration', 'CRP']\n",
      "['ER Registration', 'Leucocytes']\n",
      "['ER Registration', 'ER Sepsis Triage']\n"
     ]
    }
   ],
   "source": [
    "for tg in d4py.filter_query_checking(queries=['activation', 'target']):\n",
    "    print(tg)"
   ]
  },
  {
   "cell_type": "code",
   "execution_count": 6,
   "id": "cba37244",
   "metadata": {},
   "outputs": [
    {
     "name": "stdout",
     "output_type": "stream",
     "text": [
      "Computing query checking ...\n"
     ]
    }
   ],
   "source": [
    "res_3 = d4py.query_checking(consider_vacuity=False, activation='ER Registration', target='CRP', min_support=0.2, return_first=False)"
   ]
  },
  {
   "cell_type": "code",
   "execution_count": 7,
   "id": "01287b46",
   "metadata": {},
   "outputs": [
    {
     "name": "stdout",
     "output_type": "stream",
     "text": [
      "Choice[ER Registration, CRP] | | | -> {'template': 'Choice', 'activation': 'ER Registration', 'target': 'CRP', 'act_cond': '', 'trg_cond': '', 'time_cond': ''}\n",
      "Responded Existence[ER Registration, CRP] | | | -> {'template': 'Responded Existence', 'activation': 'ER Registration', 'target': 'CRP', 'act_cond': '', 'trg_cond': '', 'time_cond': ''}\n",
      "Response[ER Registration, CRP] | | | -> {'template': 'Response', 'activation': 'ER Registration', 'target': 'CRP', 'act_cond': '', 'trg_cond': '', 'time_cond': ''}\n",
      "Alternate Response[ER Registration, CRP] | | | -> {'template': 'Alternate Response', 'activation': 'ER Registration', 'target': 'CRP', 'act_cond': '', 'trg_cond': '', 'time_cond': ''}\n",
      "Precedence[ER Registration, CRP] | | | -> {'template': 'Precedence', 'activation': 'ER Registration', 'target': 'CRP', 'act_cond': '', 'trg_cond': '', 'time_cond': ''}\n",
      "Alternate Precedence[ER Registration, CRP] | | | -> {'template': 'Alternate Precedence', 'activation': 'ER Registration', 'target': 'CRP', 'act_cond': '', 'trg_cond': '', 'time_cond': ''}\n",
      "Not Chain Response[ER Registration, CRP] | | | -> {'template': 'Not Chain Response', 'activation': 'ER Registration', 'target': 'CRP', 'act_cond': '', 'trg_cond': '', 'time_cond': ''}\n",
      "Not Chain Precedence[ER Registration, CRP] | | | -> {'template': 'Not Chain Precedence', 'activation': 'ER Registration', 'target': 'CRP', 'act_cond': '', 'trg_cond': '', 'time_cond': ''}\n"
     ]
    }
   ],
   "source": [
    "for k, v in res_3.items():\n",
    "    print(f\"{k} -> {v}\")"
   ]
  },
  {
   "cell_type": "code",
   "execution_count": null,
   "id": "ee8b052d",
   "metadata": {},
   "outputs": [],
   "source": []
  }
 ],
 "metadata": {
  "kernelspec": {
   "display_name": "Python 3 (ipykernel)",
   "language": "python",
   "name": "python3"
  },
  "language_info": {
   "codemirror_mode": {
    "name": "ipython",
    "version": 3
   },
   "file_extension": ".py",
   "mimetype": "text/x-python",
   "name": "python",
   "nbconvert_exporter": "python",
   "pygments_lexer": "ipython3",
   "version": "3.9.7"
  }
 },
 "nbformat": 4,
 "nbformat_minor": 5
}
