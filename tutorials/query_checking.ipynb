{
 "cells": [
  {
   "cell_type": "markdown",
   "id": "dac6605a",
   "metadata": {},
   "source": [
    "# Query Checking in Declare4Py\n",
    "\n",
    "This tutorial explains how to perform the query checking of a DECLARE constraint in a log and how to browse the results.\n",
    "\n",
    "After importing the Declare4Py package, a `Declare4Py` object has to be instantiated to load the log."
   ]
  },
  {
   "cell_type": "code",
   "execution_count": 3,
   "id": "91723b33",
   "metadata": {},
   "outputs": [
    {
     "data": {
      "application/vnd.jupyter.widget-view+json": {
       "model_id": "12e5698cef15477f8e154ce0e0ba589b",
       "version_major": 2,
       "version_minor": 0
      },
      "text/plain": [
       "parsing log, completed traces ::   0%|          | 0/1050 [00:00<?, ?it/s]"
      ]
     },
     "metadata": {},
     "output_type": "display_data"
    }
   ],
   "source": [
    "import sys\n",
    "import os\n",
    "import pathlib\n",
    "\n",
    "SCRIPT_DIR = pathlib.Path(\"..\", \"src\").resolve()\n",
    "sys.path.append(os.path.dirname(SCRIPT_DIR))\n",
    "\n",
    "from src.declare4py.ProcessModels.DeclareModel import DeclareModel\n",
    "from src.declare4py.ProcessMiningTasks.DeclareQueryChecking.QueryChecker import QueryChecker\n",
    "from src.declare4py.ProcessMiningTasks.DeclareQueryChecking.ResultsBrowser import ResultsBrowser\n",
    "from src.declare4py.D4PyEventLog import D4PyEventLog\n",
    "\n",
    "log_path = os.path.join(\"..\", \"tests\", \"Sepsis Cases.xes.gz\")\n",
    "event_log = D4PyEventLog()\n",
    "event_log.parse_xes_log(log_path)"
   ]
  },
  {
   "cell_type": "markdown",
   "id": "fbcf695b",
   "metadata": {},
   "source": [
    "The query checking is performed with the `query_checking` function. This takes as input the boolean parameter `consider_vacuity=true` that means that vacuously satisfied traces are considered as satisfied, violated otherwise. The parameter `template_str` sets the DECLARE constraint. Then the string parameters `activation` and `target` sets the variables to ask. If these parameters are not set then they are considered as variables to which compute the assignments. The input string parameters `act_cond`, `trg_cond`, `time_cond` are used to set the activation, target and time conditions (if needed), respectively. The float `min_support` parameter sets the support to be satisfied in the log by the variable assignments.\n",
    "\n",
    "Two related query checking tasks can be performed by setting the `return_first` boolean parameter:\n",
    "1. `return_first=False` returns all the variables assignments that satisfy the support in the log.\n",
    "2. `return_first=True` returns only one variables assignment (the first) that satisfy the support in the log. This saves computational time when one is only interested in the existence of a variable assignment with a given support.\n",
    "\n",
    "The returned data structure is a Python dictionary with keys the Declare constraints satisfying the assignments. The values are a structured representations of these constraints. Let's compute the assignments for the target by setting `template_str='Chain Response'`, `activation='IV Antibiotics'`, `act_cond='A.org:group is A'` and `min_support=0.2`:"
   ]
  },
  {
   "cell_type": "code",
   "execution_count": 4,
   "id": "ab182fa1",
   "metadata": {},
   "outputs": [],
   "source": [
    "query_checker = QueryChecker(log=event_log, consider_vacuity=False, template='Chain Response', activation='IV Antibiotics', activation_condition='A.org:group is A', min_support=0.2, activity_attribute=\"concept:name\", return_first=False)\n",
    "query_check_res: ResultsBrowser = query_checker.run()"
   ]
  },
  {
   "cell_type": "markdown",
   "id": "67577003",
   "metadata": {},
   "source": [
    "The query checking results can be filtered with the `filter_query_checking()` function whose parameter `queries` takes as input a list of variables to ask. In the above example, we set the template and activation and ask for the targets. We now filter the results by returning only the targets:"
   ]
  },
  {
   "cell_type": "code",
   "execution_count": 5,
   "id": "8cdc0eed",
   "metadata": {},
   "outputs": [
    {
     "data": {
      "text/html": [
       "<div>\n",
       "<style scoped>\n",
       "    .dataframe tbody tr th:only-of-type {\n",
       "        vertical-align: middle;\n",
       "    }\n",
       "\n",
       "    .dataframe tbody tr th {\n",
       "        vertical-align: top;\n",
       "    }\n",
       "\n",
       "    .dataframe thead th {\n",
       "        text-align: right;\n",
       "    }\n",
       "</style>\n",
       "<table border=\"1\" class=\"dataframe\">\n",
       "  <thead>\n",
       "    <tr style=\"text-align: right;\">\n",
       "      <th></th>\n",
       "      <th>target</th>\n",
       "    </tr>\n",
       "  </thead>\n",
       "  <tbody>\n",
       "    <tr>\n",
       "      <th>0</th>\n",
       "      <td>Admission NC</td>\n",
       "    </tr>\n",
       "  </tbody>\n",
       "</table>\n",
       "</div>"
      ],
      "text/plain": [
       "         target\n",
       "0  Admission NC"
      ]
     },
     "execution_count": 5,
     "metadata": {},
     "output_type": "execute_result"
    }
   ],
   "source": [
    "query_check_res.filter_query_checking(queries=['target'])"
   ]
  },
  {
   "cell_type": "markdown",
   "id": "efffc3c5",
   "metadata": {},
   "source": [
    "In the following example we compute the assignments both for the activation and the target by setting `template_str='Response'` and `min_support=0.8`:"
   ]
  },
  {
   "cell_type": "code",
   "execution_count": 8,
   "id": "7bd7cd74",
   "metadata": {},
   "outputs": [],
   "source": [
    "query_checker = QueryChecker(log=event_log, consider_vacuity=False, template='Response', min_support=0.8, activity_attribute=\"concept:name\", return_first=False)\n",
    "query_check_res: ResultsBrowser = query_checker.run()"
   ]
  },
  {
   "cell_type": "markdown",
   "id": "2df4afb4",
   "metadata": {},
   "source": [
    "In this example, we set the template and ask for the activations and targets. We now filter the results by returning both activations and targets:"
   ]
  },
  {
   "cell_type": "code",
   "execution_count": 11,
   "id": "d0b5cb83",
   "metadata": {},
   "outputs": [
    {
     "data": {
      "text/html": [
       "<div>\n",
       "<style scoped>\n",
       "    .dataframe tbody tr th:only-of-type {\n",
       "        vertical-align: middle;\n",
       "    }\n",
       "\n",
       "    .dataframe tbody tr th {\n",
       "        vertical-align: top;\n",
       "    }\n",
       "\n",
       "    .dataframe thead th {\n",
       "        text-align: right;\n",
       "    }\n",
       "</style>\n",
       "<table border=\"1\" class=\"dataframe\">\n",
       "  <thead>\n",
       "    <tr style=\"text-align: right;\">\n",
       "      <th></th>\n",
       "      <th>activation</th>\n",
       "      <th>target</th>\n",
       "      <th>template</th>\n",
       "    </tr>\n",
       "  </thead>\n",
       "  <tbody>\n",
       "    <tr>\n",
       "      <th>0</th>\n",
       "      <td>ER Triage</td>\n",
       "      <td>Leucocytes</td>\n",
       "      <td>Response</td>\n",
       "    </tr>\n",
       "    <tr>\n",
       "      <th>1</th>\n",
       "      <td>ER Triage</td>\n",
       "      <td>ER Sepsis Triage</td>\n",
       "      <td>Response</td>\n",
       "    </tr>\n",
       "    <tr>\n",
       "      <th>2</th>\n",
       "      <td>ER Triage</td>\n",
       "      <td>CRP</td>\n",
       "      <td>Response</td>\n",
       "    </tr>\n",
       "    <tr>\n",
       "      <th>3</th>\n",
       "      <td>ER Registration</td>\n",
       "      <td>ER Triage</td>\n",
       "      <td>Response</td>\n",
       "    </tr>\n",
       "    <tr>\n",
       "      <th>4</th>\n",
       "      <td>ER Registration</td>\n",
       "      <td>Leucocytes</td>\n",
       "      <td>Response</td>\n",
       "    </tr>\n",
       "    <tr>\n",
       "      <th>5</th>\n",
       "      <td>ER Registration</td>\n",
       "      <td>LacticAcid</td>\n",
       "      <td>Response</td>\n",
       "    </tr>\n",
       "    <tr>\n",
       "      <th>6</th>\n",
       "      <td>ER Registration</td>\n",
       "      <td>ER Sepsis Triage</td>\n",
       "      <td>Response</td>\n",
       "    </tr>\n",
       "    <tr>\n",
       "      <th>7</th>\n",
       "      <td>ER Registration</td>\n",
       "      <td>CRP</td>\n",
       "      <td>Response</td>\n",
       "    </tr>\n",
       "    <tr>\n",
       "      <th>8</th>\n",
       "      <td>ER Sepsis Triage</td>\n",
       "      <td>Leucocytes</td>\n",
       "      <td>Response</td>\n",
       "    </tr>\n",
       "    <tr>\n",
       "      <th>9</th>\n",
       "      <td>ER Sepsis Triage</td>\n",
       "      <td>CRP</td>\n",
       "      <td>Response</td>\n",
       "    </tr>\n",
       "  </tbody>\n",
       "</table>\n",
       "</div>"
      ],
      "text/plain": [
       "         activation            target  template\n",
       "0         ER Triage        Leucocytes  Response\n",
       "1         ER Triage  ER Sepsis Triage  Response\n",
       "2         ER Triage               CRP  Response\n",
       "3   ER Registration         ER Triage  Response\n",
       "4   ER Registration        Leucocytes  Response\n",
       "5   ER Registration        LacticAcid  Response\n",
       "6   ER Registration  ER Sepsis Triage  Response\n",
       "7   ER Registration               CRP  Response\n",
       "8  ER Sepsis Triage        Leucocytes  Response\n",
       "9  ER Sepsis Triage               CRP  Response"
      ]
     },
     "execution_count": 11,
     "metadata": {},
     "output_type": "execute_result"
    }
   ],
   "source": [
    "query_check_res.filter_query_checking(queries=['activation', 'target', 'template'])"
   ]
  },
  {
   "cell_type": "code",
   "execution_count": 10,
   "id": "cba37244",
   "metadata": {},
   "outputs": [
    {
     "ename": "AttributeError",
     "evalue": "'TemplateConstraintChecker' object has no attribute 'mpSuccession'",
     "output_type": "error",
     "traceback": [
      "\u001b[0;31m---------------------------------------------------------------------------\u001b[0m",
      "\u001b[0;31mAttributeError\u001b[0m                            Traceback (most recent call last)",
      "\u001b[0;32m/var/folders/5w/6k152p214xbc6ghcldxtvf2r0000gq/T/ipykernel_71768/2932304736.py\u001b[0m in \u001b[0;36m<module>\u001b[0;34m\u001b[0m\n\u001b[1;32m      1\u001b[0m \u001b[0mquery_checker\u001b[0m \u001b[0;34m=\u001b[0m \u001b[0mQueryChecker\u001b[0m\u001b[0;34m(\u001b[0m\u001b[0mlog\u001b[0m\u001b[0;34m=\u001b[0m\u001b[0mevent_log\u001b[0m\u001b[0;34m,\u001b[0m \u001b[0mconsider_vacuity\u001b[0m\u001b[0;34m=\u001b[0m\u001b[0;32mFalse\u001b[0m\u001b[0;34m,\u001b[0m \u001b[0mactivation\u001b[0m\u001b[0;34m=\u001b[0m\u001b[0;34m'ER Registration'\u001b[0m\u001b[0;34m,\u001b[0m \u001b[0mtarget\u001b[0m\u001b[0;34m=\u001b[0m\u001b[0;34m'CRP'\u001b[0m\u001b[0;34m,\u001b[0m \u001b[0mmin_support\u001b[0m\u001b[0;34m=\u001b[0m\u001b[0;36m0.2\u001b[0m\u001b[0;34m,\u001b[0m \u001b[0mactivity_attribute\u001b[0m\u001b[0;34m=\u001b[0m\u001b[0;34m\"concept:name\"\u001b[0m\u001b[0;34m,\u001b[0m \u001b[0mreturn_first\u001b[0m\u001b[0;34m=\u001b[0m\u001b[0;32mFalse\u001b[0m\u001b[0;34m)\u001b[0m\u001b[0;34m\u001b[0m\u001b[0;34m\u001b[0m\u001b[0m\n\u001b[0;32m----> 2\u001b[0;31m \u001b[0mquery_check_res\u001b[0m\u001b[0;34m:\u001b[0m \u001b[0mResultsBrowser\u001b[0m \u001b[0;34m=\u001b[0m \u001b[0mquery_checker\u001b[0m\u001b[0;34m.\u001b[0m\u001b[0mrun\u001b[0m\u001b[0;34m(\u001b[0m\u001b[0;34m)\u001b[0m\u001b[0;34m\u001b[0m\u001b[0;34m\u001b[0m\u001b[0m\n\u001b[0m\u001b[1;32m      3\u001b[0m \u001b[0;34m\u001b[0m\u001b[0m\n\u001b[1;32m      4\u001b[0m \u001b[0mquery_check_res\u001b[0m\u001b[0;34m.\u001b[0m\u001b[0mfilter_query_checking\u001b[0m\u001b[0;34m(\u001b[0m\u001b[0mqueries\u001b[0m\u001b[0;34m=\u001b[0m\u001b[0;34m[\u001b[0m\u001b[0;34m'activation'\u001b[0m\u001b[0;34m,\u001b[0m \u001b[0;34m'target'\u001b[0m\u001b[0;34m]\u001b[0m\u001b[0;34m)\u001b[0m\u001b[0;34m\u001b[0m\u001b[0;34m\u001b[0m\u001b[0m\n",
      "\u001b[0;32m~/PycharmProjects/declare4py-v2.0/src/declare4py/ProcessMiningTasks/DeclareQueryChecking/QueryChecker.py\u001b[0m in \u001b[0;36mrun\u001b[0;34m(self)\u001b[0m\n\u001b[1;32m    169\u001b[0m \u001b[0;34m\u001b[0m\u001b[0m\n\u001b[1;32m    170\u001b[0m                     \u001b[0;31m#constraint_str = self.constraint_checking_with_support(constraint)\u001b[0m\u001b[0;34m\u001b[0m\u001b[0;34m\u001b[0m\u001b[0m\n\u001b[0;32m--> 171\u001b[0;31m                     \u001b[0mconstraint_str\u001b[0m \u001b[0;34m=\u001b[0m \u001b[0mConstraintChecker\u001b[0m\u001b[0;34m(\u001b[0m\u001b[0;34m)\u001b[0m\u001b[0;34m.\u001b[0m\u001b[0mconstraint_checking_with_support\u001b[0m\u001b[0;34m(\u001b[0m\u001b[0mconstraint\u001b[0m\u001b[0;34m,\u001b[0m \u001b[0mself\u001b[0m\u001b[0;34m.\u001b[0m\u001b[0mevent_log\u001b[0m\u001b[0;34m,\u001b[0m \u001b[0mself\u001b[0m\u001b[0;34m.\u001b[0m\u001b[0mconsider_vacuity\u001b[0m\u001b[0;34m,\u001b[0m \u001b[0mself\u001b[0m\u001b[0;34m.\u001b[0m\u001b[0mmin_support\u001b[0m\u001b[0;34m)\u001b[0m\u001b[0;34m\u001b[0m\u001b[0;34m\u001b[0m\u001b[0m\n\u001b[0m\u001b[1;32m    172\u001b[0m                     \u001b[0;32mif\u001b[0m \u001b[0mconstraint_str\u001b[0m\u001b[0;34m:\u001b[0m\u001b[0;34m\u001b[0m\u001b[0;34m\u001b[0m\u001b[0m\n\u001b[1;32m    173\u001b[0m                         \u001b[0;31m#res_value = {\u001b[0m\u001b[0;34m\u001b[0m\u001b[0;34m\u001b[0m\u001b[0m\n",
      "\u001b[0;32m~/PycharmProjects/declare4py-v2.0/src/declare4py/Utils/Declare/Checkers.py\u001b[0m in \u001b[0;36mconstraint_checking_with_support\u001b[0;34m(self, constraint, event_log, consider_vacuity, min_support)\u001b[0m\n\u001b[1;32m     72\u001b[0m \u001b[0;34m\u001b[0m\u001b[0m\n\u001b[1;32m     73\u001b[0m         \u001b[0;32mfor\u001b[0m \u001b[0mi\u001b[0m\u001b[0;34m,\u001b[0m \u001b[0mtrace\u001b[0m \u001b[0;32min\u001b[0m \u001b[0menumerate\u001b[0m\u001b[0;34m(\u001b[0m\u001b[0mevent_log\u001b[0m\u001b[0;34m.\u001b[0m\u001b[0mget_log\u001b[0m\u001b[0;34m(\u001b[0m\u001b[0;34m)\u001b[0m\u001b[0;34m)\u001b[0m\u001b[0;34m:\u001b[0m\u001b[0;34m\u001b[0m\u001b[0;34m\u001b[0m\u001b[0m\n\u001b[0;32m---> 74\u001b[0;31m             \u001b[0mtrc_res\u001b[0m \u001b[0;34m=\u001b[0m \u001b[0mself\u001b[0m\u001b[0;34m.\u001b[0m\u001b[0mcheck_trace_conformance\u001b[0m\u001b[0;34m(\u001b[0m\u001b[0mtrace\u001b[0m\u001b[0;34m,\u001b[0m \u001b[0mtmp_model\u001b[0m\u001b[0;34m,\u001b[0m \u001b[0mconsider_vacuity\u001b[0m\u001b[0;34m)\u001b[0m\u001b[0;34m\u001b[0m\u001b[0;34m\u001b[0m\u001b[0m\n\u001b[0m\u001b[1;32m     75\u001b[0m             \u001b[0;32mif\u001b[0m \u001b[0;32mnot\u001b[0m \u001b[0mtrc_res\u001b[0m\u001b[0;34m:\u001b[0m  \u001b[0;31m# Occurring when constraint data conditions are formatted bad\u001b[0m\u001b[0;34m\u001b[0m\u001b[0;34m\u001b[0m\u001b[0m\n\u001b[1;32m     76\u001b[0m                 \u001b[0;32mbreak\u001b[0m\u001b[0;34m\u001b[0m\u001b[0;34m\u001b[0m\u001b[0m\n",
      "\u001b[0;32m~/PycharmProjects/declare4py-v2.0/src/declare4py/Utils/Declare/Checkers.py\u001b[0m in \u001b[0;36mcheck_trace_conformance\u001b[0;34m(trace, decl_model, consider_vacuity)\u001b[0m\n\u001b[1;32m     43\u001b[0m             \u001b[0mrules\u001b[0m\u001b[0;34m[\u001b[0m\u001b[0;34m\"time\"\u001b[0m\u001b[0;34m]\u001b[0m \u001b[0;34m=\u001b[0m \u001b[0mconstraint\u001b[0m\u001b[0;34m[\u001b[0m\u001b[0;34m'condition'\u001b[0m\u001b[0;34m]\u001b[0m\u001b[0;34m[\u001b[0m\u001b[0;34m-\u001b[0m\u001b[0;36m1\u001b[0m\u001b[0;34m]\u001b[0m  \u001b[0;31m# time condition is always at last position\u001b[0m\u001b[0;34m\u001b[0m\u001b[0;34m\u001b[0m\u001b[0m\n\u001b[1;32m     44\u001b[0m             \u001b[0;32mtry\u001b[0m\u001b[0;34m:\u001b[0m\u001b[0;34m\u001b[0m\u001b[0;34m\u001b[0m\u001b[0m\n\u001b[0;32m---> 45\u001b[0;31m                 \u001b[0mtrace_results\u001b[0m\u001b[0;34m.\u001b[0m\u001b[0mappend\u001b[0m\u001b[0;34m(\u001b[0m\u001b[0mTemplateConstraintChecker\u001b[0m\u001b[0;34m(\u001b[0m\u001b[0mtrace\u001b[0m\u001b[0;34m,\u001b[0m \u001b[0;32mTrue\u001b[0m\u001b[0;34m,\u001b[0m \u001b[0mconstraint\u001b[0m\u001b[0;34m[\u001b[0m\u001b[0;34m'activities'\u001b[0m\u001b[0;34m]\u001b[0m\u001b[0;34m,\u001b[0m \u001b[0mrules\u001b[0m\u001b[0;34m)\u001b[0m\u001b[0;34m.\u001b[0m\u001b[0mget_template\u001b[0m\u001b[0;34m(\u001b[0m\u001b[0mconstraint\u001b[0m\u001b[0;34m[\u001b[0m\u001b[0;34m'template'\u001b[0m\u001b[0;34m]\u001b[0m\u001b[0;34m)\u001b[0m\u001b[0;34m(\u001b[0m\u001b[0;34m)\u001b[0m\u001b[0;34m)\u001b[0m\u001b[0;34m\u001b[0m\u001b[0;34m\u001b[0m\u001b[0m\n\u001b[0m\u001b[1;32m     46\u001b[0m             \u001b[0;32mexcept\u001b[0m \u001b[0mSyntaxError\u001b[0m\u001b[0;34m:\u001b[0m\u001b[0;34m\u001b[0m\u001b[0;34m\u001b[0m\u001b[0m\n\u001b[1;32m     47\u001b[0m                 \u001b[0;31m# TODO: use python logger\u001b[0m\u001b[0;34m\u001b[0m\u001b[0;34m\u001b[0m\u001b[0m\n",
      "\u001b[0;32m~/PycharmProjects/declare4py-v2.0/src/declare4py/Utils/Declare/Checkers.py\u001b[0m in \u001b[0;36mget_template\u001b[0;34m(self, template)\u001b[0m\n\u001b[1;32m    114\u001b[0m         \"\"\"\n\u001b[1;32m    115\u001b[0m         \u001b[0mtemplate_checker_name\u001b[0m \u001b[0;34m=\u001b[0m \u001b[0;34mf\"mp{template.templ_str.replace(' ', '')}\"\u001b[0m\u001b[0;34m\u001b[0m\u001b[0;34m\u001b[0m\u001b[0m\n\u001b[0;32m--> 116\u001b[0;31m         \u001b[0;32mreturn\u001b[0m \u001b[0mgetattr\u001b[0m\u001b[0;34m(\u001b[0m\u001b[0mself\u001b[0m\u001b[0;34m,\u001b[0m \u001b[0mtemplate_checker_name\u001b[0m\u001b[0;34m)\u001b[0m\u001b[0;34m\u001b[0m\u001b[0;34m\u001b[0m\u001b[0m\n\u001b[0m\u001b[1;32m    117\u001b[0m \u001b[0;34m\u001b[0m\u001b[0m\n\u001b[1;32m    118\u001b[0m     \u001b[0;32mdef\u001b[0m \u001b[0mmpChoice\u001b[0m\u001b[0;34m(\u001b[0m\u001b[0mself\u001b[0m\u001b[0;34m)\u001b[0m \u001b[0;34m->\u001b[0m \u001b[0mCheckerResult\u001b[0m\u001b[0;34m:\u001b[0m\u001b[0;34m\u001b[0m\u001b[0;34m\u001b[0m\u001b[0m\n",
      "\u001b[0;31mAttributeError\u001b[0m: 'TemplateConstraintChecker' object has no attribute 'mpSuccession'"
     ]
    }
   ],
   "source": [
    "query_checker = QueryChecker(log=event_log, consider_vacuity=False, activation='ER Registration', target='CRP', min_support=0.2, activity_attribute=\"concept:name\", return_first=False)\n",
    "query_check_res: ResultsBrowser = query_checker.run()\n",
    "    \n",
    "query_check_res.filter_query_checking(queries=['activation', 'target'])"
   ]
  },
  {
   "cell_type": "code",
   "execution_count": null,
   "id": "ee8b052d",
   "metadata": {},
   "outputs": [],
   "source": []
  }
 ],
 "metadata": {
  "kernelspec": {
   "display_name": "Python 3 (ipykernel)",
   "language": "python",
   "name": "python3"
  },
  "language_info": {
   "codemirror_mode": {
    "name": "ipython",
    "version": 3
   },
   "file_extension": ".py",
   "mimetype": "text/x-python",
   "name": "python",
   "nbconvert_exporter": "python",
   "pygments_lexer": "ipython3",
   "version": "3.9.7"
  }
 },
 "nbformat": 4,
 "nbformat_minor": 5
}
