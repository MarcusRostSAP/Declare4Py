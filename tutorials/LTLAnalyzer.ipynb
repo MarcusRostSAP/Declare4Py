{
 "cells": [
  {
   "cell_type": "markdown",
   "metadata": {},
   "source": [
    "# Analysing a Log with LTL\n",
    "\n",
    "The class `ProcessMiningTasks.ConformanceChecking.LTLAnalyzer.LTLAnalyzer` provides a way to check if the log conforms to a ltl formula. The formula can be a standard, we have a set of templates (including TB-Declare templates), or it can be a formula inputed by the user. This class makes use of two other classes `ProcessModels.LTLModel.LTLModel` and `ProcesModels.LTLModel.LTLModelTemplate`. The `LTLAnalyzer` class contains the following function:\n",
    "1. `run` that returns a Pandas Dataframe. This Dataframe contains all traces in one column, in the second column we have the result of the conformance check, i.e., if a trace conforms to the LTL formula or not.\n",
    "\n",
    "To use this class we need first to load a `xes` log and create a LTLModel object, which contains our formula.\n",
    "The LTLModel can be created either using directly the `LTLModel` class or by using the `LTLModelTemplate` class.\n",
    "We have to pass the name of a template to the constructor of the class`LTLModelTemplate`.\n",
    "\n",
    "**NOTE:** For the grammar of LTL formulae we follow this model: https://marcofavorito.me/tl-grammars/v/7d9a17267fbf525d9a6a1beb92a46f05cf652db6/"
   ]
  },
  {
   "cell_type": "code",
   "execution_count": 4,
   "metadata": {},
   "outputs": [
    {
     "data": {
      "application/vnd.jupyter.widget-view+json": {
       "model_id": "f8a4ea027eb943af9462aa1056fbbec1",
       "version_major": 2,
       "version_minor": 0
      },
      "text/plain": [
       "parsing log, completed traces ::   0%|          | 0/1050 [00:00<?, ?it/s]"
      ]
     },
     "metadata": {},
     "output_type": "display_data"
    },
    {
     "name": "stderr",
     "output_type": "stream",
     "text": [
      "/home/xhedj/.local/lib/python3.11/site-packages/pm4py/utils.py:486: UserWarning: the EventLog class has been deprecated and will be removed in a future release.\n",
      "  warnings.warn(\"the EventLog class has been deprecated and will be removed in a future release.\")\n"
     ]
    }
   ],
   "source": [
    "import sys\n",
    "import os\n",
    "import pathlib\n",
    "\n",
    "SCRIPT_DIR = pathlib.Path(\"..\", \"src\").resolve()\n",
    "sys.path.append(os.path.dirname(SCRIPT_DIR))\n",
    "\n",
    "from src.Declare4Py.D4PyEventLog import D4PyEventLog\n",
    "\n",
    "log_path = os.path.join(\"..\", \"tests\", \"Sepsis Cases.xes.gz\")\n",
    "event_log = D4PyEventLog()\n",
    "event_log.parse_xes_log(log_path)\n",
    "\n",
    "from src.Declare4Py.ProcessModels.LTLModel import LTLModel\n",
    "from src.Declare4Py.ProcessModels.LTLModel import LTLModelTemplate\n",
    "\n",
    "model = LTLModel()\n",
    "model.parse_from_string(\"F(a)\")\n",
    "template = LTLModelTemplate('eventually_activity_a')\n"
   ]
  },
  {
   "cell_type": "markdown",
   "metadata": {},
   "source": [
    "In order to use the template object, we need to call `LTLModelTemplate`'s function `get_templ_model`, which expects a number of parameters equal to those expected by the template and returns an LTLModel object containing the parsed formula of the template."
   ]
  },
  {
   "cell_type": "code",
   "execution_count": 5,
   "metadata": {},
   "outputs": [],
   "source": [
    "template = LTLModelTemplate('eventually_activity_a')\n",
    "model = template.get_templ_model('activity1')"
   ]
  },
  {
   "cell_type": "markdown",
   "metadata": {},
   "source": [
    "Then we can create our `LTLAnalyzer` object and call the `run` function"
   ]
  },
  {
   "cell_type": "code",
   "execution_count": 6,
   "metadata": {},
   "outputs": [
    {
     "ename": "Exception",
     "evalue": "the Lydia command lydia --logic=ltlf --inline=F(activityb) -p failed.\nstdout=\nstderr=docker: Got permission denied while trying to connect to the Docker daemon socket at unix:///var/run/docker.sock: Post \"http://%2Fvar%2Frun%2Fdocker.sock/v1.24/containers/create\": dial unix /var/run/docker.sock: connect: permission denied.\nSee 'docker run --help'.\n",
     "output_type": "error",
     "traceback": [
      "\u001b[0;31m---------------------------------------------------------------------------\u001b[0m",
      "\u001b[0;31mLogautException\u001b[0m                           Traceback (most recent call last)",
      "File \u001b[0;32m~/.local/lib/python3.11/site-packages/logaut/backends/lydia/_lydia_utils.py:40\u001b[0m, in \u001b[0;36mcall_lydia\u001b[0;34m(*args)\u001b[0m\n\u001b[1;32m     39\u001b[0m stderr \u001b[38;5;241m=\u001b[39m result\u001b[38;5;241m.\u001b[39mstderr\u001b[38;5;241m.\u001b[39mdecode()\n\u001b[0;32m---> 40\u001b[0m \u001b[43menforce\u001b[49m\u001b[43m(\u001b[49m\u001b[43mresult\u001b[49m\u001b[38;5;241;43m.\u001b[39;49m\u001b[43mreturncode\u001b[49m\u001b[43m \u001b[49m\u001b[38;5;241;43m==\u001b[39;49m\u001b[43m \u001b[49m\u001b[38;5;241;43m0\u001b[39;49m\u001b[43m,\u001b[49m\u001b[43m \u001b[49m\u001b[43mexception_cls\u001b[49m\u001b[38;5;241;43m=\u001b[39;49m\u001b[43mLogautException\u001b[49m\u001b[43m)\u001b[49m\n\u001b[1;32m     41\u001b[0m \u001b[38;5;28;01mreturn\u001b[39;00m output\n",
      "File \u001b[0;32m~/.local/lib/python3.11/site-packages/pylogics/helpers/misc.py:44\u001b[0m, in \u001b[0;36menforce\u001b[0;34m(condition, message, exception_cls)\u001b[0m\n\u001b[1;32m     43\u001b[0m \u001b[38;5;28;01mif\u001b[39;00m \u001b[38;5;129;01mnot\u001b[39;00m condition:\n\u001b[0;32m---> 44\u001b[0m     \u001b[38;5;28;01mraise\u001b[39;00m exception_cls(message)\n",
      "\u001b[0;31mLogautException\u001b[0m: ",
      "\nDuring handling of the above exception, another exception occurred:\n",
      "\u001b[0;31mException\u001b[0m                                 Traceback (most recent call last)",
      "Cell \u001b[0;32mIn [6], line 4\u001b[0m\n\u001b[1;32m      1\u001b[0m \u001b[38;5;28;01mfrom\u001b[39;00m \u001b[38;5;21;01msrc\u001b[39;00m\u001b[38;5;21;01m.\u001b[39;00m\u001b[38;5;21;01mDeclare4Py\u001b[39;00m\u001b[38;5;21;01m.\u001b[39;00m\u001b[38;5;21;01mProcessMiningTasks\u001b[39;00m\u001b[38;5;21;01m.\u001b[39;00m\u001b[38;5;21;01mConformanceChecking\u001b[39;00m\u001b[38;5;21;01m.\u001b[39;00m\u001b[38;5;21;01mLTLAnalyzer\u001b[39;00m \u001b[38;5;28;01mimport\u001b[39;00m LTLAnalyzer\n\u001b[1;32m      3\u001b[0m analyzer \u001b[38;5;241m=\u001b[39m LTLAnalyzer(event_log, model)\n\u001b[0;32m----> 4\u001b[0m \u001b[43manalyzer\u001b[49m\u001b[38;5;241;43m.\u001b[39;49m\u001b[43mrun\u001b[49m\u001b[43m(\u001b[49m\u001b[43m)\u001b[49m\n",
      "File \u001b[0;32m~/PycharmProjects/Declare4Py/src/Declare4Py/ProcessMiningTasks/ConformanceChecking/LTLAnalyzer.py:35\u001b[0m, in \u001b[0;36mLTLAnalyzer.run\u001b[0;34m(self)\u001b[0m\n\u001b[1;32m     33\u001b[0m \u001b[38;5;28;01mif\u001b[39;00m \u001b[38;5;28mself\u001b[39m\u001b[38;5;241m.\u001b[39mprocess_model \u001b[38;5;129;01mis\u001b[39;00m \u001b[38;5;28;01mNone\u001b[39;00m:\n\u001b[1;32m     34\u001b[0m     \u001b[38;5;28;01mraise\u001b[39;00m \u001b[38;5;167;01mRuntimeError\u001b[39;00m(\u001b[38;5;124m\"\u001b[39m\u001b[38;5;124mYou must load the LTL model before checking the model.\u001b[39m\u001b[38;5;124m\"\u001b[39m)\n\u001b[0;32m---> 35\u001b[0m dfa \u001b[38;5;241m=\u001b[39m \u001b[43mltl2dfa\u001b[49m\u001b[43m(\u001b[49m\u001b[38;5;28;43mself\u001b[39;49m\u001b[38;5;241;43m.\u001b[39;49m\u001b[43mprocess_model\u001b[49m\u001b[38;5;241;43m.\u001b[39;49m\u001b[43mparsed_formula\u001b[49m\u001b[43m,\u001b[49m\u001b[43m \u001b[49m\u001b[43mbackend\u001b[49m\u001b[38;5;241;43m=\u001b[39;49m\u001b[38;5;124;43m\"\u001b[39;49m\u001b[38;5;124;43mlydia\u001b[39;49m\u001b[38;5;124;43m\"\u001b[39;49m\u001b[43m)\u001b[49m\n\u001b[1;32m     36\u001b[0m dfa \u001b[38;5;241m=\u001b[39m dfa\u001b[38;5;241m.\u001b[39mminimize()\n\u001b[1;32m     37\u001b[0m graph \u001b[38;5;241m=\u001b[39m dfa\u001b[38;5;241m.\u001b[39mto_graphviz()\n",
      "File \u001b[0;32m~/.local/lib/python3.11/site-packages/logaut/core.py:52\u001b[0m, in \u001b[0;36mltl2dfa\u001b[0;34m(formula, backend, **backend_options)\u001b[0m\n\u001b[1;32m     41\u001b[0m \u001b[38;5;28;01mdef\u001b[39;00m \u001b[38;5;21mltl2dfa\u001b[39m(\n\u001b[1;32m     42\u001b[0m     formula: Formula, backend: \u001b[38;5;28mstr\u001b[39m \u001b[38;5;241m=\u001b[39m _DEFAULT_BACKEND, \u001b[38;5;241m*\u001b[39m\u001b[38;5;241m*\u001b[39mbackend_options\n\u001b[1;32m     43\u001b[0m ) \u001b[38;5;241m-\u001b[39m\u001b[38;5;241m>\u001b[39m DFA:\n\u001b[1;32m     44\u001b[0m \u001b[38;5;250m    \u001b[39m\u001b[38;5;124;03m\"\"\"\u001b[39;00m\n\u001b[1;32m     45\u001b[0m \u001b[38;5;124;03m    From LTL to DFA.\u001b[39;00m\n\u001b[1;32m     46\u001b[0m \n\u001b[0;32m   (...)\u001b[0m\n\u001b[1;32m     50\u001b[0m \u001b[38;5;124;03m    :return: the DFA.\u001b[39;00m\n\u001b[1;32m     51\u001b[0m \u001b[38;5;124;03m    \"\"\"\u001b[39;00m\n\u001b[0;32m---> 52\u001b[0m     \u001b[38;5;28;01mreturn\u001b[39;00m \u001b[43m_call_method\u001b[49m\u001b[43m(\u001b[49m\u001b[43mformula\u001b[49m\u001b[43m,\u001b[49m\u001b[43m \u001b[49m\u001b[43mbackend\u001b[49m\u001b[43m,\u001b[49m\u001b[43m \u001b[49m\u001b[43mltl2dfa\u001b[49m\u001b[38;5;241;43m.\u001b[39;49m\u001b[38;5;18;43m__name__\u001b[39;49m\u001b[43m,\u001b[49m\u001b[43m \u001b[49m\u001b[38;5;241;43m*\u001b[39;49m\u001b[38;5;241;43m*\u001b[39;49m\u001b[43mbackend_options\u001b[49m\u001b[43m)\u001b[49m\n",
      "File \u001b[0;32m~/.local/lib/python3.11/site-packages/logaut/core.py:38\u001b[0m, in \u001b[0;36m_call_method\u001b[0;34m(formula, backend_id, method_name, **backend_options)\u001b[0m\n\u001b[1;32m     36\u001b[0m backend \u001b[38;5;241m=\u001b[39m logaut\u001b[38;5;241m.\u001b[39mbackends\u001b[38;5;241m.\u001b[39mmake(backend_id, \u001b[38;5;241m*\u001b[39m\u001b[38;5;241m*\u001b[39mbackend_options)\n\u001b[1;32m     37\u001b[0m method \u001b[38;5;241m=\u001b[39m \u001b[38;5;28mgetattr\u001b[39m(backend, method_name)\n\u001b[0;32m---> 38\u001b[0m \u001b[38;5;28;01mreturn\u001b[39;00m \u001b[43mmethod\u001b[49m\u001b[43m(\u001b[49m\u001b[43mformula\u001b[49m\u001b[43m)\u001b[49m\n",
      "File \u001b[0;32m~/.local/lib/python3.11/site-packages/logaut/backends/lydia/core.py:68\u001b[0m, in \u001b[0;36mLydiaBackend.ltl2dfa\u001b[0;34m(self, formula)\u001b[0m\n\u001b[1;32m     66\u001b[0m \u001b[38;5;28;01mdef\u001b[39;00m \u001b[38;5;21mltl2dfa\u001b[39m(\u001b[38;5;28mself\u001b[39m, formula: Formula) \u001b[38;5;241m-\u001b[39m\u001b[38;5;241m>\u001b[39m DFA:\n\u001b[1;32m     67\u001b[0m \u001b[38;5;250m    \u001b[39m\u001b[38;5;124;03m\"\"\"From LTL to DFA.\"\"\"\u001b[39;00m\n\u001b[0;32m---> 68\u001b[0m     \u001b[38;5;28;01mreturn\u001b[39;00m \u001b[43m_process_formula\u001b[49m\u001b[43m(\u001b[49m\u001b[43mformula\u001b[49m\u001b[43m)\u001b[49m\n",
      "File \u001b[0;32m~/.local/lib/python3.11/site-packages/logaut/backends/lydia/core.py:79\u001b[0m, in \u001b[0;36m_process_formula\u001b[0;34m(formula)\u001b[0m\n\u001b[1;32m     72\u001b[0m \u001b[38;5;250m\u001b[39m\u001b[38;5;124;03m\"\"\"\u001b[39;00m\n\u001b[1;32m     73\u001b[0m \u001b[38;5;124;03mProcess a formula with Lydia.\u001b[39;00m\n\u001b[1;32m     74\u001b[0m \n\u001b[1;32m     75\u001b[0m \u001b[38;5;124;03m:param formula: the formula\u001b[39;00m\n\u001b[1;32m     76\u001b[0m \u001b[38;5;124;03m:return: the DFA\u001b[39;00m\n\u001b[1;32m     77\u001b[0m \u001b[38;5;124;03m\"\"\"\u001b[39;00m\n\u001b[1;32m     78\u001b[0m formula_str \u001b[38;5;241m=\u001b[39m to_string(formula)\n\u001b[0;32m---> 79\u001b[0m output \u001b[38;5;241m=\u001b[39m \u001b[43mcall_lydia\u001b[49m\u001b[43m(\u001b[49m\n\u001b[1;32m     80\u001b[0m \u001b[43m    \u001b[49m\u001b[38;5;124;43mf\u001b[39;49m\u001b[38;5;124;43m\"\u001b[39;49m\u001b[38;5;124;43m--logic=\u001b[39;49m\u001b[38;5;132;43;01m{\u001b[39;49;00m\u001b[43mformula\u001b[49m\u001b[38;5;241;43m.\u001b[39;49m\u001b[43mlogic\u001b[49m\u001b[38;5;241;43m.\u001b[39;49m\u001b[43mvalue\u001b[49m\u001b[38;5;132;43;01m}\u001b[39;49;00m\u001b[38;5;124;43mf\u001b[39;49m\u001b[38;5;124;43m\"\u001b[39;49m\u001b[43m,\u001b[49m\u001b[43m \u001b[49m\u001b[38;5;124;43mf\u001b[39;49m\u001b[38;5;124;43m\"\u001b[39;49m\u001b[38;5;124;43m--inline=\u001b[39;49m\u001b[38;5;132;43;01m{\u001b[39;49;00m\u001b[43mformula_str\u001b[49m\u001b[38;5;132;43;01m}\u001b[39;49;00m\u001b[38;5;124;43m\"\u001b[39;49m\u001b[43m,\u001b[49m\u001b[43m \u001b[49m\u001b[38;5;124;43m\"\u001b[39;49m\u001b[38;5;124;43m-p\u001b[39;49m\u001b[38;5;124;43m\"\u001b[39;49m\n\u001b[1;32m     81\u001b[0m \u001b[43m\u001b[49m\u001b[43m)\u001b[49m\n\u001b[1;32m     82\u001b[0m mona_output_string \u001b[38;5;241m=\u001b[39m postprocess_lydia_output(output)\n\u001b[1;32m     83\u001b[0m mona_output \u001b[38;5;241m=\u001b[39m parse_mona_output(mona_output_string)\n",
      "File \u001b[0;32m~/.local/lib/python3.11/site-packages/logaut/backends/lydia/_lydia_utils.py:43\u001b[0m, in \u001b[0;36mcall_lydia\u001b[0;34m(*args)\u001b[0m\n\u001b[1;32m     41\u001b[0m     \u001b[38;5;28;01mreturn\u001b[39;00m output\n\u001b[1;32m     42\u001b[0m \u001b[38;5;28;01mexcept\u001b[39;00m LogautException:\n\u001b[0;32m---> 43\u001b[0m     \u001b[38;5;28;01mraise\u001b[39;00m \u001b[38;5;167;01mException\u001b[39;00m(  \u001b[38;5;66;03m# type: ignore\u001b[39;00m\n\u001b[1;32m     44\u001b[0m         \u001b[38;5;124mf\u001b[39m\u001b[38;5;124m\"\u001b[39m\u001b[38;5;124mthe Lydia command \u001b[39m\u001b[38;5;132;01m{\u001b[39;00m\u001b[38;5;124m'\u001b[39m\u001b[38;5;124m \u001b[39m\u001b[38;5;124m'\u001b[39m\u001b[38;5;241m.\u001b[39mjoin(command)\u001b[38;5;132;01m}\u001b[39;00m\u001b[38;5;124m failed.\u001b[39m\u001b[38;5;130;01m\\n\u001b[39;00m\u001b[38;5;124mstdout=\u001b[39m\u001b[38;5;132;01m{\u001b[39;00moutput\u001b[38;5;132;01m}\u001b[39;00m\u001b[38;5;130;01m\\n\u001b[39;00m\u001b[38;5;124mstderr=\u001b[39m\u001b[38;5;132;01m{\u001b[39;00mstderr\u001b[38;5;132;01m}\u001b[39;00m\u001b[38;5;124m\"\u001b[39m  \u001b[38;5;66;03m# type: ignore\u001b[39;00m\n\u001b[1;32m     45\u001b[0m     )\n\u001b[1;32m     46\u001b[0m \u001b[38;5;28;01mexcept\u001b[39;00m \u001b[38;5;167;01mException\u001b[39;00m \u001b[38;5;28;01mas\u001b[39;00m e:\n\u001b[1;32m     47\u001b[0m     \u001b[38;5;28;01mraise\u001b[39;00m \u001b[38;5;167;01mException\u001b[39;00m(\u001b[38;5;124mf\u001b[39m\u001b[38;5;124m\"\u001b[39m\u001b[38;5;124man error occurred while running lydia: \u001b[39m\u001b[38;5;132;01m{\u001b[39;00m\u001b[38;5;28mstr\u001b[39m(e)\u001b[38;5;132;01m}\u001b[39;00m\u001b[38;5;124m\"\u001b[39m) \u001b[38;5;28;01mfrom\u001b[39;00m \u001b[38;5;21;01me\u001b[39;00m\n",
      "\u001b[0;31mException\u001b[0m: the Lydia command lydia --logic=ltlf --inline=F(activityb) -p failed.\nstdout=\nstderr=docker: Got permission denied while trying to connect to the Docker daemon socket at unix:///var/run/docker.sock: Post \"http://%2Fvar%2Frun%2Fdocker.sock/v1.24/containers/create\": dial unix /var/run/docker.sock: connect: permission denied.\nSee 'docker run --help'.\n"
     ]
    }
   ],
   "source": [
    "from src.Declare4Py.ProcessMiningTasks.ConformanceChecking.LTLAnalyzer import LTLAnalyzer\n",
    "\n",
    "analyzer = LTLAnalyzer(event_log, model)\n",
    "analyzer.run()"
   ]
  },
  {
   "cell_type": "markdown",
   "metadata": {},
   "source": [
    "## Using the LTLModel templates\n",
    "\n",
    "### `eventually_activity_a`\n",
    "Takes one activity as input as a string.\n",
    "Formula:\n",
    "- `F(activity)`"
   ]
  },
  {
   "cell_type": "code",
   "execution_count": null,
   "metadata": {},
   "outputs": [],
   "source": [
    "template = LTLModelTemplate('eventually_activity_a')\n",
    "model = template.get_templ_model('CRP')\n",
    "analyzer = LTLAnalyzer(event_log, model)\n",
    "data = analyzer.run()\n",
    "print(data)"
   ]
  },
  {
   "cell_type": "markdown",
   "metadata": {},
   "source": [
    "### `next_a`\n",
    "Takes one activity as input.\n",
    "Formula:\n",
    "- `X(activity)`"
   ]
  },
  {
   "cell_type": "code",
   "execution_count": null,
   "metadata": {},
   "outputs": [],
   "source": [
    "template = LTLModelTemplate('next_a')\n",
    "model = template.get_templ_model('ER Triage')\n",
    "analyzer = LTLAnalyzer(event_log, model)\n",
    "data = analyzer.run()\n",
    "print(data)"
   ]
  },
  {
   "cell_type": "markdown",
   "metadata": {},
   "source": [
    "### `eventually_a_then_b`\n",
    "Takes two activities as input.\n",
    "Formula:\n",
    "- `F(activity1 && F(activity2))`"
   ]
  },
  {
   "cell_type": "code",
   "execution_count": null,
   "metadata": {},
   "outputs": [],
   "source": [
    "template = LTLModelTemplate('eventually_a_then_b')\n",
    "model = template.get_templ_model('Leucocytes', 'CRP')\n",
    "analyzer = LTLAnalyzer(event_log, model)\n",
    "data = analyzer.run()\n",
    "print(data)"
   ]
  },
  {
   "cell_type": "markdown",
   "metadata": {},
   "source": [
    "### `eventually_a_or_b`\n",
    "Takes two activities as input.\n",
    "Formula:\n",
    "- `F(activity1) || F(activity2)`"
   ]
  },
  {
   "cell_type": "code",
   "execution_count": null,
   "metadata": {},
   "outputs": [],
   "source": [
    "template = LTLModelTemplate('eventually_a_then_b')\n",
    "model = template.get_templ_model('Leucocytes', 'CRP')\n",
    "analyzer = LTLAnalyzer(event_log, model)\n",
    "data = analyzer.run()\n",
    "print(data)"
   ]
  },
  {
   "cell_type": "markdown",
   "metadata": {},
   "source": [
    "### `eventually_a_next_b`\n",
    "Takes two activities as input. Formula:\n",
    "- `F(activity1 && X(activity2))`"
   ]
  },
  {
   "cell_type": "code",
   "execution_count": null,
   "metadata": {},
   "outputs": [],
   "source": [
    "template = LTLModelTemplate('eventually_a_next_b')\n",
    "model = template.get_templ_model('Leucocytes', 'CRP')\n",
    "analyzer = LTLAnalyzer(event_log, model)\n",
    "data = analyzer.run()\n",
    "print(data)"
   ]
  },
  {
   "cell_type": "markdown",
   "metadata": {},
   "source": [
    "### `eventually_a_then_b_then_c`\n",
    "Takes three activities as input. Formula:\n",
    "- `F(activity1 && F(activity2 && F(activity3)))`"
   ]
  },
  {
   "cell_type": "code",
   "execution_count": null,
   "metadata": {},
   "outputs": [],
   "source": [
    "template = LTLModelTemplate('eventually_a_then_b_then_c')\n",
    "model = template.get_templ_model('ER Registration','Leucocytes', 'CRP')\n",
    "analyzer = LTLAnalyzer(event_log, model)\n",
    "data = analyzer.run()\n",
    "print(data)"
   ]
  },
  {
   "cell_type": "markdown",
   "metadata": {},
   "source": [
    "### `eventually_a_next_b_next_c`\n",
    "Takes three activities as input. Formula:\n",
    "- `F(activity1 && X(activity2 && X(activity3)))`"
   ]
  },
  {
   "cell_type": "code",
   "execution_count": 1,
   "metadata": {},
   "outputs": [
    {
     "ename": "NameError",
     "evalue": "name 'LTLModelTemplate' is not defined",
     "output_type": "error",
     "traceback": [
      "\u001b[0;31m---------------------------------------------------------------------------\u001b[0m",
      "\u001b[0;31mNameError\u001b[0m                                 Traceback (most recent call last)",
      "Cell \u001b[0;32mIn[1], line 1\u001b[0m\n\u001b[0;32m----> 1\u001b[0m template \u001b[39m=\u001b[39m LTLModelTemplate(\u001b[39m'\u001b[39m\u001b[39meventually_a_next_b_next_c\u001b[39m\u001b[39m'\u001b[39m)\n\u001b[1;32m      2\u001b[0m model \u001b[39m=\u001b[39m template\u001b[39m.\u001b[39mget_templ_model(\u001b[39m'\u001b[39m\u001b[39mER Registration\u001b[39m\u001b[39m'\u001b[39m, \u001b[39m'\u001b[39m\u001b[39mCRP\u001b[39m\u001b[39m'\u001b[39m, \u001b[39m'\u001b[39m\u001b[39mLeucocytes\u001b[39m\u001b[39m'\u001b[39m)\n\u001b[1;32m      3\u001b[0m analyzer \u001b[39m=\u001b[39m LTLAnalyzer(event_log, model)\n",
      "\u001b[0;31mNameError\u001b[0m: name 'LTLModelTemplate' is not defined"
     ]
    }
   ],
   "source": [
    "template = LTLModelTemplate('eventually_a_next_b_next_c')\n",
    "model = template.get_templ_model('ER Registration', 'CRP', 'Leucocytes')\n",
    "analyzer = LTLAnalyzer(event_log, model)\n",
    "data = analyzer.run()\n",
    "print(data)"
   ]
  },
  {
   "attachments": {},
   "cell_type": "markdown",
   "metadata": {},
   "source": [
    "## Branched Declare template models\n",
    "A series of templates for branched declare. All functions take two lists of strings as parameters. The first parameter is the source while the second list is the target. They all return a string, which is the LTL formula."
   ]
  },
  {
   "cell_type": "markdown",
   "metadata": {},
   "source": [
    "### `responded existence`"
   ]
  },
  {
   "cell_type": "code",
   "execution_count": null,
   "metadata": {},
   "outputs": [],
   "source": [
    "template = LTLModelTemplate('responded_existence')\n",
    "source_list = [\"ER Triage\", \"CRP\", \"Leucocytes\"]\n",
    "target_list = [\"Leucocytes\", \"Admission NC\", \"Release A\"]\n",
    "model = template.get_templ_model(source_list, target_list)\n",
    "analyzer = LTLAnalyzer(event_log, model)\n",
    "data = analyzer.run()\n",
    "print(data)"
   ]
  },
  {
   "cell_type": "markdown",
   "metadata": {},
   "source": [
    "### `response`"
   ]
  },
  {
   "cell_type": "code",
   "execution_count": null,
   "metadata": {},
   "outputs": [],
   "source": [
    "template = LTLModelTemplate('response')\n",
    "source_list = [\"ER Triage\", \"CRP\", \"Leucocytes\"]\n",
    "target_list = [\"Leucocytes\", \"Admission NC\", \"Release A\"]\n",
    "model = template.get_templ_model(source_list, target_list)\n",
    "analyzer = LTLAnalyzer(event_log, model)\n",
    "data = analyzer.run()\n",
    "print(data)"
   ]
  },
  {
   "cell_type": "markdown",
   "metadata": {},
   "source": [
    "### `alternate_response`"
   ]
  },
  {
   "cell_type": "code",
   "execution_count": null,
   "metadata": {},
   "outputs": [],
   "source": [
    "template = LTLModelTemplate('alternate_response')\n",
    "source_list = [\"ER Triage\", \"CRP\", \"Leucocytes\"]\n",
    "target_list = [\"Leucocytes\", \"Admission NC\", \"Release A\"]\n",
    "model = template.get_templ_model(source_list, target_list)\n",
    "analyzer = LTLAnalyzer(event_log, model)\n",
    "data = analyzer.run()\n",
    "print(data)"
   ]
  },
  {
   "cell_type": "markdown",
   "metadata": {},
   "source": [
    "### `chain_response`"
   ]
  },
  {
   "cell_type": "code",
   "execution_count": null,
   "metadata": {},
   "outputs": [],
   "source": [
    "template = LTLModelTemplate('chain_response')\n",
    "source_list = [\"ER Triage\", \"CRP\", \"Leucocytes\"]\n",
    "target_list = [\"Leucocytes\", \"Admission NC\", \"Release A\"]\n",
    "model = template.get_templ_model(source_list, target_list)\n",
    "analyzer = LTLAnalyzer(event_log, model)\n",
    "data = analyzer.run()\n",
    "print(data)"
   ]
  },
  {
   "cell_type": "markdown",
   "metadata": {},
   "source": [
    "### `precedence`"
   ]
  },
  {
   "cell_type": "code",
   "execution_count": null,
   "metadata": {},
   "outputs": [],
   "source": [
    "template = LTLModelTemplate('precedence')\n",
    "source_list = [\"ER Triage\", \"CRP\", \"Leucocytes\"]\n",
    "target_list = [\"Leucocytes\", \"Admission NC\", \"Release A\"]\n",
    "model = template.get_templ_model(source_list, target_list)\n",
    "analyzer = LTLAnalyzer(event_log, model)\n",
    "data = analyzer.run()\n",
    "print(data)"
   ]
  },
  {
   "cell_type": "markdown",
   "metadata": {},
   "source": [
    "### `alternate_precedence`"
   ]
  },
  {
   "cell_type": "code",
   "execution_count": null,
   "metadata": {},
   "outputs": [],
   "source": [
    "template = LTLModelTemplate('alternate_precedence')\n",
    "source_list = [\"ER Triage\", \"CRP\", \"Leucocytes\"]\n",
    "target_list = [\"Leucocytes\", \"Admission NC\", \"Release A\"]\n",
    "model = template.get_templ_model(source_list, target_list)\n",
    "analyzer = LTLAnalyzer(event_log, model)\n",
    "data = analyzer.run()\n",
    "print(data)"
   ]
  },
  {
   "cell_type": "markdown",
   "metadata": {},
   "source": [
    "### `chain_precedence`"
   ]
  },
  {
   "cell_type": "code",
   "execution_count": null,
   "metadata": {},
   "outputs": [],
   "source": [
    "template = LTLModelTemplate('chain_precedence')\n",
    "source_list = [\"ER Triage\", \"CRP\", \"Leucocytes\"]\n",
    "target_list = [\"Leucocytes\", \"Admission NC\", \"Release A\"]\n",
    "model = template.get_templ_model(source_list, target_list)\n",
    "analyzer = LTLAnalyzer(event_log, model)\n",
    "data = analyzer.run()\n",
    "print(data)"
   ]
  },
  {
   "cell_type": "markdown",
   "metadata": {},
   "source": [
    "### `not_responded_existence`"
   ]
  },
  {
   "cell_type": "code",
   "execution_count": null,
   "metadata": {},
   "outputs": [],
   "source": [
    "template = LTLModelTemplate('not_responded_existence')\n",
    "source_list = [\"ER Triage\", \"CRP\", \"Leucocytes\"]\n",
    "target_list = [\"Leucocytes\", \"Admission NC\", \"Release A\"]\n",
    "model = template.get_templ_model(source_list, target_list)\n",
    "analyzer = LTLAnalyzer(event_log, model)\n",
    "data = analyzer.run()\n",
    "print(data)"
   ]
  },
  {
   "cell_type": "markdown",
   "metadata": {},
   "source": [
    "### `not_response`"
   ]
  },
  {
   "cell_type": "code",
   "execution_count": null,
   "metadata": {},
   "outputs": [],
   "source": [
    "template = LTLModelTemplate('not_response')\n",
    "source_list = [\"ER Triage\", \"CRP\", \"Leucocytes\"]\n",
    "target_list = [\"Leucocytes\", \"Admission NC\", \"Release A\"]\n",
    "model = template.get_templ_model(source_list, target_list)\n",
    "analyzer = LTLAnalyzer(event_log, model)\n",
    "data = analyzer.run()\n",
    "print(data)"
   ]
  },
  {
   "cell_type": "markdown",
   "metadata": {},
   "source": [
    "### `not_precedence`"
   ]
  },
  {
   "cell_type": "code",
   "execution_count": null,
   "metadata": {},
   "outputs": [],
   "source": [
    "template = LTLModelTemplate('not_precedence')\n",
    "source_list = [\"ER Triage\", \"CRP\", \"Leucocytes\"]\n",
    "target_list = [\"Leucocytes\", \"Admission NC\", \"Release A\"]\n",
    "model = template.get_templ_model(source_list, target_list)\n",
    "analyzer = LTLAnalyzer(event_log, model)\n",
    "data = analyzer.run()\n",
    "print(data)"
   ]
  },
  {
   "cell_type": "markdown",
   "metadata": {},
   "source": [
    "### `not_chain_response`"
   ]
  },
  {
   "cell_type": "code",
   "execution_count": null,
   "metadata": {},
   "outputs": [],
   "source": [
    "template = LTLModelTemplate('not_chain_response')\n",
    "source_list = [\"ER Triage\", \"CRP\", \"Leucocytes\"]\n",
    "target_list = [\"Leucocytes\", \"Admission NC\", \"Release A\"]\n",
    "model = template.get_templ_model(source_list, target_list)\n",
    "analyzer = LTLAnalyzer(event_log, model)\n",
    "data = analyzer.run()\n",
    "print(data)"
   ]
  },
  {
   "cell_type": "markdown",
   "metadata": {},
   "source": [
    "### `not_chain_precedence`"
   ]
  },
  {
   "cell_type": "code",
   "execution_count": null,
   "metadata": {},
   "outputs": [],
   "source": [
    "template = LTLModelTemplate('not_chain_precedence')\n",
    "source_list = [\"ER Triage\", \"CRP\", \"Leucocytes\"]\n",
    "target_list = [\"Leucocytes\", \"Admission NC\", \"Release A\"]\n",
    "model = template.get_templ_model(source_list, target_list)\n",
    "analyzer = LTLAnalyzer(event_log, model)\n",
    "data = analyzer.run()\n",
    "print(data)"
   ]
  }
 ],
 "metadata": {
  "kernelspec": {
   "display_name": "Python 3 (ipykernel)",
   "language": "python",
   "name": "python3"
  },
  "language_info": {
   "codemirror_mode": {
    "name": "ipython",
    "version": 3
   },
   "file_extension": ".py",
   "mimetype": "text/x-python",
   "name": "python",
   "nbconvert_exporter": "python",
   "pygments_lexer": "ipython3",
   "version": "3.11.2"
  }
 },
 "nbformat": 4,
 "nbformat_minor": 2
}
