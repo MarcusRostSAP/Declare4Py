{
 "cells": [
  {
   "cell_type": "markdown",
   "id": "5279e90c",
   "metadata": {},
   "source": [
    "# Filters"
   ]
  },
  {
   "cell_type": "code",
   "execution_count": 1,
   "id": "d276cc2d",
   "metadata": {},
   "outputs": [],
   "source": [
    "import sys\n",
    "import os\n",
    "import pathlib\n",
    "\n",
    "SCRIPT_DIR = pathlib.Path(\"..\", \"src\").resolve()\n",
    "sys.path.append(os.path.dirname(SCRIPT_DIR))\n",
    "\n",
    "from src.declare4py.pm_tasks.log_filters.basic_filters import BasicFilters\n",
    "from src.declare4py.d4py_event_log import D4PyEventLog\n",
    "\n",
    "log_path = os.path.join(\"..\", \"tests\", \"Sepsis Cases.xes.gz\")\n",
    "\n",
    "event_log = D4PyEventLog()"
   ]
  },
  {
   "cell_type": "markdown",
   "id": "1225a100",
   "metadata": {},
   "source": [
    "The next step is the parsing of the log with the `parse_xes_log` function. Logs can be passed both in the `.xes` or `xes.gz` formats. \n",
    "<br> At the moment we are using the `.xes` parser of PM4PY, which might change in the future. "
   ]
  },
  {
   "cell_type": "code",
   "execution_count": 2,
   "id": "e5ae55fa",
   "metadata": {},
   "outputs": [
    {
     "data": {
      "application/vnd.jupyter.widget-view+json": {
       "model_id": "f9619e6456344cf997f3b2b58bc7d23b",
       "version_major": 2,
       "version_minor": 0
      },
      "text/plain": [
       "parsing log, completed traces ::   0%|          | 0/1050 [00:00<?, ?it/s]"
      ]
     },
     "metadata": {},
     "output_type": "display_data"
    }
   ],
   "source": [
    "# Parses a xes log to EventLog\n",
    "event_log.parse_xes_log(log_path)"
   ]
  },
  {
   "cell_type": "markdown",
   "id": "a6774faa",
   "metadata": {},
   "source": [
    "## Filtering Functions \n",
    "The `BasicFilters` also offers functions useful for searching relevant data by filtering the log.\n",
    "\n",
    "The first function is `filter_time_range_contained`, which takes as input: \n",
    "- `start_date` as a string of type `2013-01-01 00:00:00`; \n",
    "- `end_date` a string of type `2013-01-01 00:00:00`; \n",
    "- `mode` which is defaulted to `events`, but allows also `traces_intersecting` and `traces_contained` as values; \n",
    "- `timestamp_key` (defaulted to `time:timestamp`) which is the attribute used for the timestamp; \n",
    "- `case_id_key`, the attribute used as identifier and has default value `case:concept:name`."
   ]
  },
  {
   "cell_type": "code",
   "execution_count": 3,
   "id": "f6bf2391",
   "metadata": {},
   "outputs": [],
   "source": [
    "log_filters = BasicFilters(event_log)"
   ]
  },
  {
   "cell_type": "code",
   "execution_count": 6,
   "id": "8816640b",
   "metadata": {},
   "outputs": [
    {
     "ename": "TypeError",
     "evalue": "filter_time_range() takes from 3 to 4 positional arguments but 6 were given",
     "output_type": "error",
     "traceback": [
      "\u001b[0;31m---------------------------------------------------------------------------\u001b[0m",
      "\u001b[0;31mTypeError\u001b[0m                                 Traceback (most recent call last)",
      "\u001b[0;32m/var/folders/5w/6k152p214xbc6ghcldxtvf2r0000gq/T/ipykernel_53759/1792485369.py\u001b[0m in \u001b[0;36m<module>\u001b[0;34m\u001b[0m\n\u001b[0;32m----> 1\u001b[0;31m \u001b[0mfiltered_log\u001b[0m \u001b[0;34m=\u001b[0m \u001b[0mlog_filters\u001b[0m\u001b[0;34m.\u001b[0m\u001b[0mfilter_time_range_contained\u001b[0m\u001b[0;34m(\u001b[0m\u001b[0;34m\"2013-01-01 00:00:00\"\u001b[0m\u001b[0;34m,\u001b[0m \u001b[0;34m\"2015-12-31 23:59:59\"\u001b[0m\u001b[0;34m,\u001b[0m \u001b[0mmode\u001b[0m\u001b[0;34m=\u001b[0m\u001b[0;34m'traces_contained'\u001b[0m\u001b[0;34m)\u001b[0m\u001b[0;34m\u001b[0m\u001b[0;34m\u001b[0m\u001b[0m\n\u001b[0m\u001b[1;32m      2\u001b[0m \u001b[0mprint\u001b[0m\u001b[0;34m(\u001b[0m\u001b[0;34mf\"Filtered log for time range: {filtered_log}\"\u001b[0m\u001b[0;34m)\u001b[0m\u001b[0;34m\u001b[0m\u001b[0;34m\u001b[0m\u001b[0m\n\u001b[1;32m      3\u001b[0m \u001b[0mprint\u001b[0m\u001b[0;34m(\u001b[0m\u001b[0;34m\"--------------------------------------\"\u001b[0m\u001b[0;34m)\u001b[0m\u001b[0;34m\u001b[0m\u001b[0;34m\u001b[0m\u001b[0m\n\u001b[1;32m      4\u001b[0m \u001b[0;34m\u001b[0m\u001b[0m\n\u001b[1;32m      5\u001b[0m \u001b[0mfiltered_log\u001b[0m \u001b[0;34m=\u001b[0m \u001b[0mlog_filters\u001b[0m\u001b[0;34m.\u001b[0m\u001b[0mfilter_time_range_contained\u001b[0m\u001b[0;34m(\u001b[0m\u001b[0;34m\"2013-01-01 00:00:00\"\u001b[0m\u001b[0;34m,\u001b[0m \u001b[0;34m\"2015-12-31 23:59:59\"\u001b[0m\u001b[0;34m,\u001b[0m \u001b[0mmode\u001b[0m\u001b[0;34m=\u001b[0m\u001b[0;34m'traces_constrained'\u001b[0m\u001b[0;34m)\u001b[0m\u001b[0;34m\u001b[0m\u001b[0;34m\u001b[0m\u001b[0m\n",
      "\u001b[0;32m~/PycharmProjects/declare4py-v2.0/src/declare4py/pm_tasks/log_filters/basic_filters.py\u001b[0m in \u001b[0;36mfilter_time_range_contained\u001b[0;34m(self, start_date, end_date, mode, timestamp_key, case_id_key)\u001b[0m\n\u001b[1;32m     29\u001b[0m         \"\"\"\n\u001b[1;32m     30\u001b[0m \u001b[0;34m\u001b[0m\u001b[0m\n\u001b[0;32m---> 31\u001b[0;31m         \u001b[0;32mreturn\u001b[0m \u001b[0mpm4py\u001b[0m\u001b[0;34m.\u001b[0m\u001b[0mfilter_time_range\u001b[0m\u001b[0;34m(\u001b[0m\u001b[0mself\u001b[0m\u001b[0;34m.\u001b[0m\u001b[0mevent_log\u001b[0m\u001b[0;34m.\u001b[0m\u001b[0mlog\u001b[0m\u001b[0;34m,\u001b[0m \u001b[0mstart_date\u001b[0m\u001b[0;34m,\u001b[0m \u001b[0mend_date\u001b[0m\u001b[0;34m,\u001b[0m \u001b[0mmode\u001b[0m\u001b[0;34m,\u001b[0m \u001b[0mtimestamp_key\u001b[0m\u001b[0;34m,\u001b[0m \u001b[0mcase_id_key\u001b[0m\u001b[0;34m)\u001b[0m\u001b[0;34m\u001b[0m\u001b[0;34m\u001b[0m\u001b[0m\n\u001b[0m\u001b[1;32m     32\u001b[0m \u001b[0;34m\u001b[0m\u001b[0m\n\u001b[1;32m     33\u001b[0m     def filter_case_performance(self, min_performance: float, max_performance: float,\n",
      "\u001b[0;31mTypeError\u001b[0m: filter_time_range() takes from 3 to 4 positional arguments but 6 were given"
     ]
    }
   ],
   "source": [
    "filtered_log = log_filters.filter_time_range_contained(\"2013-01-01 00:00:00\", \"2015-12-31 23:59:59\", mode='traces_contained')\n",
    "print(f\"Filtered log for time range: {filtered_log}\")\n",
    "print(\"--------------------------------------\")\n",
    "\n",
    "filtered_log = log_filters.filter_time_range_contained(\"2013-01-01 00:00:00\", \"2015-12-31 23:59:59\", mode='traces_constrained')\n",
    "print(f\"Filtered log for time range: {filtered_log}\")\n",
    "print(\"--------------------------------------\")\n",
    "\n",
    "filtered_log = log_filters.filter_time_range_contained(\"2013-01-01 00:00:00\", \"2015-12-31 23:59:59\", mode='events')\n",
    "print(f\"Filtered log for time range: {filtered_log}\")\n",
    "print(\"--------------------------------------\")"
   ]
  },
  {
   "cell_type": "markdown",
   "id": "e9255a38",
   "metadata": {},
   "source": [
    "The second function is `filter_case_performance` allows to filter the log by a range of minimum performance and maximum performance, which is the duration of a case. It takes as inputs:\n",
    "- `min_performace`: a floating point value that represents the minimum value of the range;\n",
    "- `max_performance`: a floating point value that represents the maximum value of the range;\n",
    "- `timestamp_key`: a string defaulted to `time:timestamp`, which is the attribute to be used for the timestamp;\n",
    "- `case_id_key`: string defaulted to `case:concept:name`, which is the attribute to be used as case identifier."
   ]
  },
  {
   "cell_type": "code",
   "execution_count": 7,
   "id": "17128633",
   "metadata": {},
   "outputs": [
    {
     "ename": "TypeError",
     "evalue": "filter_case_performance() takes 3 positional arguments but 5 were given",
     "output_type": "error",
     "traceback": [
      "\u001b[0;31m---------------------------------------------------------------------------\u001b[0m",
      "\u001b[0;31mTypeError\u001b[0m                                 Traceback (most recent call last)",
      "\u001b[0;32m/var/folders/5w/6k152p214xbc6ghcldxtvf2r0000gq/T/ipykernel_53759/1356788824.py\u001b[0m in \u001b[0;36m<module>\u001b[0;34m\u001b[0m\n\u001b[0;32m----> 1\u001b[0;31m \u001b[0mfiltered_log\u001b[0m \u001b[0;34m=\u001b[0m \u001b[0mlog_filters\u001b[0m\u001b[0;34m.\u001b[0m\u001b[0mfilter_case_performance\u001b[0m\u001b[0;34m(\u001b[0m\u001b[0;36m86400\u001b[0m\u001b[0;34m,\u001b[0m \u001b[0;36m864000\u001b[0m\u001b[0;34m)\u001b[0m\u001b[0;34m\u001b[0m\u001b[0;34m\u001b[0m\u001b[0m\n\u001b[0m\u001b[1;32m      2\u001b[0m \u001b[0mprint\u001b[0m\u001b[0;34m(\u001b[0m\u001b[0;34mf\"Filtered on case performance: {filtered_log}\"\u001b[0m\u001b[0;34m)\u001b[0m\u001b[0;34m\u001b[0m\u001b[0;34m\u001b[0m\u001b[0m\n\u001b[1;32m      3\u001b[0m \u001b[0mprint\u001b[0m\u001b[0;34m(\u001b[0m\u001b[0;34m\"--------------------------------------\"\u001b[0m\u001b[0;34m)\u001b[0m\u001b[0;34m\u001b[0m\u001b[0;34m\u001b[0m\u001b[0m\n",
      "\u001b[0;32m~/PycharmProjects/declare4py-v2.0/src/declare4py/pm_tasks/log_filters/basic_filters.py\u001b[0m in \u001b[0;36mfilter_case_performance\u001b[0;34m(self, min_performance, max_performance, timestamp_key, case_id_key)\u001b[0m\n\u001b[1;32m     48\u001b[0m         \"\"\"\n\u001b[1;32m     49\u001b[0m \u001b[0;34m\u001b[0m\u001b[0m\n\u001b[0;32m---> 50\u001b[0;31m         return pm4py.filter_case_performance(self.event_log.log, min_performance, max_performance, timestamp_key,\n\u001b[0m\u001b[1;32m     51\u001b[0m                                              case_id_key)\n\u001b[1;32m     52\u001b[0m \u001b[0;34m\u001b[0m\u001b[0m\n",
      "\u001b[0;31mTypeError\u001b[0m: filter_case_performance() takes 3 positional arguments but 5 were given"
     ]
    }
   ],
   "source": [
    "filtered_log = log_filters.filter_case_performance(86400, 864000)\n",
    "print(f\"Filtered on case performance: {filtered_log}\")\n",
    "print(\"--------------------------------------\")"
   ]
  },
  {
   "cell_type": "markdown",
   "id": "ddde21e6",
   "metadata": {},
   "source": [
    "`get_start_activities` is a function that retrieves all starting activities of the log, it takes as inputs:\n",
    "- `activity_key` attribute used for the activity, default value is: `concept:name`;\n",
    "- `timestamp_key` attribute to be used for the timestamp, default values is: `time:timestamp`;\n",
    "- `case_id_key` attribute to be used as case identifier, default value is: `case:concept:name`.\n",
    "\n",
    "`filter_start_activities` allows to filter all the activities that start with the specified set of start activities. It takes as inputs:\n",
    "- `activities` can be either a set or a list. It is the collection of start activities;\n",
    "- `retain` a boolean value that if True, retains the traces containing the given start activities, if false, the traces are dropped, default values is: `True`;\n",
    "- `activity_key` attribute used for the activity, default value is: `concept:name`;\n",
    "- `timestamp_key` attribute to be used for the timestamp, default values is: `time:timestamp`;\n",
    "- `case_id_key` attribute to be used as case identifier, default value is: `case:concept:name`."
   ]
  },
  {
   "cell_type": "code",
   "execution_count": 8,
   "id": "c9991b13",
   "metadata": {},
   "outputs": [
    {
     "ename": "TypeError",
     "evalue": "get_start_activities() takes 1 positional argument but 4 were given",
     "output_type": "error",
     "traceback": [
      "\u001b[0;31m---------------------------------------------------------------------------\u001b[0m",
      "\u001b[0;31mTypeError\u001b[0m                                 Traceback (most recent call last)",
      "\u001b[0;32m/var/folders/5w/6k152p214xbc6ghcldxtvf2r0000gq/T/ipykernel_53759/4093327132.py\u001b[0m in \u001b[0;36m<module>\u001b[0;34m\u001b[0m\n\u001b[0;32m----> 1\u001b[0;31m \u001b[0mlog_start\u001b[0m \u001b[0;34m=\u001b[0m \u001b[0mlog_filters\u001b[0m\u001b[0;34m.\u001b[0m\u001b[0mget_start_activities\u001b[0m\u001b[0;34m(\u001b[0m\u001b[0;34m)\u001b[0m\u001b[0;34m\u001b[0m\u001b[0;34m\u001b[0m\u001b[0m\n\u001b[0m\u001b[1;32m      2\u001b[0m \u001b[0mprint\u001b[0m\u001b[0;34m(\u001b[0m\u001b[0;34mf\"Start activities: {log_start}\"\u001b[0m\u001b[0;34m)\u001b[0m\u001b[0;34m\u001b[0m\u001b[0;34m\u001b[0m\u001b[0m\n\u001b[1;32m      3\u001b[0m \u001b[0mprint\u001b[0m\u001b[0;34m(\u001b[0m\u001b[0;34m\"--------------------------------------\"\u001b[0m\u001b[0;34m)\u001b[0m\u001b[0;34m\u001b[0m\u001b[0;34m\u001b[0m\u001b[0m\n\u001b[1;32m      4\u001b[0m \u001b[0;34m\u001b[0m\u001b[0m\n\u001b[1;32m      5\u001b[0m \u001b[0mfiltered_log\u001b[0m \u001b[0;34m=\u001b[0m \u001b[0mlog_filters\u001b[0m\u001b[0;34m.\u001b[0m\u001b[0mfilter_start_activities\u001b[0m\u001b[0;34m(\u001b[0m\u001b[0;34m[\u001b[0m\u001b[0;34m\"ER Registration\"\u001b[0m\u001b[0;34m]\u001b[0m\u001b[0;34m)\u001b[0m\u001b[0;34m\u001b[0m\u001b[0;34m\u001b[0m\u001b[0m\n",
      "\u001b[0;32m~/PycharmProjects/declare4py-v2.0/src/declare4py/pm_tasks/log_filters/basic_filters.py\u001b[0m in \u001b[0;36mget_start_activities\u001b[0;34m(self, activity_key, timestamp_key, case_id_key)\u001b[0m\n\u001b[1;32m     66\u001b[0m         \"\"\"\n\u001b[1;32m     67\u001b[0m \u001b[0;34m\u001b[0m\u001b[0m\n\u001b[0;32m---> 68\u001b[0;31m         \u001b[0;32mreturn\u001b[0m \u001b[0mpm4py\u001b[0m\u001b[0;34m.\u001b[0m\u001b[0mget_start_activities\u001b[0m\u001b[0;34m(\u001b[0m\u001b[0mself\u001b[0m\u001b[0;34m.\u001b[0m\u001b[0mevent_log\u001b[0m\u001b[0;34m.\u001b[0m\u001b[0mlog\u001b[0m\u001b[0;34m,\u001b[0m \u001b[0mactivity_key\u001b[0m\u001b[0;34m,\u001b[0m \u001b[0mtimestamp_key\u001b[0m\u001b[0;34m,\u001b[0m \u001b[0mcase_id_key\u001b[0m\u001b[0;34m)\u001b[0m\u001b[0;34m\u001b[0m\u001b[0;34m\u001b[0m\u001b[0m\n\u001b[0m\u001b[1;32m     69\u001b[0m \u001b[0;34m\u001b[0m\u001b[0m\n\u001b[1;32m     70\u001b[0m     def filter_start_activities(self, activities: Union[Set[str], List[str]], retain: bool = True,\n",
      "\u001b[0;31mTypeError\u001b[0m: get_start_activities() takes 1 positional argument but 4 were given"
     ]
    }
   ],
   "source": [
    "log_start = log_filters.get_start_activities()\n",
    "print(f\"Start activities: {log_start}\")\n",
    "print(\"--------------------------------------\")\n",
    "\n",
    "filtered_log = log_filters.filter_start_activities([\"ER Registration\"])\n",
    "print(f\"Filtered on specified start activity: {filtered_log}\")\n",
    "print(\"--------------------------------------\")"
   ]
  },
  {
   "cell_type": "markdown",
   "id": "782b7d5e",
   "metadata": {},
   "source": [
    "The next two functions are very similar to the previous ones, but this time the end activities are used.\n",
    "`get_end_activities` a function that retrieves all the end activities of a log:\n",
    "- `activity_key` attribute used for the activity, default value is: `concept:name`;\n",
    "- `timestamp_key` attribute to be used for the timestamp, default values is: `time:timestamp`;\n",
    "- `case_id_key` attribute to be used as case identifier, default value is: `case:concept:name`.\n",
    "\n",
    "`filter_end_activities` allows to filter all the activities that end with the specified set of end activities. It takes as inputs:\n",
    "- `activities` can be either a set or a list. It is the collection of the end activities;\n",
    "- `activity_key` attribute used for the activity , default value is: `concept:name`;\n",
    "- `retain` a boolean value that if True, retains the traces containing the given start activities, if false, the traces are dropped, default values is: `True`;\n",
    "- `timestamp_key` attribute to be used for the timestamp, default values is: `time:timestamp`;\n",
    "- `case_id_key` attribute to be used as case identifier, default value is: `case:concept:name`."
   ]
  },
  {
   "cell_type": "code",
   "execution_count": 4,
   "id": "aaa1f112",
   "metadata": {},
   "outputs": [
    {
     "name": "stdout",
     "output_type": "stream",
     "text": [
      "End activities: {'Release A': 393, 'Return ER': 291, 'IV Antibiotics': 87, 'Release B': 55, 'ER Sepsis Triage': 49, 'Leucocytes': 44, 'IV Liquid': 12, 'Release C': 19, 'CRP': 41, 'LacticAcid': 24, 'Release D': 14, 'Admission NC': 14, 'Release E': 5, 'ER Triage': 2}\n",
      "--------------------------------------\n"
     ]
    },
    {
     "ename": "TypeError",
     "evalue": "filter_end_activities() takes from 2 to 3 positional arguments but 6 were given",
     "output_type": "error",
     "traceback": [
      "\u001b[0;31m---------------------------------------------------------------------------\u001b[0m",
      "\u001b[0;31mTypeError\u001b[0m                                 Traceback (most recent call last)",
      "\u001b[0;32m/var/folders/5w/6k152p214xbc6ghcldxtvf2r0000gq/T/ipykernel_53997/360440696.py\u001b[0m in \u001b[0;36m<module>\u001b[0;34m\u001b[0m\n\u001b[1;32m      3\u001b[0m \u001b[0mprint\u001b[0m\u001b[0;34m(\u001b[0m\u001b[0;34m\"--------------------------------------\"\u001b[0m\u001b[0;34m)\u001b[0m\u001b[0;34m\u001b[0m\u001b[0;34m\u001b[0m\u001b[0m\n\u001b[1;32m      4\u001b[0m \u001b[0;34m\u001b[0m\u001b[0m\n\u001b[0;32m----> 5\u001b[0;31m \u001b[0mfiltered_log\u001b[0m \u001b[0;34m=\u001b[0m \u001b[0mlog_filters\u001b[0m\u001b[0;34m.\u001b[0m\u001b[0mfilter_end_activities\u001b[0m\u001b[0;34m(\u001b[0m\u001b[0;34m[\u001b[0m\u001b[0;34m\"ER Registration\"\u001b[0m\u001b[0;34m]\u001b[0m\u001b[0;34m)\u001b[0m\u001b[0;34m\u001b[0m\u001b[0;34m\u001b[0m\u001b[0m\n\u001b[0m\u001b[1;32m      6\u001b[0m \u001b[0mprint\u001b[0m\u001b[0;34m(\u001b[0m\u001b[0;34mf\"Filtered on specified end activity: {filtered_log}\"\u001b[0m\u001b[0;34m)\u001b[0m\u001b[0;34m\u001b[0m\u001b[0;34m\u001b[0m\u001b[0m\n\u001b[1;32m      7\u001b[0m \u001b[0mprint\u001b[0m\u001b[0;34m(\u001b[0m\u001b[0;34m\"--------------------------------------\"\u001b[0m\u001b[0;34m)\u001b[0m\u001b[0;34m\u001b[0m\u001b[0;34m\u001b[0m\u001b[0m\n",
      "\u001b[0;32m~/PycharmProjects/declare4py-v2.0/src/declare4py/pm_tasks/log_filters/basic_filters.py\u001b[0m in \u001b[0;36mfilter_end_activities\u001b[0;34m(self, activities, retain, activity_key, timestamp_key, case_id_key)\u001b[0m\n\u001b[1;32m    133\u001b[0m         \"\"\"\n\u001b[1;32m    134\u001b[0m \u001b[0;34m\u001b[0m\u001b[0m\n\u001b[0;32m--> 135\u001b[0;31m         return pm4py.filter_end_activities(self.event_log.log, activities, retain, activity_key, timestamp_key,\n\u001b[0m\u001b[1;32m    136\u001b[0m                                            case_id_key)\n\u001b[1;32m    137\u001b[0m \u001b[0;34m\u001b[0m\u001b[0m\n",
      "\u001b[0;31mTypeError\u001b[0m: filter_end_activities() takes from 2 to 3 positional arguments but 6 were given"
     ]
    }
   ],
   "source": [
    "log_end = log_filters.get_end_activities()\n",
    "print(f\"End activities: {log_end}\")\n",
    "print(\"--------------------------------------\")\n",
    "\n",
    "filtered_log = log_filters.filter_end_activities([\"ER Registration\"])\n",
    "print(f\"Filtered on specified end activity: {filtered_log}\")\n",
    "print(\"--------------------------------------\")"
   ]
  },
  {
   "cell_type": "markdown",
   "id": "b752a14e",
   "metadata": {},
   "source": [
    "Variants are a crucial part of logs, for this reason the class __log_analyzer__ contains functions that allow to filter logs by variants.\n",
    "\n",
    "The function `get_variants` retrieves __all__ the variants from the log. It takes as inputs:\n",
    "- `activity_key` attribute to be used for the activity, defaults values is: `concept:name`;\n",
    "- `timestamp_key` attribute to be used for the timestamp, default values is: `time:timestamp`;\n",
    "- `case_id_key` attribute to be used as case identifier, default values is: `case:concept:name`.\n",
    "\n",
    "There are two functions that filter by variants: `filter_variants_top_k`, `filter_variants`. One retains the top-k variants of the log, the other filters a log by a specified set of variants, respectively.\n",
    "\n",
    "`filter_variants_top_k` takes as inputs:\n",
    "- `k` number of variants that should be kept;\n",
    "- `activity_key` attribute used for the activity , default value is: `concept:name`;\n",
    "- `timestamp_key` attribute to be used for the timestamp, default values is: `time:timestamp`;\n",
    "- `case_id_key` attribute to be used as case identifier, default value is: `case:concept:name`.\n",
    "\n",
    "`filter_variants` takes as inputs:\n",
    "- `variants` can be either a set or a list. It is the collection of the variants by which we want to filter;\n",
    "- `retain` a boolean value that if True, retains the traces containing the given start activities, if false, the traces are dropped, default values is: `True`;\n",
    "- `activity_key` attribute used for the activity , default value is: `concept:name`;\n",
    "- `timestamp_key` attribute to be used for the timestamp, default values is: `time:timestamp`;\n",
    "- `case_id_key` attribute to be used as case identifier, default value is: `case:concept:name`.\n",
    "\n"
   ]
  },
  {
   "cell_type": "code",
   "execution_count": null,
   "id": "cb052fdd",
   "metadata": {},
   "outputs": [],
   "source": [
    "variants = loganalyser.get_variants()\n",
    "print(f\"All retrieved variants of loaded log: {variants}\")\n",
    "print(\"--------------------------------------\")\n",
    "\n",
    "filtered_variants = loganalyser.filter_variants_top_k(2)\n",
    "print(f\"Filtered log on cases following one of the k most frequent variants: {filtered_variants}\")\n",
    "print(\"--------------------------------------\")\n",
    "\n",
    "filtered_variants = loganalyser.filter_variants([\"KNA, nan A\"])\n",
    "print(f\"Filtered variants on given collection: {filtered_variants}\")\n",
    "print(\"--------------------------------------\")\n"
   ]
  },
  {
   "cell_type": "markdown",
   "id": "9eb08b19",
   "metadata": {},
   "source": [
    "Last two functions are `get_event_attribute_values` and `filter_event_attribute_values`. The first one retrieves all the values for a specified (event) attribute, while the second one filters an event log by the values of some event attribute. \n",
    "\n",
    "`get_event_attribute_values` takes as inputs:\n",
    "- `attribute` is the attribute by which we retrieve the events;\n",
    "- `count_once_per_case`  if True, consider only an occurrence of the given attribute value inside a case and if there are multiple events sharing the same attribute value, count only 1 occurrence, default values: `False`; \n",
    "- `case_id_key` attribute to be used as case identifier, default value is: `case:concept:name`.\n",
    "\n",
    "`filter_event_attribute_values` takes as inputs: \n",
    "- `attribute_key` attribute to filter;\n",
    "- `values` admitted (or forbidden) values (accepted both sets and lists);\n",
    "- `level` specifies how the filter should be applied, default values is: `case`, which filters the cases where at least one occurrence happens, `event` filter the events eventually trimming the cases;\n",
    "- `retain` a boolean value that specifies if the values should be kept or removed, default values is: `True`;\n",
    "- `case_id_key` attribute to be used as case identifier, default value is: `case:concept:name`."
   ]
  },
  {
   "cell_type": "code",
   "execution_count": null,
   "id": "fbf6f92e",
   "metadata": {},
   "outputs": [],
   "source": [
    "activities = loganalyser.get_event_attribute_values(\"concept:name\")\n",
    "resources = loganalyser.get_event_attribute_values(\"org:resource\")\n",
    "\n",
    "filtered_log = loganalyser.filter_event_attribute_values(\"org:resource\", [\"Resource10\"], level=\"case\", retain=True)\n",
    "filtered_log = loganalyser.filter_event_attribute_values(\"org:resource\", [\"Resource10\"], level=\"case\", retain=False)\n",
    "\n",
    "filtered_log = loganalyser.filter_event_attribute_values(\"org:resource\", [\"Resource10\"], level=\"event\", retain=True)\n",
    "filtered_log = loganalyser.filter_event_attribute_values(\"org:resource\", [\"Resource10\"], level=\"event\", retain=False)"
   ]
  }
 ],
 "metadata": {
  "kernelspec": {
   "display_name": "Python 3 (ipykernel)",
   "language": "python",
   "name": "python3"
  },
  "language_info": {
   "codemirror_mode": {
    "name": "ipython",
    "version": 3
   },
   "file_extension": ".py",
   "mimetype": "text/x-python",
   "name": "python",
   "nbconvert_exporter": "python",
   "pygments_lexer": "ipython3",
   "version": "3.9.7"
  },
  "vscode": {
   "interpreter": {
    "hash": "05d4b7c3cd0aad81aa9df4db91d3eeeb2841d831664bc3cb6ce2ef5b755f059a"
   }
  }
 },
 "nbformat": 4,
 "nbformat_minor": 5
}
