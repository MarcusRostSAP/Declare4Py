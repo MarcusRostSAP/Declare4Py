{
 "cells": [
  {
   "cell_type": "markdown",
   "id": "5279e90c",
   "metadata": {},
   "source": [
    "# Filtering a Log\n",
    "\n",
    "The class `ProcessMiningTasks.LogFiltering.BasicFilters.BasicFilters` provides several functions to filter a log according to some input requirements. The `BasicFilters` class provides the following filtering functions:\n",
    "1. `filter_time_range_contained` that ...\n",
    "2. `filter_case_performance` that filters the log by a range of minimum performance and maximum performance, which is the duration of a case.\n",
    "3. `filter_start_activities` that filters all the activities that start with the specified set of start activities.\n",
    "4. `filter_end_activities` that filters all the activities that end with the specified set of end activities.\n",
    "5. `filter_variants_top_k` retains the top-k variants of the log.\n",
    "6. `filter_variants` filters a log by a specified set of variants.\n",
    "7. `filter_event_attribute_values` filters a log by the values of some event attribute. \n",
    "\n",
    "We first import such a class and the input `xes` log."
   ]
  },
  {
   "cell_type": "code",
   "execution_count": 1,
   "id": "d276cc2d",
   "metadata": {},
   "outputs": [
    {
     "data": {
      "application/vnd.jupyter.widget-view+json": {
       "model_id": "c3d83674f82e40fabb20fe7958528ab2",
       "version_major": 2,
       "version_minor": 0
      },
      "text/plain": [
       "parsing log, completed traces ::   0%|          | 0/1050 [00:00<?, ?it/s]"
      ]
     },
     "metadata": {},
     "output_type": "display_data"
    }
   ],
   "source": [
    "import sys\n",
    "import os\n",
    "import pathlib\n",
    "\n",
    "SCRIPT_DIR = pathlib.Path(\"..\", \"src\").resolve()\n",
    "sys.path.append(os.path.dirname(SCRIPT_DIR))\n",
    "\n",
    "from src.Declare4Py.ProcessMiningTasks.LogFiltering.BasicFilters import BasicFilters\n",
    "from src.Declare4Py.D4PyEventLog import D4PyEventLog\n",
    "\n",
    "log_path = os.path.join(\"..\", \"tests\", \"Sepsis Cases.xes.gz\")\n",
    "event_log = D4PyEventLog()\n",
    "event_log.parse_xes_log(log_path)"
   ]
  },
  {
   "cell_type": "markdown",
   "id": "1225a100",
   "metadata": {},
   "source": [
    "Then, the `event_log` is passed to the `BasicFilters` class."
   ]
  },
  {
   "cell_type": "code",
   "execution_count": 2,
   "id": "e5ae55fa",
   "metadata": {},
   "outputs": [],
   "source": [
    "log_filters = BasicFilters(event_log)"
   ]
  },
  {
   "cell_type": "markdown",
   "id": "a6774faa",
   "metadata": {},
   "source": [
    "## `filter_time_range_contained`\n",
    "\n",
    "The function `filter_time_range_contained` takes as input: \n",
    "- `start_date` as a string of type `2013-01-01 00:00:00`; \n",
    "- `end_date` a string of type `2013-01-01 00:00:00`; \n",
    "- `mode` which is defaulted to `events`, but allows also `traces_intersecting` and `traces_contained` as values; \n",
    "- `timestamp_key` (defaulted to `time:timestamp`) which is the attribute used for the timestamp; \n",
    "- `case_id_key`, the attribute used as identifier and has default value `case:concept:name`."
   ]
  },
  {
   "cell_type": "code",
   "execution_count": 13,
   "id": "8816640b",
   "metadata": {},
   "outputs": [
    {
     "name": "stdout",
     "output_type": "stream",
     "text": [
      "Filtered log for time range:\n",
      "[{'attributes': {'concept:name': 'A'}, 'events': [{'InfectionSuspected': True, 'org:group': 'A', 'DiagnosticBlood': True, 'DisfuncOrg': True, 'SIRSCritTachypnea': True, 'Hypotensie': True, 'SIRSCritHeartRate': True, 'Infusion': True, 'DiagnosticArtAstrup': True, 'concept:name': 'ER Registration', 'Age': 85, 'DiagnosticIC': True, 'DiagnosticSputum': False, 'DiagnosticLiquor': False, 'DiagnosticOther': False, 'SIRSCriteria2OrMore': True, 'DiagnosticXthorax': True, 'SIRSCritTemperature': True, 'time:timestamp': datetime.datetime(2014, 10, 22, 11, 15, 41, tzinfo=datetime.timezone(datetime.timedelta(seconds=7200))), 'DiagnosticUrinaryCulture': True, 'SIRSCritLeucos': False, 'Oligurie': False, 'DiagnosticLacticAcid': True, 'lifecycle:transition': 'complete', 'Diagnose': 'A', 'Hypoxie': False, 'DiagnosticUrinarySediment': True, 'DiagnosticECG': True, 'case:concept:name': 'A'}, '..', {'org:group': 'E', 'lifecycle:transition': 'complete', 'concept:name': 'Release A', 'time:timestamp': datetime.datetime(2014, 11, 2, 15, 15, tzinfo=datetime.timezone(datetime.timedelta(seconds=3600))), 'case:concept:name': 'A'}]}, '....', {'attributes': {'concept:name': 'LNA'}, 'events': [{'InfectionSuspected': False, 'org:group': 'L', 'DiagnosticBlood': False, 'DisfuncOrg': False, 'SIRSCritTachypnea': False, 'Hypotensie': False, 'SIRSCritHeartRate': False, 'Infusion': False, 'DiagnosticArtAstrup': False, 'concept:name': 'ER Registration', 'Age': 50, 'DiagnosticIC': False, 'DiagnosticSputum': False, 'DiagnosticLiquor': False, 'DiagnosticOther': False, 'SIRSCriteria2OrMore': False, 'DiagnosticXthorax': False, 'SIRSCritTemperature': False, 'time:timestamp': datetime.datetime(2014, 12, 3, 10, 50, 28, tzinfo=datetime.timezone(datetime.timedelta(seconds=3600))), 'DiagnosticUrinaryCulture': False, 'SIRSCritLeucos': False, 'Oligurie': False, 'DiagnosticLacticAcid': False, 'lifecycle:transition': 'complete', 'Hypoxie': False, 'DiagnosticUrinarySediment': False, 'DiagnosticECG': False, 'case:concept:name': 'LNA'}, '..', {'org:group': 'L', 'lifecycle:transition': 'complete', 'concept:name': 'ER Sepsis Triage', 'time:timestamp': datetime.datetime(2014, 12, 3, 10, 54, 39, tzinfo=datetime.timezone(datetime.timedelta(seconds=3600))), 'case:concept:name': 'LNA'}]}]\n",
      "--------------------------------------\n",
      "Filtered log for time range:\n",
      "[{'attributes': {'concept:name': 'A'}, 'events': [{'InfectionSuspected': True, 'org:group': 'A', 'DiagnosticBlood': True, 'DisfuncOrg': True, 'SIRSCritTachypnea': True, 'Hypotensie': True, 'SIRSCritHeartRate': True, 'Infusion': True, 'DiagnosticArtAstrup': True, 'concept:name': 'ER Registration', 'Age': 85, 'DiagnosticIC': True, 'DiagnosticSputum': False, 'DiagnosticLiquor': False, 'DiagnosticOther': False, 'SIRSCriteria2OrMore': True, 'DiagnosticXthorax': True, 'SIRSCritTemperature': True, 'time:timestamp': datetime.datetime(2014, 10, 22, 11, 15, 41, tzinfo=datetime.timezone(datetime.timedelta(seconds=7200))), 'DiagnosticUrinaryCulture': True, 'SIRSCritLeucos': False, 'Oligurie': False, 'DiagnosticLacticAcid': True, 'lifecycle:transition': 'complete', 'Diagnose': 'A', 'Hypoxie': False, 'DiagnosticUrinarySediment': True, 'DiagnosticECG': True, 'case:concept:name': 'A'}, '..', {'org:group': 'E', 'lifecycle:transition': 'complete', 'concept:name': 'Release A', 'time:timestamp': datetime.datetime(2014, 11, 2, 15, 15, tzinfo=datetime.timezone(datetime.timedelta(seconds=3600))), 'case:concept:name': 'A'}]}, '....', {'attributes': {'concept:name': 'LNA'}, 'events': [{'InfectionSuspected': False, 'org:group': 'L', 'DiagnosticBlood': False, 'DisfuncOrg': False, 'SIRSCritTachypnea': False, 'Hypotensie': False, 'SIRSCritHeartRate': False, 'Infusion': False, 'DiagnosticArtAstrup': False, 'concept:name': 'ER Registration', 'Age': 50, 'DiagnosticIC': False, 'DiagnosticSputum': False, 'DiagnosticLiquor': False, 'DiagnosticOther': False, 'SIRSCriteria2OrMore': False, 'DiagnosticXthorax': False, 'SIRSCritTemperature': False, 'time:timestamp': datetime.datetime(2014, 12, 3, 10, 50, 28, tzinfo=datetime.timezone(datetime.timedelta(seconds=3600))), 'DiagnosticUrinaryCulture': False, 'SIRSCritLeucos': False, 'Oligurie': False, 'DiagnosticLacticAcid': False, 'lifecycle:transition': 'complete', 'Hypoxie': False, 'DiagnosticUrinarySediment': False, 'DiagnosticECG': False, 'case:concept:name': 'LNA'}, '..', {'org:group': 'L', 'lifecycle:transition': 'complete', 'concept:name': 'ER Sepsis Triage', 'time:timestamp': datetime.datetime(2014, 12, 3, 10, 54, 39, tzinfo=datetime.timezone(datetime.timedelta(seconds=3600))), 'case:concept:name': 'LNA'}]}]\n",
      "--------------------------------------\n",
      "Filtered log for time range:\n",
      "[{'attributes': {'concept:name': 'A'}, 'events': [{'InfectionSuspected': True, 'org:group': 'A', 'DiagnosticBlood': True, 'DisfuncOrg': True, 'SIRSCritTachypnea': True, 'Hypotensie': True, 'SIRSCritHeartRate': True, 'Infusion': True, 'DiagnosticArtAstrup': True, 'concept:name': 'ER Registration', 'Age': 85, 'DiagnosticIC': True, 'DiagnosticSputum': False, 'DiagnosticLiquor': False, 'DiagnosticOther': False, 'SIRSCriteria2OrMore': True, 'DiagnosticXthorax': True, 'SIRSCritTemperature': True, 'time:timestamp': datetime.datetime(2014, 10, 22, 11, 15, 41, tzinfo=datetime.timezone(datetime.timedelta(seconds=7200))), 'DiagnosticUrinaryCulture': True, 'SIRSCritLeucos': False, 'Oligurie': False, 'DiagnosticLacticAcid': True, 'lifecycle:transition': 'complete', 'Diagnose': 'A', 'Hypoxie': False, 'DiagnosticUrinarySediment': True, 'DiagnosticECG': True}, '..', {'org:group': 'E', 'lifecycle:transition': 'complete', 'concept:name': 'Release A', 'time:timestamp': datetime.datetime(2014, 11, 2, 15, 15, tzinfo=datetime.timezone(datetime.timedelta(seconds=3600)))}]}, '....', {'attributes': {'concept:name': 'LNA'}, 'events': [{'InfectionSuspected': False, 'org:group': 'L', 'DiagnosticBlood': False, 'DisfuncOrg': False, 'SIRSCritTachypnea': False, 'Hypotensie': False, 'SIRSCritHeartRate': False, 'Infusion': False, 'DiagnosticArtAstrup': False, 'concept:name': 'ER Registration', 'Age': 50, 'DiagnosticIC': False, 'DiagnosticSputum': False, 'DiagnosticLiquor': False, 'DiagnosticOther': False, 'SIRSCriteria2OrMore': False, 'DiagnosticXthorax': False, 'SIRSCritTemperature': False, 'time:timestamp': datetime.datetime(2014, 12, 3, 10, 50, 28, tzinfo=datetime.timezone(datetime.timedelta(seconds=3600))), 'DiagnosticUrinaryCulture': False, 'SIRSCritLeucos': False, 'Oligurie': False, 'DiagnosticLacticAcid': False, 'lifecycle:transition': 'complete', 'Hypoxie': False, 'DiagnosticUrinarySediment': False, 'DiagnosticECG': False}, '..', {'org:group': 'L', 'lifecycle:transition': 'complete', 'concept:name': 'ER Sepsis Triage', 'time:timestamp': datetime.datetime(2014, 12, 3, 10, 54, 39, tzinfo=datetime.timezone(datetime.timedelta(seconds=3600)))}]}]\n",
      "--------------------------------------\n"
     ]
    }
   ],
   "source": [
    "filtered_log = log_filters.filter_time_range_contained(\"2013-01-01 00:00:00\", \"2015-12-31 23:59:59\", mode='traces_contained')\n",
    "print(f\"Filtered log for time range:\\n{filtered_log}\")\n",
    "print(\"--------------------------------------\")\n",
    "\n",
    "filtered_log = log_filters.filter_time_range_contained(\"2013-01-01 00:00:00\", \"2015-12-31 23:59:59\", mode='traces_constrained')\n",
    "print(f\"Filtered log for time range:\\n{filtered_log}\")\n",
    "print(\"--------------------------------------\")\n",
    "\n",
    "filtered_log = log_filters.filter_time_range_contained(\"2013-01-01 00:00:00\", \"2015-12-31 23:59:59\", mode='events')\n",
    "print(f\"Filtered log for time range:\\n{filtered_log}\")\n",
    "print(\"--------------------------------------\")"
   ]
  },
  {
   "cell_type": "markdown",
   "id": "e9255a38",
   "metadata": {},
   "source": [
    "## `filter_case_performance`\n",
    "\n",
    "The function `filter_case_performance` allows to filter the log by a range of minimum performance and maximum performance, which is the duration of a case. It takes as input:\n",
    "- `min_performace`: a floating point value that represents the minimum value of the range;\n",
    "- `max_performance`: a floating point value that represents the maximum value of the range;\n",
    "- `timestamp_key`: a string defaulted to `time:timestamp`, which is the attribute to be used for the timestamp;\n",
    "- `case_id_key`: string defaulted to `case:concept:name`, which is the attribute to be used as case identifier."
   ]
  },
  {
   "cell_type": "code",
   "execution_count": 6,
   "id": "17128633",
   "metadata": {},
   "outputs": [
    {
     "name": "stdout",
     "output_type": "stream",
     "text": [
      "Filtered on case performance: [{'attributes': {'concept:name': 'B'}, 'events': [{'InfectionSuspected': True, 'org:group': 'A', 'DiagnosticBlood': True, 'DisfuncOrg': False, 'SIRSCritTachypnea': True, 'Hypotensie': False, 'SIRSCritHeartRate': True, 'Infusion': True, 'DiagnosticArtAstrup': False, 'concept:name': 'ER Registration', 'Age': 45, 'DiagnosticIC': True, 'DiagnosticSputum': True, 'DiagnosticLiquor': False, 'DiagnosticOther': False, 'SIRSCriteria2OrMore': True, 'DiagnosticXthorax': True, 'SIRSCritTemperature': True, 'time:timestamp': datetime.datetime(2014, 12, 21, 11, 4, 24, tzinfo=datetime.timezone(datetime.timedelta(seconds=3600))), 'DiagnosticUrinaryCulture': True, 'SIRSCritLeucos': False, 'Oligurie': False, 'DiagnosticLacticAcid': True, 'lifecycle:transition': 'complete', 'Diagnose': 'B', 'Hypoxie': False, 'DiagnosticUrinarySediment': True, 'DiagnosticECG': True, 'case:concept:name': 'B'}, '..', {'org:group': 'E', 'lifecycle:transition': 'complete', 'concept:name': 'Release A', 'time:timestamp': datetime.datetime(2014, 12, 26, 18, 0, tzinfo=datetime.timezone(datetime.timedelta(seconds=3600))), 'case:concept:name': 'B'}]}, '....', {'attributes': {'concept:name': 'KNA'}, 'events': [{'InfectionSuspected': True, 'org:group': 'A', 'DiagnosticBlood': True, 'DisfuncOrg': False, 'SIRSCritTachypnea': True, 'Hypotensie': False, 'SIRSCritHeartRate': True, 'Infusion': True, 'DiagnosticArtAstrup': True, 'concept:name': 'ER Registration', 'Age': 35, 'DiagnosticIC': True, 'DiagnosticSputum': False, 'DiagnosticLiquor': False, 'DiagnosticOther': False, 'SIRSCriteria2OrMore': True, 'DiagnosticXthorax': True, 'SIRSCritTemperature': True, 'time:timestamp': datetime.datetime(2014, 12, 11, 23, 28, 38, tzinfo=datetime.timezone(datetime.timedelta(seconds=3600))), 'DiagnosticUrinaryCulture': False, 'SIRSCritLeucos': False, 'Oligurie': False, 'DiagnosticLacticAcid': True, 'lifecycle:transition': 'complete', 'Diagnose': 'QE', 'Hypoxie': False, 'DiagnosticUrinarySediment': True, 'DiagnosticECG': True, 'case:concept:name': 'KNA'}, '..', {'org:group': 'E', 'lifecycle:transition': 'complete', 'concept:name': 'Release A', 'time:timestamp': datetime.datetime(2014, 12, 16, 17, 0, tzinfo=datetime.timezone(datetime.timedelta(seconds=3600))), 'case:concept:name': 'KNA'}]}]\n",
      "--------------------------------------\n"
     ]
    }
   ],
   "source": [
    "filtered_log = log_filters.filter_case_performance(86400, 864000)\n",
    "print(f\"Filtered on case performance:\\n{filtered_log}\")\n",
    "print(\"--------------------------------------\")"
   ]
  },
  {
   "cell_type": "markdown",
   "id": "ea3756bc",
   "metadata": {},
   "source": [
    "## `filter_start_activities`\n",
    "\n",
    "The function `filter_start_activities` filters all the activities that start with the specified set of start activities. It takes as input:\n",
    "- `activities` can be either a set or a list. It is the collection of start activities;\n",
    "- `retain` a boolean value that if True, retains the traces containing the given start activities, if false, the traces are dropped, default values is: `True`;\n",
    "- `activity_key` attribute used for the activity, default value is: `concept:name`;\n",
    "- `timestamp_key` attribute to be used for the timestamp, default values is: `time:timestamp`;\n",
    "- `case_id_key` attribute to be used as case identifier, default value is: `case:concept:name`."
   ]
  },
  {
   "cell_type": "code",
   "execution_count": 3,
   "id": "c9991b13",
   "metadata": {},
   "outputs": [
    {
     "name": "stdout",
     "output_type": "stream",
     "text": [
      "Filtered on ['ER Registration', 'CRP'] as start activities:\n",
      "[{'attributes': {'concept:name': 'A'}, 'events': [{'InfectionSuspected': True, 'org:group': 'A', 'DiagnosticBlood': True, 'DisfuncOrg': True, 'SIRSCritTachypnea': True, 'Hypotensie': True, 'SIRSCritHeartRate': True, 'Infusion': True, 'DiagnosticArtAstrup': True, 'concept:name': 'ER Registration', 'Age': 85, 'DiagnosticIC': True, 'DiagnosticSputum': False, 'DiagnosticLiquor': False, 'DiagnosticOther': False, 'SIRSCriteria2OrMore': True, 'DiagnosticXthorax': True, 'SIRSCritTemperature': True, 'time:timestamp': datetime.datetime(2014, 10, 22, 11, 15, 41, tzinfo=datetime.timezone(datetime.timedelta(seconds=7200))), 'DiagnosticUrinaryCulture': True, 'SIRSCritLeucos': False, 'Oligurie': False, 'DiagnosticLacticAcid': True, 'lifecycle:transition': 'complete', 'Diagnose': 'A', 'Hypoxie': False, 'DiagnosticUrinarySediment': True, 'DiagnosticECG': True}, '..', {'org:group': 'E', 'lifecycle:transition': 'complete', 'concept:name': 'Release A', 'time:timestamp': datetime.datetime(2014, 11, 2, 15, 15, tzinfo=datetime.timezone(datetime.timedelta(seconds=3600)))}]}, '....', {'attributes': {'concept:name': 'LNA'}, 'events': [{'InfectionSuspected': False, 'org:group': 'L', 'DiagnosticBlood': False, 'DisfuncOrg': False, 'SIRSCritTachypnea': False, 'Hypotensie': False, 'SIRSCritHeartRate': False, 'Infusion': False, 'DiagnosticArtAstrup': False, 'concept:name': 'ER Registration', 'Age': 50, 'DiagnosticIC': False, 'DiagnosticSputum': False, 'DiagnosticLiquor': False, 'DiagnosticOther': False, 'SIRSCriteria2OrMore': False, 'DiagnosticXthorax': False, 'SIRSCritTemperature': False, 'time:timestamp': datetime.datetime(2014, 12, 3, 10, 50, 28, tzinfo=datetime.timezone(datetime.timedelta(seconds=3600))), 'DiagnosticUrinaryCulture': False, 'SIRSCritLeucos': False, 'Oligurie': False, 'DiagnosticLacticAcid': False, 'lifecycle:transition': 'complete', 'Hypoxie': False, 'DiagnosticUrinarySediment': False, 'DiagnosticECG': False}, '..', {'org:group': 'L', 'lifecycle:transition': 'complete', 'concept:name': 'ER Sepsis Triage', 'time:timestamp': datetime.datetime(2014, 12, 3, 10, 54, 39, tzinfo=datetime.timezone(datetime.timedelta(seconds=3600)))}]}]\n"
     ]
    },
    {
     "name": "stderr",
     "output_type": "stream",
     "text": [
      "/Users/ivan/opt/anaconda3/lib/python3.9/site-packages/packaging/version.py:111: DeprecationWarning: Creating a LegacyVersion has been deprecated and will be removed in the next major release\n",
      "  warnings.warn(\n",
      "/Users/ivan/opt/anaconda3/lib/python3.9/site-packages/packaging/version.py:111: DeprecationWarning: Creating a LegacyVersion has been deprecated and will be removed in the next major release\n",
      "  warnings.warn(\n",
      "/Users/ivan/opt/anaconda3/lib/python3.9/site-packages/packaging/version.py:111: DeprecationWarning: Creating a LegacyVersion has been deprecated and will be removed in the next major release\n",
      "  warnings.warn(\n"
     ]
    }
   ],
   "source": [
    "start_activities = [\"ER Registration\", \"CRP\"]\n",
    "filtered_log = log_filters.filter_start_activities(start_activities)\n",
    "print(f\"Filtered on {start_activities} as start activities:\\n{filtered_log}\")"
   ]
  },
  {
   "cell_type": "markdown",
   "id": "665284e7",
   "metadata": {},
   "source": [
    "##  `filter_end_activities`\n",
    "\n",
    "The function `filter_end_activities` filters all the activities that end with the specified set of end activities. It takes as input:\n",
    "- `activities` can be either a set or a list. It is the collection of the end activities;\n",
    "- `activity_key` attribute used for the activity , default value is: `concept:name`;\n",
    "- `retain` a boolean value that if True, retains the traces containing the given start activities, if false, the traces are dropped, default values is: `True`;\n",
    "- `timestamp_key` attribute to be used for the timestamp, default values is: `time:timestamp`;\n",
    "- `case_id_key` attribute to be used as case identifier, default value is: `case:concept:name`."
   ]
  },
  {
   "cell_type": "code",
   "execution_count": 22,
   "id": "aaa1f112",
   "metadata": {},
   "outputs": [
    {
     "name": "stdout",
     "output_type": "stream",
     "text": [
      "Filtered on ['Release A', 'Release C'] as end activities:\n",
      "[{'attributes': {'concept:name': 'A'}, 'events': [{'InfectionSuspected': True, 'org:group': 'A', 'DiagnosticBlood': True, 'DisfuncOrg': True, 'SIRSCritTachypnea': True, 'Hypotensie': True, 'SIRSCritHeartRate': True, 'Infusion': True, 'DiagnosticArtAstrup': True, 'concept:name': 'ER Registration', 'Age': 85, 'DiagnosticIC': True, 'DiagnosticSputum': False, 'DiagnosticLiquor': False, 'DiagnosticOther': False, 'SIRSCriteria2OrMore': True, 'DiagnosticXthorax': True, 'SIRSCritTemperature': True, 'time:timestamp': datetime.datetime(2014, 10, 22, 11, 15, 41, tzinfo=datetime.timezone(datetime.timedelta(seconds=7200))), 'DiagnosticUrinaryCulture': True, 'SIRSCritLeucos': False, 'Oligurie': False, 'DiagnosticLacticAcid': True, 'lifecycle:transition': 'complete', 'Diagnose': 'A', 'Hypoxie': False, 'DiagnosticUrinarySediment': True, 'DiagnosticECG': True, 'case:concept:name': 'A'}, '..', {'org:group': 'E', 'lifecycle:transition': 'complete', 'concept:name': 'Release A', 'time:timestamp': datetime.datetime(2014, 11, 2, 15, 15, tzinfo=datetime.timezone(datetime.timedelta(seconds=3600))), 'case:concept:name': 'A'}]}, '....', {'attributes': {'concept:name': 'KNA'}, 'events': [{'InfectionSuspected': True, 'org:group': 'A', 'DiagnosticBlood': True, 'DisfuncOrg': False, 'SIRSCritTachypnea': True, 'Hypotensie': False, 'SIRSCritHeartRate': True, 'Infusion': True, 'DiagnosticArtAstrup': True, 'concept:name': 'ER Registration', 'Age': 35, 'DiagnosticIC': True, 'DiagnosticSputum': False, 'DiagnosticLiquor': False, 'DiagnosticOther': False, 'SIRSCriteria2OrMore': True, 'DiagnosticXthorax': True, 'SIRSCritTemperature': True, 'time:timestamp': datetime.datetime(2014, 12, 11, 23, 28, 38, tzinfo=datetime.timezone(datetime.timedelta(seconds=3600))), 'DiagnosticUrinaryCulture': False, 'SIRSCritLeucos': False, 'Oligurie': False, 'DiagnosticLacticAcid': True, 'lifecycle:transition': 'complete', 'Diagnose': 'QE', 'Hypoxie': False, 'DiagnosticUrinarySediment': True, 'DiagnosticECG': True, 'case:concept:name': 'KNA'}, '..', {'org:group': 'E', 'lifecycle:transition': 'complete', 'concept:name': 'Release A', 'time:timestamp': datetime.datetime(2014, 12, 16, 17, 0, tzinfo=datetime.timezone(datetime.timedelta(seconds=3600))), 'case:concept:name': 'KNA'}]}]\n"
     ]
    }
   ],
   "source": [
    "end_activities = [\"Release A\", \"Release C\"]\n",
    "filtered_log = log_filters.filter_end_activities(end_activities)\n",
    "print(f\"Filtered on {end_activities} as end activities:\\n{filtered_log}\")"
   ]
  },
  {
   "cell_type": "markdown",
   "id": "b752a14e",
   "metadata": {},
   "source": [
    "## `filter_variants_top_k`\n",
    "\n",
    "The function `filter_variants_top_k` retains the top-k variants of the log. It takes as input:\n",
    "- `k` number of variants that should be kept;\n",
    "- `activity_key` attribute used for the activity , default value is: `concept:name`;\n",
    "- `timestamp_key` attribute to be used for the timestamp, default values is: `time:timestamp`;\n",
    "- `case_id_key` attribute to be used as case identifier, default value is: `case:concept:name`."
   ]
  },
  {
   "cell_type": "code",
   "execution_count": 12,
   "id": "61ea7e8c",
   "metadata": {},
   "outputs": [
    {
     "name": "stdout",
     "output_type": "stream",
     "text": [
      "Filtered log on cases following one of the k most frequent variants:\n",
      "[{'attributes': {'concept:name': 'M'}, 'events': [{'InfectionSuspected': False, 'org:group': 'A', 'DiagnosticBlood': False, 'DisfuncOrg': False, 'SIRSCritTachypnea': False, 'Hypotensie': False, 'SIRSCritHeartRate': False, 'Infusion': False, 'DiagnosticArtAstrup': False, 'concept:name': 'ER Registration', 'Age': 90, 'DiagnosticIC': False, 'DiagnosticSputum': False, 'DiagnosticLiquor': False, 'DiagnosticOther': False, 'SIRSCriteria2OrMore': False, 'DiagnosticXthorax': False, 'SIRSCritTemperature': False, 'time:timestamp': datetime.datetime(2014, 10, 10, 3, 8, 37, tzinfo=datetime.timezone(datetime.timedelta(seconds=7200))), 'DiagnosticUrinaryCulture': False, 'SIRSCritLeucos': False, 'Oligurie': False, 'DiagnosticLacticAcid': False, 'lifecycle:transition': 'complete', 'Hypoxie': False, 'DiagnosticUrinarySediment': False, 'DiagnosticECG': False}, '..', {'org:group': 'A', 'lifecycle:transition': 'complete', 'concept:name': 'ER Sepsis Triage', 'time:timestamp': datetime.datetime(2014, 10, 10, 3, 10, 54, tzinfo=datetime.timezone(datetime.timedelta(seconds=7200)))}]}, '....', {'attributes': {'concept:name': 'WMA'}, 'events': [{'InfectionSuspected': False, 'org:group': 'A', 'DiagnosticBlood': False, 'DisfuncOrg': False, 'SIRSCritTachypnea': False, 'Hypotensie': False, 'SIRSCritHeartRate': True, 'Infusion': False, 'DiagnosticArtAstrup': False, 'concept:name': 'ER Registration', 'Age': 20, 'DiagnosticIC': False, 'DiagnosticSputum': False, 'DiagnosticLiquor': False, 'DiagnosticOther': False, 'SIRSCriteria2OrMore': True, 'DiagnosticXthorax': False, 'SIRSCritTemperature': True, 'time:timestamp': datetime.datetime(2014, 4, 17, 15, 29, 26, tzinfo=datetime.timezone(datetime.timedelta(seconds=7200))), 'DiagnosticUrinaryCulture': False, 'SIRSCritLeucos': False, 'Oligurie': False, 'DiagnosticLacticAcid': False, 'lifecycle:transition': 'complete', 'Hypoxie': False, 'DiagnosticUrinarySediment': False, 'DiagnosticECG': False}, '..', {'CRP': 40.0, 'org:group': 'B', 'lifecycle:transition': 'complete', 'concept:name': 'CRP', 'time:timestamp': datetime.datetime(2014, 4, 17, 16, 46, tzinfo=datetime.timezone(datetime.timedelta(seconds=7200)))}]}]\n"
     ]
    }
   ],
   "source": [
    "filtered_variants = log_filters.filter_variants_top_k(2)\n",
    "print(f\"Filtered log on cases following one of the k most frequent variants:\\n{filtered_variants}\")"
   ]
  },
  {
   "cell_type": "markdown",
   "id": "bb98240f",
   "metadata": {},
   "source": [
    "## `filter_variants`\n",
    "\n",
    "The function `filter_variants` filters a log by a specified set of variants. It takes as input:\n",
    "- `variants` can be either a set or a list. It is the collection of the variants by which we want to filter;\n",
    "- `retain` a boolean value that if True, retains the traces containing the given start activities, if false, the traces are dropped, default values is: `True`;\n",
    "- `activity_key` attribute used for the activity , default value is: `concept:name`;\n",
    "- `timestamp_key` attribute to be used for the timestamp, default values is: `time:timestamp`;\n",
    "- `case_id_key` attribute to be used as case identifier, default value is: `case:concept:name`."
   ]
  },
  {
   "cell_type": "code",
   "execution_count": 13,
   "id": "cb052fdd",
   "metadata": {},
   "outputs": [
    {
     "name": "stdout",
     "output_type": "stream",
     "text": [
      "Filtered variants on given collection: []\n"
     ]
    }
   ],
   "source": [
    "filtered_variants = log_filters.filter_variants([\"KNA, nan A\"])\n",
    "print(f\"Filtered variants on given collection: {filtered_variants}\")"
   ]
  },
  {
   "cell_type": "markdown",
   "id": "9eb08b19",
   "metadata": {},
   "source": [
    "## `filter_event_attribute_values`\n",
    "\n",
    "The function `filter_event_attribute_values` filters an event log by the values of some event attribute. It takes as inputs: \n",
    "- `attribute_key` attribute to filter;\n",
    "- `values` admitted (or forbidden) values (accepted both sets and lists);\n",
    "- `level` specifies how the filter should be applied, default values is: `case`, which filters the cases where at least one occurrence happens, `event` filter the events eventually trimming the cases;\n",
    "- `retain` a boolean value that specifies if the values should be kept or removed, default values is: `True`;\n",
    "- `case_id_key` attribute to be used as case identifier, default value is: `case:concept:name`."
   ]
  },
  {
   "cell_type": "code",
   "execution_count": 25,
   "id": "fbf6f92e",
   "metadata": {},
   "outputs": [],
   "source": [
    "filtered_log = log_filters.filter_event_attribute_values(\"org:group\", [\"Resource10\"], level=\"case\", retain=True)\n",
    "filtered_log = log_filters.filter_event_attribute_values(\"org:group\", [\"Resource10\"], level=\"case\", retain=False)\n",
    "\n",
    "filtered_log = log_filters.filter_event_attribute_values(\"org:group\", [\"Resource10\"], level=\"event\", retain=True)\n",
    "filtered_log = log_filters.filter_event_attribute_values(\"org:group\", [\"sadasd\"], level=\"event\", retain=False)"
   ]
  },
  {
   "cell_type": "code",
   "execution_count": 26,
   "id": "5c61d79f",
   "metadata": {},
   "outputs": [
    {
     "name": "stdout",
     "output_type": "stream",
     "text": [
      "[{'attributes': {'concept:name': 'A'}, 'events': [{'InfectionSuspected': True, 'org:group': 'A', 'DiagnosticBlood': True, 'DisfuncOrg': True, 'SIRSCritTachypnea': True, 'Hypotensie': True, 'SIRSCritHeartRate': True, 'Infusion': True, 'DiagnosticArtAstrup': True, 'concept:name': 'ER Registration', 'Age': 85, 'DiagnosticIC': True, 'DiagnosticSputum': False, 'DiagnosticLiquor': False, 'DiagnosticOther': False, 'SIRSCriteria2OrMore': True, 'DiagnosticXthorax': True, 'SIRSCritTemperature': True, 'time:timestamp': datetime.datetime(2014, 10, 22, 11, 15, 41, tzinfo=datetime.timezone(datetime.timedelta(seconds=7200))), 'DiagnosticUrinaryCulture': True, 'SIRSCritLeucos': False, 'Oligurie': False, 'DiagnosticLacticAcid': True, 'lifecycle:transition': 'complete', 'Diagnose': 'A', 'Hypoxie': False, 'DiagnosticUrinarySediment': True, 'DiagnosticECG': True}, '..', {'org:group': 'E', 'lifecycle:transition': 'complete', 'concept:name': 'Release A', 'time:timestamp': datetime.datetime(2014, 11, 2, 15, 15, tzinfo=datetime.timezone(datetime.timedelta(seconds=3600)))}]}, '....', {'attributes': {'concept:name': 'LNA'}, 'events': [{'InfectionSuspected': False, 'org:group': 'L', 'DiagnosticBlood': False, 'DisfuncOrg': False, 'SIRSCritTachypnea': False, 'Hypotensie': False, 'SIRSCritHeartRate': False, 'Infusion': False, 'DiagnosticArtAstrup': False, 'concept:name': 'ER Registration', 'Age': 50, 'DiagnosticIC': False, 'DiagnosticSputum': False, 'DiagnosticLiquor': False, 'DiagnosticOther': False, 'SIRSCriteria2OrMore': False, 'DiagnosticXthorax': False, 'SIRSCritTemperature': False, 'time:timestamp': datetime.datetime(2014, 12, 3, 10, 50, 28, tzinfo=datetime.timezone(datetime.timedelta(seconds=3600))), 'DiagnosticUrinaryCulture': False, 'SIRSCritLeucos': False, 'Oligurie': False, 'DiagnosticLacticAcid': False, 'lifecycle:transition': 'complete', 'Hypoxie': False, 'DiagnosticUrinarySediment': False, 'DiagnosticECG': False}, '..', {'org:group': 'L', 'lifecycle:transition': 'complete', 'concept:name': 'ER Sepsis Triage', 'time:timestamp': datetime.datetime(2014, 12, 3, 10, 54, 39, tzinfo=datetime.timezone(datetime.timedelta(seconds=3600)))}]}]\n"
     ]
    }
   ],
   "source": [
    "print(filtered_log)"
   ]
  },
  {
   "cell_type": "code",
   "execution_count": null,
   "id": "8e791fbf",
   "metadata": {},
   "outputs": [],
   "source": []
  }
 ],
 "metadata": {
  "kernelspec": {
   "display_name": "Python 3 (ipykernel)",
   "language": "python",
   "name": "python3"
  },
  "language_info": {
   "codemirror_mode": {
    "name": "ipython",
    "version": 3
   },
   "file_extension": ".py",
   "mimetype": "text/x-python",
   "name": "python",
   "nbconvert_exporter": "python",
   "pygments_lexer": "ipython3",
   "version": "3.9.7"
  },
  "vscode": {
   "interpreter": {
    "hash": "05d4b7c3cd0aad81aa9df4db91d3eeeb2841d831664bc3cb6ce2ef5b755f059a"
   }
  }
 },
 "nbformat": 4,
 "nbformat_minor": 5
}
