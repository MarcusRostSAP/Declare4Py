{
 "cells": [
  {
   "cell_type": "markdown",
   "id": "5279e90c",
   "metadata": {},
   "source": [
    "# Retrieve Simple Log Information with Declare4Py\n",
    "\n",
    "This tutorial will go through the steps necessary to perform a simple analysis of logs with the Declare4Py library.\n",
    "## Instantiation and simple Utility Functions\n",
    "\n",
    "Necessary for this tutorial is the `src.declare4py.d4py_event_log.D4PyEventLog` class that contains all the methods for the analysis. For this reason we import `D4PyEventLog` from the `src.declare4py.d4py_event_log` package and the `os` package of python. Then set the path of the log, and instantiate an object of the `D4PyEventLog` class."
   ]
  },
  {
   "cell_type": "code",
   "execution_count": null,
   "id": "8b6c9e04",
   "metadata": {},
   "outputs": [],
   "source": [
    "import sys\n",
    "import os\n",
    "import pathlib\n",
    "\n",
    "SCRIPT_DIR = pathlib.Path(\"..\", \"src\").resolve()\n",
    "sys.path.append(os.path.dirname(SCRIPT_DIR))\n",
    "\n",
    "from src.declare4py.d4py_event_log import D4PyEventLog\n",
    "\n",
    "log_path = os.path.join(\"..\", \"tests\", \"Sepsis Cases.xes.gz\")\n",
    "\n",
    "event_log = D4PyEventLog()"
   ]
  },
  {
   "cell_type": "markdown",
   "id": "1225a100",
   "metadata": {},
   "source": [
    "The next step is the parsing of the log with the `parse_xes_log` function. Logs can be passed both in the `.xes` or `xes.gz` formats. \n",
    "<br> At the moment we are using the `.xes` parser of PM4PY, which might change in the future. "
   ]
  },
  {
   "cell_type": "code",
   "execution_count": null,
   "id": "e5ae55fa",
   "metadata": {},
   "outputs": [],
   "source": [
    "# Parses a xes log to EventLog\n",
    "event_log.parse_xes_log(log_path)"
   ]
  },
  {
   "cell_type": "markdown",
   "id": "0eb4454a",
   "metadata": {},
   "source": [
    "The `event_log` object holds the parsed log, length of the log, frequent set of items and a binary encoding of the log. The last two attributes will be explained in a later paragraph.\n",
    "\n",
    "Once the log has been successfully parsed, we can get the log itself, its length and the ids of the cases."
   ]
  },
  {
   "cell_type": "code",
   "execution_count": null,
   "id": "def7e392",
   "metadata": {},
   "outputs": [],
   "source": [
    "# Print the parsed log\n",
    "print(\"This is the log:\")\n",
    "print(event_log.get_log())\n",
    "print(\"--------------------------------------\")\n",
    "\n",
    "# Print the number of cases in the log\n",
    "print(\"Number of cases:\")\n",
    "print(event_log.get_length())\n",
    "print(\"--------------------------------------\")\n",
    "\n",
    "# Print the ids of the cases\n",
    "print(\"Cases ids:\")\n",
    "print(event_log.get_trace_keys())\n",
    "print(\"--------------------------------------\")"
   ]
  },
  {
   "cell_type": "markdown",
   "id": "de73d7b9",
   "metadata": {},
   "source": [
    "A useful utility function is: `get_log_alphabet_attribute` for retrieving all the values of an attribute in a log."
   ]
  },
  {
   "cell_type": "code",
   "execution_count": null,
   "id": "b6a939e5",
   "metadata": {},
   "outputs": [],
   "source": [
    "# Print the set of resources that are in the log\n",
    "print(\"Resources names:\")\n",
    "print(event_log.get_log_alphabet_attribute('org:group'))\n",
    "print(\"--------------------------------------\")\n",
    "\n",
    "# Print the set of activities that are in the log\n",
    "print(\"Activity names:\")\n",
    "print(event_log.get_log_alphabet_attribute('concept:name'))\n",
    "print(\"--------------------------------------\")"
   ]
  },
  {
   "cell_type": "markdown",
   "id": "8e42a7ae",
   "metadata": {},
   "source": [
    "A log is a complex data structure that can be explored along several dimensions. The function `attribute_log_projection` projects the cases in the log according to the given input attribute. A projection is a list (the log) of lists (the single cases) containing the value of the attribute."
   ]
  },
  {
   "cell_type": "code",
   "execution_count": null,
   "id": "77896ad0",
   "metadata": {
    "scrolled": false
   },
   "outputs": [],
   "source": [
    "# Activity projection\n",
    "for idx, trace in enumerate(event_log.attribute_log_projection(\"concept:name\")):\n",
    "    print(f\"{idx}- {trace}\")\n",
    "print(\"--------------------------------------\")\n",
    "\n",
    "# Resource projection\n",
    "for idx, trace in enumerate(event_log.attribute_log_projection(\"org:group\")):\n",
    "    print(f\"{idx}- {trace}\")\n",
    "print(\"--------------------------------------\")"
   ]
  },
  {
   "cell_type": "markdown",
   "id": "b617ba75",
   "metadata": {},
   "source": [
    "## Frequent Itemsets\n",
    "\n",
    "`D4PyEventLog` offers support for computing the frequent itemsets of activities/resources in the log. The function `compute_frequent_itemsets` takes as input the `min_support` of the itemsets, the name of the case id attribute, a list with the names of the attributes you want to discover the itemsets, the `algorithm` to perform the computation (available `fpgrowth` and `apriori`) and `len_itemset` indicating the maximum length of the itemsets, the default is `None`."
   ]
  },
  {
   "cell_type": "code",
   "execution_count": null,
   "id": "f4825aa3",
   "metadata": {},
   "outputs": [],
   "source": [
    "frequent_itemsets = event_log.compute_frequent_itemsets(min_support=0.8, case_id_col='case:concept:name', categorical_attributes=['concept:name'], algorithm='fpgrowth', len_itemset=3)\n",
    "frequent_itemsets"
   ]
  }
 ],
 "metadata": {
  "kernelspec": {
   "display_name": "Python 3 (ipykernel)",
   "language": "python",
   "name": "python3"
  },
  "language_info": {
   "codemirror_mode": {
    "name": "ipython",
    "version": 3
   },
   "file_extension": ".py",
   "mimetype": "text/x-python",
   "name": "python",
   "nbconvert_exporter": "python",
   "pygments_lexer": "ipython3",
   "version": "3.9.7"
  },
  "vscode": {
   "interpreter": {
    "hash": "05d4b7c3cd0aad81aa9df4db91d3eeeb2841d831664bc3cb6ce2ef5b755f059a"
   }
  }
 },
 "nbformat": 4,
 "nbformat_minor": 5
}
