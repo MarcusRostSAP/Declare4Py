{
 "cells": [
  {
   "cell_type": "markdown",
   "id": "5279e90c",
   "metadata": {},
   "source": [
    "# Retrieve Simple Log Information with Declare4Py\n",
    "\n",
    "This tutorial will go through the steps necessary to perform a simple analysis of logs with the Declare4Py library.\n",
    "## Instantiation and simple Utility Functions\n",
    "\n",
    "Necessary for this tutorial is the `src.declare4py.d4py_event_log.D4PyEventLog` class that contains all the methods for the analysis. For this reason we import `D4PyEventLog` from the `src.declare4py.d4py_event_log` package and the `os` package of python. Then set the path of the log, and instantiate an object of the `D4PyEventLog` class. You have to provide the activity name attribute for the log, the default is `concept:name`."
   ]
  },
  {
   "cell_type": "code",
   "execution_count": 1,
   "id": "8b6c9e04",
   "metadata": {},
   "outputs": [],
   "source": [
    "import sys\n",
    "import os\n",
    "import pathlib\n",
    "\n",
    "SCRIPT_DIR = pathlib.Path(\"..\", \"src\").resolve()\n",
    "sys.path.append(os.path.dirname(SCRIPT_DIR))\n",
    "\n",
    "from src.declare4py.D4PyEventLog import D4PyEventLog\n",
    "\n",
    "log_path = os.path.join(\"..\", \"tests\", \"Sepsis Cases.xes.gz\")\n",
    "\n",
    "event_log: D4PyEventLog = D4PyEventLog(concept_name=\"concept:name\")"
   ]
  },
  {
   "cell_type": "markdown",
   "id": "1225a100",
   "metadata": {},
   "source": [
    "The next step is the parsing of the log with the `parse_xes_log` function. Logs can be passed both in the `.xes` or `xes.gz` formats. \n",
    "<br> At the moment we are using the `.xes` parser of PM4PY, which might change in the future. "
   ]
  },
  {
   "cell_type": "code",
   "execution_count": 10,
   "id": "e5ae55fa",
   "metadata": {},
   "outputs": [
    {
     "data": {
      "application/vnd.jupyter.widget-view+json": {
       "model_id": "9e8eabde74a74ddd929f270a6a898103",
       "version_major": 2,
       "version_minor": 0
      },
      "text/plain": [
       "parsing log, completed traces ::   0%|          | 0/1050 [00:00<?, ?it/s]"
      ]
     },
     "metadata": {},
     "output_type": "display_data"
    }
   ],
   "source": [
    "# Parses a xes log to EventLog\n",
    "event_log.parse_xes_log(log_path)"
   ]
  },
  {
   "cell_type": "markdown",
   "id": "0eb4454a",
   "metadata": {},
   "source": [
    "The `event_log` object holds the parsed log, length of the log, frequent set of items and a binary encoding of the log. The last two attributes will be explained in a later paragraph.\n",
    "\n",
    "Once the log has been successfully parsed, we can get the log itself and its length."
   ]
  },
  {
   "cell_type": "code",
   "execution_count": 11,
   "id": "def7e392",
   "metadata": {},
   "outputs": [
    {
     "name": "stdout",
     "output_type": "stream",
     "text": [
      "This is the log:\n",
      "[{'attributes': {'concept:name': 'A'}, 'events': [{'InfectionSuspected': True, 'org:group': 'A', 'DiagnosticBlood': True, 'DisfuncOrg': True, 'SIRSCritTachypnea': True, 'Hypotensie': True, 'SIRSCritHeartRate': True, 'Infusion': True, 'DiagnosticArtAstrup': True, 'concept:name': 'ER Registration', 'Age': 85, 'DiagnosticIC': True, 'DiagnosticSputum': False, 'DiagnosticLiquor': False, 'DiagnosticOther': False, 'SIRSCriteria2OrMore': True, 'DiagnosticXthorax': True, 'SIRSCritTemperature': True, 'time:timestamp': datetime.datetime(2014, 10, 22, 11, 15, 41, tzinfo=datetime.timezone(datetime.timedelta(seconds=7200))), 'DiagnosticUrinaryCulture': True, 'SIRSCritLeucos': False, 'Oligurie': False, 'DiagnosticLacticAcid': True, 'lifecycle:transition': 'complete', 'Diagnose': 'A', 'Hypoxie': False, 'DiagnosticUrinarySediment': True, 'DiagnosticECG': True}, '..', {'org:group': 'E', 'lifecycle:transition': 'complete', 'concept:name': 'Release A', 'time:timestamp': datetime.datetime(2014, 11, 2, 15, 15, tzinfo=datetime.timezone(datetime.timedelta(seconds=3600)))}]}, '....', {'attributes': {'concept:name': 'LNA'}, 'events': [{'InfectionSuspected': False, 'org:group': 'L', 'DiagnosticBlood': False, 'DisfuncOrg': False, 'SIRSCritTachypnea': False, 'Hypotensie': False, 'SIRSCritHeartRate': False, 'Infusion': False, 'DiagnosticArtAstrup': False, 'concept:name': 'ER Registration', 'Age': 50, 'DiagnosticIC': False, 'DiagnosticSputum': False, 'DiagnosticLiquor': False, 'DiagnosticOther': False, 'SIRSCriteria2OrMore': False, 'DiagnosticXthorax': False, 'SIRSCritTemperature': False, 'time:timestamp': datetime.datetime(2014, 12, 3, 10, 50, 28, tzinfo=datetime.timezone(datetime.timedelta(seconds=3600))), 'DiagnosticUrinaryCulture': False, 'SIRSCritLeucos': False, 'Oligurie': False, 'DiagnosticLacticAcid': False, 'lifecycle:transition': 'complete', 'Hypoxie': False, 'DiagnosticUrinarySediment': False, 'DiagnosticECG': False}, '..', {'org:group': 'L', 'lifecycle:transition': 'complete', 'concept:name': 'ER Sepsis Triage', 'time:timestamp': datetime.datetime(2014, 12, 3, 10, 54, 39, tzinfo=datetime.timezone(datetime.timedelta(seconds=3600)))}]}]\n",
      "--------------------------------------\n",
      "Number of cases:\n",
      "1050\n"
     ]
    }
   ],
   "source": [
    "# Print the parsed log\n",
    "print(\"This is the log:\")\n",
    "print(event_log.get_log())\n",
    "print(\"--------------------------------------\")\n",
    "\n",
    "# Print the number of cases in the log\n",
    "print(\"Number of cases:\")\n",
    "print(event_log.get_length())"
   ]
  },
  {
   "cell_type": "markdown",
   "id": "d91ab132",
   "metadata": {},
   "source": [
    "The `get_trace` function returns a trace given a numeric index."
   ]
  },
  {
   "cell_type": "code",
   "execution_count": 12,
   "id": "3c01ba4c",
   "metadata": {},
   "outputs": [
    {
     "data": {
      "text/plain": [
       "{'attributes': {'concept:name': 'D'}, 'events': [{'InfectionSuspected': True, 'org:group': 'A', 'DiagnosticBlood': True, 'DisfuncOrg': False, 'SIRSCritTachypnea': True, 'Hypotensie': False, 'SIRSCritHeartRate': True, 'Infusion': True, 'DiagnosticArtAstrup': True, 'concept:name': 'ER Registration', 'Age': 70, 'DiagnosticIC': True, 'DiagnosticSputum': False, 'DiagnosticLiquor': False, 'DiagnosticOther': False, 'SIRSCriteria2OrMore': True, 'DiagnosticXthorax': True, 'SIRSCritTemperature': True, 'time:timestamp': datetime.datetime(2014, 7, 10, 11, 52, tzinfo=datetime.timezone(datetime.timedelta(seconds=7200))), 'DiagnosticUrinaryCulture': False, 'SIRSCritLeucos': False, 'Oligurie': False, 'DiagnosticLacticAcid': True, 'lifecycle:transition': 'complete', 'Diagnose': 'D', 'Hypoxie': False, 'DiagnosticUrinarySediment': False, 'DiagnosticECG': True}, '..', {'org:group': '?', 'lifecycle:transition': 'complete', 'concept:name': 'Return ER', 'time:timestamp': datetime.datetime(2014, 7, 28, 17, 36, 41, tzinfo=datetime.timezone(datetime.timedelta(seconds=7200)))}]}"
      ]
     },
     "execution_count": 12,
     "metadata": {},
     "output_type": "execute_result"
    }
   ],
   "source": [
    "event_log.get_trace(3)"
   ]
  },
  {
   "cell_type": "markdown",
   "id": "de73d7b9",
   "metadata": {},
   "source": [
    "A useful utility function is: `get_log_alphabet_attribute` for retrieving all the values of an attribute in a log."
   ]
  },
  {
   "cell_type": "code",
   "execution_count": 13,
   "id": "b6a939e5",
   "metadata": {},
   "outputs": [
    {
     "name": "stdout",
     "output_type": "stream",
     "text": [
      "Resources names:\n",
      "['M', 'N', 'F', 'B', 'I', 'A', 'R', 'W', 'X', 'Q', 'J', 'V', 'C', 'L', 'H', 'K', '?', 'T', 'O', 'P', 'S', 'G', 'E', 'Y', 'U', 'D']\n",
      "--------------------------------------\n",
      "Activity names:\n",
      "['ER Registration', 'Return ER', 'Release D', 'Admission NC', 'ER Triage', 'LacticAcid', 'Release E', 'CRP', 'Admission IC', 'Release B', 'Release A', 'IV Antibiotics', 'ER Sepsis Triage', 'IV Liquid', 'Leucocytes', 'Release C']\n",
      "--------------------------------------\n"
     ]
    }
   ],
   "source": [
    "# Print the set of resources that are in the log\n",
    "print(\"Resources names:\")\n",
    "print(event_log.get_log_alphabet_attribute('org:group'))\n",
    "print(\"--------------------------------------\")\n",
    "\n",
    "# Print the set of activities that are in the log\n",
    "print(\"Activity names:\")\n",
    "print(event_log.get_log_alphabet_attribute('concept:name'))\n",
    "print(\"--------------------------------------\")"
   ]
  },
  {
   "cell_type": "markdown",
   "id": "8e42a7ae",
   "metadata": {},
   "source": [
    "A log is a complex data structure that can be explored along several dimensions. The function `attribute_log_projection` projects the cases in the log according to the given input attribute. A projection is a list (the log) of lists (the single cases) containing the value of the attribute."
   ]
  },
  {
   "cell_type": "code",
   "execution_count": null,
   "id": "77896ad0",
   "metadata": {
    "scrolled": false
   },
   "outputs": [],
   "source": [
    "# Activity projection\n",
    "for idx, trace in enumerate(event_log.attribute_log_projection(\"concept:name\")):\n",
    "    print(f\"{idx}- {trace}\")\n",
    "print(\"--------------------------------------\")\n",
    "\n",
    "# Resource projection\n",
    "for idx, trace in enumerate(event_log.attribute_log_projection(\"org:group\")):\n",
    "    print(f\"{idx}- {trace}\")"
   ]
  },
  {
   "cell_type": "markdown",
   "id": "b617ba75",
   "metadata": {},
   "source": [
    "## Frequent Itemsets\n",
    "\n",
    "`D4PyEventLog` offers support for computing the frequent itemsets of activities/resources in the log. The function `compute_frequent_itemsets` takes as input the `min_support` of the itemsets, the name of the case id attribute, a list with the names of the attributes you want to discover the itemsets, the `algorithm` to perform the computation (available `fpgrowth` and `apriori`) and `len_itemset` indicating the maximum length of the itemsets, the default is `None`."
   ]
  },
  {
   "cell_type": "code",
   "execution_count": 15,
   "id": "f4825aa3",
   "metadata": {},
   "outputs": [
    {
     "name": "stderr",
     "output_type": "stream",
     "text": [
      "/Users/ivan/opt/anaconda3/lib/python3.9/site-packages/mlxtend/frequent_patterns/fpcommon.py:111: DeprecationWarning: DataFrames with non-bool types result in worse computationalperformance and their support might be discontinued in the future.Please use a DataFrame with bool type\n",
      "  warnings.warn(\n"
     ]
    },
    {
     "data": {
      "text/html": [
       "<div>\n",
       "<style scoped>\n",
       "    .dataframe tbody tr th:only-of-type {\n",
       "        vertical-align: middle;\n",
       "    }\n",
       "\n",
       "    .dataframe tbody tr th {\n",
       "        vertical-align: top;\n",
       "    }\n",
       "\n",
       "    .dataframe thead th {\n",
       "        text-align: right;\n",
       "    }\n",
       "</style>\n",
       "<table border=\"1\" class=\"dataframe\">\n",
       "  <thead>\n",
       "    <tr style=\"text-align: right;\">\n",
       "      <th></th>\n",
       "      <th>support</th>\n",
       "      <th>itemsets</th>\n",
       "      <th>length</th>\n",
       "    </tr>\n",
       "  </thead>\n",
       "  <tbody>\n",
       "    <tr>\n",
       "      <th>0</th>\n",
       "      <td>1.000000</td>\n",
       "      <td>(concept:name_ER Triage)</td>\n",
       "      <td>1</td>\n",
       "    </tr>\n",
       "    <tr>\n",
       "      <th>1</th>\n",
       "      <td>1.000000</td>\n",
       "      <td>(concept:name_ER Registration)</td>\n",
       "      <td>1</td>\n",
       "    </tr>\n",
       "    <tr>\n",
       "      <th>2</th>\n",
       "      <td>0.999048</td>\n",
       "      <td>(concept:name_ER Sepsis Triage)</td>\n",
       "      <td>1</td>\n",
       "    </tr>\n",
       "    <tr>\n",
       "      <th>3</th>\n",
       "      <td>0.963810</td>\n",
       "      <td>(concept:name_Leucocytes)</td>\n",
       "      <td>1</td>\n",
       "    </tr>\n",
       "    <tr>\n",
       "      <th>4</th>\n",
       "      <td>0.959048</td>\n",
       "      <td>(concept:name_CRP)</td>\n",
       "      <td>1</td>\n",
       "    </tr>\n",
       "    <tr>\n",
       "      <th>5</th>\n",
       "      <td>0.819048</td>\n",
       "      <td>(concept:name_LacticAcid)</td>\n",
       "      <td>1</td>\n",
       "    </tr>\n",
       "    <tr>\n",
       "      <th>6</th>\n",
       "      <td>1.000000</td>\n",
       "      <td>(concept:name_ER Triage, concept:name_ER Regis...</td>\n",
       "      <td>2</td>\n",
       "    </tr>\n",
       "    <tr>\n",
       "      <th>7</th>\n",
       "      <td>0.999048</td>\n",
       "      <td>(concept:name_ER Registration, concept:name_ER...</td>\n",
       "      <td>2</td>\n",
       "    </tr>\n",
       "    <tr>\n",
       "      <th>8</th>\n",
       "      <td>0.999048</td>\n",
       "      <td>(concept:name_ER Triage, concept:name_ER Sepsi...</td>\n",
       "      <td>2</td>\n",
       "    </tr>\n",
       "    <tr>\n",
       "      <th>9</th>\n",
       "      <td>0.999048</td>\n",
       "      <td>(concept:name_ER Triage, concept:name_ER Regis...</td>\n",
       "      <td>3</td>\n",
       "    </tr>\n",
       "    <tr>\n",
       "      <th>10</th>\n",
       "      <td>0.963810</td>\n",
       "      <td>(concept:name_Leucocytes, concept:name_ER Regi...</td>\n",
       "      <td>2</td>\n",
       "    </tr>\n",
       "    <tr>\n",
       "      <th>11</th>\n",
       "      <td>0.963810</td>\n",
       "      <td>(concept:name_ER Triage, concept:name_Leucocytes)</td>\n",
       "      <td>2</td>\n",
       "    </tr>\n",
       "    <tr>\n",
       "      <th>12</th>\n",
       "      <td>0.962857</td>\n",
       "      <td>(concept:name_Leucocytes, concept:name_ER Seps...</td>\n",
       "      <td>2</td>\n",
       "    </tr>\n",
       "    <tr>\n",
       "      <th>13</th>\n",
       "      <td>0.963810</td>\n",
       "      <td>(concept:name_ER Triage, concept:name_Leucocyt...</td>\n",
       "      <td>3</td>\n",
       "    </tr>\n",
       "    <tr>\n",
       "      <th>14</th>\n",
       "      <td>0.962857</td>\n",
       "      <td>(concept:name_Leucocytes, concept:name_ER Regi...</td>\n",
       "      <td>3</td>\n",
       "    </tr>\n",
       "    <tr>\n",
       "      <th>15</th>\n",
       "      <td>0.962857</td>\n",
       "      <td>(concept:name_ER Triage, concept:name_Leucocyt...</td>\n",
       "      <td>3</td>\n",
       "    </tr>\n",
       "    <tr>\n",
       "      <th>17</th>\n",
       "      <td>0.959048</td>\n",
       "      <td>(concept:name_CRP, concept:name_ER Registration)</td>\n",
       "      <td>2</td>\n",
       "    </tr>\n",
       "    <tr>\n",
       "      <th>18</th>\n",
       "      <td>0.959048</td>\n",
       "      <td>(concept:name_CRP, concept:name_ER Triage)</td>\n",
       "      <td>2</td>\n",
       "    </tr>\n",
       "    <tr>\n",
       "      <th>19</th>\n",
       "      <td>0.958095</td>\n",
       "      <td>(concept:name_CRP, concept:name_Leucocytes)</td>\n",
       "      <td>2</td>\n",
       "    </tr>\n",
       "    <tr>\n",
       "      <th>20</th>\n",
       "      <td>0.958095</td>\n",
       "      <td>(concept:name_CRP, concept:name_ER Sepsis Triage)</td>\n",
       "      <td>2</td>\n",
       "    </tr>\n",
       "    <tr>\n",
       "      <th>21</th>\n",
       "      <td>0.959048</td>\n",
       "      <td>(concept:name_CRP, concept:name_ER Registratio...</td>\n",
       "      <td>3</td>\n",
       "    </tr>\n",
       "    <tr>\n",
       "      <th>22</th>\n",
       "      <td>0.958095</td>\n",
       "      <td>(concept:name_CRP, concept:name_Leucocytes, co...</td>\n",
       "      <td>3</td>\n",
       "    </tr>\n",
       "    <tr>\n",
       "      <th>23</th>\n",
       "      <td>0.958095</td>\n",
       "      <td>(concept:name_CRP, concept:name_Leucocytes, co...</td>\n",
       "      <td>3</td>\n",
       "    </tr>\n",
       "    <tr>\n",
       "      <th>25</th>\n",
       "      <td>0.958095</td>\n",
       "      <td>(concept:name_CRP, concept:name_ER Triage, con...</td>\n",
       "      <td>3</td>\n",
       "    </tr>\n",
       "    <tr>\n",
       "      <th>26</th>\n",
       "      <td>0.958095</td>\n",
       "      <td>(concept:name_CRP, concept:name_ER Registratio...</td>\n",
       "      <td>3</td>\n",
       "    </tr>\n",
       "    <tr>\n",
       "      <th>27</th>\n",
       "      <td>0.957143</td>\n",
       "      <td>(concept:name_CRP, concept:name_Leucocytes, co...</td>\n",
       "      <td>3</td>\n",
       "    </tr>\n",
       "    <tr>\n",
       "      <th>32</th>\n",
       "      <td>0.819048</td>\n",
       "      <td>(concept:name_LacticAcid, concept:name_CRP)</td>\n",
       "      <td>2</td>\n",
       "    </tr>\n",
       "    <tr>\n",
       "      <th>33</th>\n",
       "      <td>0.819048</td>\n",
       "      <td>(concept:name_LacticAcid, concept:name_Leucocy...</td>\n",
       "      <td>2</td>\n",
       "    </tr>\n",
       "    <tr>\n",
       "      <th>34</th>\n",
       "      <td>0.819048</td>\n",
       "      <td>(concept:name_LacticAcid, concept:name_ER Regi...</td>\n",
       "      <td>2</td>\n",
       "    </tr>\n",
       "    <tr>\n",
       "      <th>35</th>\n",
       "      <td>0.819048</td>\n",
       "      <td>(concept:name_LacticAcid, concept:name_ER Triage)</td>\n",
       "      <td>2</td>\n",
       "    </tr>\n",
       "    <tr>\n",
       "      <th>36</th>\n",
       "      <td>0.818095</td>\n",
       "      <td>(concept:name_LacticAcid, concept:name_ER Seps...</td>\n",
       "      <td>2</td>\n",
       "    </tr>\n",
       "    <tr>\n",
       "      <th>37</th>\n",
       "      <td>0.819048</td>\n",
       "      <td>(concept:name_LacticAcid, concept:name_CRP, co...</td>\n",
       "      <td>3</td>\n",
       "    </tr>\n",
       "    <tr>\n",
       "      <th>38</th>\n",
       "      <td>0.819048</td>\n",
       "      <td>(concept:name_LacticAcid, concept:name_CRP, co...</td>\n",
       "      <td>3</td>\n",
       "    </tr>\n",
       "    <tr>\n",
       "      <th>39</th>\n",
       "      <td>0.819048</td>\n",
       "      <td>(concept:name_LacticAcid, concept:name_CRP, co...</td>\n",
       "      <td>3</td>\n",
       "    </tr>\n",
       "    <tr>\n",
       "      <th>40</th>\n",
       "      <td>0.818095</td>\n",
       "      <td>(concept:name_LacticAcid, concept:name_CRP, co...</td>\n",
       "      <td>3</td>\n",
       "    </tr>\n",
       "    <tr>\n",
       "      <th>41</th>\n",
       "      <td>0.819048</td>\n",
       "      <td>(concept:name_LacticAcid, concept:name_Leucocy...</td>\n",
       "      <td>3</td>\n",
       "    </tr>\n",
       "    <tr>\n",
       "      <th>42</th>\n",
       "      <td>0.819048</td>\n",
       "      <td>(concept:name_LacticAcid, concept:name_ER Tria...</td>\n",
       "      <td>3</td>\n",
       "    </tr>\n",
       "    <tr>\n",
       "      <th>43</th>\n",
       "      <td>0.818095</td>\n",
       "      <td>(concept:name_LacticAcid, concept:name_Leucocy...</td>\n",
       "      <td>3</td>\n",
       "    </tr>\n",
       "    <tr>\n",
       "      <th>44</th>\n",
       "      <td>0.819048</td>\n",
       "      <td>(concept:name_LacticAcid, concept:name_ER Tria...</td>\n",
       "      <td>3</td>\n",
       "    </tr>\n",
       "    <tr>\n",
       "      <th>45</th>\n",
       "      <td>0.818095</td>\n",
       "      <td>(concept:name_LacticAcid, concept:name_ER Regi...</td>\n",
       "      <td>3</td>\n",
       "    </tr>\n",
       "    <tr>\n",
       "      <th>46</th>\n",
       "      <td>0.818095</td>\n",
       "      <td>(concept:name_LacticAcid, concept:name_ER Tria...</td>\n",
       "      <td>3</td>\n",
       "    </tr>\n",
       "  </tbody>\n",
       "</table>\n",
       "</div>"
      ],
      "text/plain": [
       "     support                                           itemsets  length\n",
       "0   1.000000                           (concept:name_ER Triage)       1\n",
       "1   1.000000                     (concept:name_ER Registration)       1\n",
       "2   0.999048                    (concept:name_ER Sepsis Triage)       1\n",
       "3   0.963810                          (concept:name_Leucocytes)       1\n",
       "4   0.959048                                 (concept:name_CRP)       1\n",
       "5   0.819048                          (concept:name_LacticAcid)       1\n",
       "6   1.000000  (concept:name_ER Triage, concept:name_ER Regis...       2\n",
       "7   0.999048  (concept:name_ER Registration, concept:name_ER...       2\n",
       "8   0.999048  (concept:name_ER Triage, concept:name_ER Sepsi...       2\n",
       "9   0.999048  (concept:name_ER Triage, concept:name_ER Regis...       3\n",
       "10  0.963810  (concept:name_Leucocytes, concept:name_ER Regi...       2\n",
       "11  0.963810  (concept:name_ER Triage, concept:name_Leucocytes)       2\n",
       "12  0.962857  (concept:name_Leucocytes, concept:name_ER Seps...       2\n",
       "13  0.963810  (concept:name_ER Triage, concept:name_Leucocyt...       3\n",
       "14  0.962857  (concept:name_Leucocytes, concept:name_ER Regi...       3\n",
       "15  0.962857  (concept:name_ER Triage, concept:name_Leucocyt...       3\n",
       "17  0.959048   (concept:name_CRP, concept:name_ER Registration)       2\n",
       "18  0.959048         (concept:name_CRP, concept:name_ER Triage)       2\n",
       "19  0.958095        (concept:name_CRP, concept:name_Leucocytes)       2\n",
       "20  0.958095  (concept:name_CRP, concept:name_ER Sepsis Triage)       2\n",
       "21  0.959048  (concept:name_CRP, concept:name_ER Registratio...       3\n",
       "22  0.958095  (concept:name_CRP, concept:name_Leucocytes, co...       3\n",
       "23  0.958095  (concept:name_CRP, concept:name_Leucocytes, co...       3\n",
       "25  0.958095  (concept:name_CRP, concept:name_ER Triage, con...       3\n",
       "26  0.958095  (concept:name_CRP, concept:name_ER Registratio...       3\n",
       "27  0.957143  (concept:name_CRP, concept:name_Leucocytes, co...       3\n",
       "32  0.819048        (concept:name_LacticAcid, concept:name_CRP)       2\n",
       "33  0.819048  (concept:name_LacticAcid, concept:name_Leucocy...       2\n",
       "34  0.819048  (concept:name_LacticAcid, concept:name_ER Regi...       2\n",
       "35  0.819048  (concept:name_LacticAcid, concept:name_ER Triage)       2\n",
       "36  0.818095  (concept:name_LacticAcid, concept:name_ER Seps...       2\n",
       "37  0.819048  (concept:name_LacticAcid, concept:name_CRP, co...       3\n",
       "38  0.819048  (concept:name_LacticAcid, concept:name_CRP, co...       3\n",
       "39  0.819048  (concept:name_LacticAcid, concept:name_CRP, co...       3\n",
       "40  0.818095  (concept:name_LacticAcid, concept:name_CRP, co...       3\n",
       "41  0.819048  (concept:name_LacticAcid, concept:name_Leucocy...       3\n",
       "42  0.819048  (concept:name_LacticAcid, concept:name_ER Tria...       3\n",
       "43  0.818095  (concept:name_LacticAcid, concept:name_Leucocy...       3\n",
       "44  0.819048  (concept:name_LacticAcid, concept:name_ER Tria...       3\n",
       "45  0.818095  (concept:name_LacticAcid, concept:name_ER Regi...       3\n",
       "46  0.818095  (concept:name_LacticAcid, concept:name_ER Tria...       3"
      ]
     },
     "execution_count": 15,
     "metadata": {},
     "output_type": "execute_result"
    }
   ],
   "source": [
    "frequent_itemsets = event_log.compute_frequent_itemsets(min_support=0.8, case_id_col='case:concept:name', categorical_attributes=['concept:name'], algorithm='fpgrowth', len_itemset=3)\n",
    "frequent_itemsets"
   ]
  },
  {
   "cell_type": "code",
   "execution_count": null,
   "id": "46071b9c",
   "metadata": {},
   "outputs": [],
   "source": []
  }
 ],
 "metadata": {
  "kernelspec": {
   "display_name": "Python 3 (ipykernel)",
   "language": "python",
   "name": "python3"
  },
  "language_info": {
   "codemirror_mode": {
    "name": "ipython",
    "version": 3
   },
   "file_extension": ".py",
   "mimetype": "text/x-python",
   "name": "python",
   "nbconvert_exporter": "python",
   "pygments_lexer": "ipython3",
   "version": "3.9.7"
  },
  "vscode": {
   "interpreter": {
    "hash": "05d4b7c3cd0aad81aa9df4db91d3eeeb2841d831664bc3cb6ce2ef5b755f059a"
   }
  }
 },
 "nbformat": 4,
 "nbformat_minor": 5
}
