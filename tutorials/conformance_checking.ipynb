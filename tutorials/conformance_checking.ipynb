{
 "cells": [
  {
   "cell_type": "markdown",
   "id": "5279e90c",
   "metadata": {},
   "source": [
    "# Conformance Checking in Declare4Py\n",
    "\n",
    "This tutorial explains how to perform the checking of a DECLARE model and how to browse the results."
   ]
  },
  {
   "cell_type": "code",
   "execution_count": 1,
   "id": "2fce2210",
   "metadata": {},
   "outputs": [],
   "source": [
    "import sys\n",
    "import os\n",
    "import pathlib\n",
    "\n",
    "SCRIPT_DIR = pathlib.Path(\"..\", \"src\").resolve()\n",
    "sys.path.append(os.path.dirname(SCRIPT_DIR))\n",
    "\n",
    "from src.declare4py.d4py_event_log import D4PyEventLog\n",
    "from src.declare4py.process_models.decl_model import DeclModel\n",
    "from src.declare4py.process_models.decl_model import DeclareModelTemplate"
   ]
  },
  {
   "cell_type": "markdown",
   "id": "b22cdbd3",
   "metadata": {},
   "source": [
    "The DECLARE constraints supported by Declare4Py can be retrieved with the `get_unary_templates()` and `get_binary_templates` functions of the `DeclareModelTemplate` class:"
   ]
  },
  {
   "cell_type": "code",
   "execution_count": 2,
   "id": "adb90596",
   "metadata": {},
   "outputs": [
    {
     "name": "stdout",
     "output_type": "stream",
     "text": [
      "Unary templates:\n",
      "-----------------\n",
      "Existence\n",
      "Absence\n",
      "Exactly\n",
      "Init\n",
      "\n",
      "\n",
      "Binary templates:\n",
      "-----------------\n",
      "Choice\n",
      "Exclusive Choice\n",
      "Responded Existence\n",
      "Response\n",
      "Alternate Response\n",
      "Chain Response\n",
      "Precedence\n",
      "Alternate Precedence\n",
      "Chain Precedence\n",
      "Succession\n",
      "Alternate Succession\n",
      "Co-Existence\n",
      "Chain Succession\n",
      "Not Chain Succession\n",
      "Not Co-Existence\n",
      "Not Succession\n",
      "Not Responded Existence\n",
      "Not Response\n",
      "Not Precedence\n",
      "Not Chain Response\n",
      "Not Chain Precedence\n"
     ]
    }
   ],
   "source": [
    "unary_templates = DeclareModelTemplate.get_unary_templates()\n",
    "binary_templates = DeclareModelTemplate.get_binary_templates()\n",
    "\n",
    "print(\"Unary templates:\")\n",
    "print(\"-----------------\")\n",
    "for template in unary_templates:\n",
    "    print(template.templ_str)\n",
    "print(\"\\n\")\n",
    "\n",
    "print(\"Binary templates:\")\n",
    "print(\"-----------------\")\n",
    "for template in binary_templates:\n",
    "    print(template.templ_str)"
   ]
  },
  {
   "cell_type": "markdown",
   "id": "6f2f5b6f",
   "metadata": {},
   "source": [
    "Notice that for the templates `Existence`, `Absence` and `Exactly` an additional parameter is necessary for the cardinality. This has to be encoded in the DECLARE `.decl` model with a numeric suffix, for example `Exactly2` or `Existence23`.\n",
    "\n",
    "The next step is the parsing of the log and of the DECLARE model."
   ]
  },
  {
   "cell_type": "code",
   "execution_count": 3,
   "id": "cefcfbac",
   "metadata": {},
   "outputs": [
    {
     "data": {
      "application/vnd.jupyter.widget-view+json": {
       "model_id": "4deb5972fc994507aea44f5ed11509eb",
       "version_major": 2,
       "version_minor": 0
      },
      "text/plain": [
       "parsing log, completed traces ::   0%|          | 0/1050 [00:00<?, ?it/s]"
      ]
     },
     "metadata": {},
     "output_type": "display_data"
    }
   ],
   "source": [
    "log_path = os.path.join(\"..\", \"tests\", \"Sepsis Cases.xes.gz\")\n",
    "\n",
    "event_log = D4PyEventLog()\n",
    "event_log.parse_xes_log(log_path)\n",
    "\n",
    "model_path = os.path.join(\"..\", \"tests\", \"resource\", \"files\", \"declare\", \"data_model.decl\")\n",
    "decl_model = DeclModel().parse_from_file(model_path)"
   ]
  },
  {
   "cell_type": "markdown",
   "id": "32fea405",
   "metadata": {},
   "source": [
    "The DECLARE model can be inspected by getting all the activity names or the constraints. This information is returned as a list of strings."
   ]
  },
  {
   "cell_type": "code",
   "execution_count": 4,
   "id": "ea33c883",
   "metadata": {},
   "outputs": [
    {
     "name": "stdout",
     "output_type": "stream",
     "text": [
      "Model activities:\n",
      "-----------------\n",
      "0 ER Triage\n",
      "1 ER Registration\n",
      "2 ER Sepsis Triage\n",
      "3 Leucocytes\n",
      "4 CRP\n",
      "5 LacticAcid\n",
      "6 IV Antibiotics\n",
      "7 Admission NC\n",
      "8 IV Liquid\n",
      "9 Release A\n",
      "10 Return ER\n",
      "11 Admission IC\n",
      "\n",
      "\n",
      "Model constraints:\n",
      "-----------------\n",
      "0 Chain Response[ER Registration, ER Triage] |(A.DiagnosticArtAstrup is false) AND (A.SIRSCritHeartRate is true) AND (A.org:group is A) AND (A.DiagnosticBlood is true) AND (A.DisfuncOrg is false) AND (A.DiagnosticECG is true) AND (A.Age >= 45) AND (A.InfectionSuspected is true) AND (A.DiagnosticLacticAcid is true) AND (A.DiagnosticSputum is true) AND (A.Hypoxie is false) AND (A.DiagnosticUrinaryCulture is true) AND (A.DiagnosticLiquor is false) AND (A.SIRSCritTemperature is true) AND (A.Infusion is true) AND (A.Hypotensie is false) AND (A.DiagnosticUrinarySediment is true) AND (A.Oligurie is false) AND (A.Age <= 80) AND (A.SIRSCritTachypnea is true) AND (A.DiagnosticOther is false) AND (A.SIRSCritLeucos is false) AND (A.DiagnosticIC is true) AND (A.SIRSCriteria2OrMore is true) AND (A.DiagnosticXthorax is true) |T.org:group is C |52,2154,s\n",
      "1 Existence2[Admission NC] | |\n",
      "2 Chain Response[Admission NC, Release B] |A.org:group is K |T.org:group is E |\n",
      "3 Chain Response[Admission NC, Release A] |A.org:group is I |T.org:group is E |133020,957701,s\n",
      "4 Chain Precedence[IV Liquid, Admission NC] |A.org:group is I |T.org:group is A |92,14473,s\n",
      "5 Chain Precedence[Release A, Return ER] |A.org:group is ? |T.org:group is E |1121801,1121801,s\n",
      "6 Chain Precedence[ER Sepsis Triage, IV Antibiotics] |A.org:group is L |T.org:group is L |15,11000,s\n",
      "7 Chain Response[ER Sepsis Triage, IV Antibiotics] |A.org:group is L |T.org:group is L |15,11000,s\n",
      "8 Chain Precedence[Admission IC, Admission NC] |A.org:group is J |T.org:group is J |\n",
      "9 Chain Precedence[IV Antibiotics, Admission NC] |A.org:group is F |T.org:group is A |92,14459,s\n",
      "10 Chain Precedence[Admission NC, Release B] |A.org:group is E |T.org:group is K |48225,48225,s\n",
      "11 Chain Response[Admission IC, Admission NC] |A.org:group is J |T.org:group is J |61534,61534,s\n",
      "12 Chain Response[LacticAcid, Leucocytes] |A.LacticAcid <= 0.8 |T.Leucocytes >= 13.8 |0,2778,m\n",
      "13 Chain Precedence[ER Registration, ER Triage] |A.org:group is C |(T.InfectionSuspected is true) AND (T.SIRSCritTemperature is true) AND (T.DiagnosticLacticAcid is true) AND (T.DiagnosticBlood is true) AND (T.DiagnosticIC is true) AND (T.SIRSCriteria2OrMore is true) AND (T.DiagnosticECG is true) |52,2154,s\n"
     ]
    }
   ],
   "source": [
    "model_activities = decl_model.get_model_activities()\n",
    "model_constraints = decl_model.get_decl_model_constraints()\n",
    "\n",
    "print(\"Model activities:\")\n",
    "print(\"-----------------\")\n",
    "for idx, act in enumerate(model_activities):\n",
    "    print(idx, act)\n",
    "print(\"\\n\")\n",
    "\n",
    "print(\"Model constraints:\")\n",
    "print(\"-----------------\")\n",
    "for idx, constr in enumerate(model_constraints):\n",
    "    print(idx, constr)"
   ]
  },
  {
   "cell_type": "markdown",
   "id": "686322c7",
   "metadata": {},
   "source": [
    "After importing the Declare4Py package and specified the paths of the log and of the DECLARE model, a `BasicMPDeclareConformanceChecking` object has to be instantiated."
   ]
  },
  {
   "cell_type": "code",
   "execution_count": 5,
   "id": "b0b5a40f",
   "metadata": {},
   "outputs": [
    {
     "ename": "KeyError",
     "evalue": "'MPChainResponse'",
     "output_type": "error",
     "traceback": [
      "\u001b[0;31m---------------------------------------------------------------------------\u001b[0m",
      "\u001b[0;31mKeyError\u001b[0m                                  Traceback (most recent call last)",
      "\u001b[0;32m/var/folders/5w/6k152p214xbc6ghcldxtvf2r0000gq/T/ipykernel_54939/1715366910.py\u001b[0m in \u001b[0;36m<module>\u001b[0;34m\u001b[0m\n\u001b[1;32m      4\u001b[0m \u001b[0mbasic_checker\u001b[0m \u001b[0;34m=\u001b[0m \u001b[0mBasicMPDeclareConformanceChecking\u001b[0m\u001b[0;34m(\u001b[0m\u001b[0mconsider_vacuity\u001b[0m\u001b[0;34m=\u001b[0m\u001b[0;32mTrue\u001b[0m\u001b[0;34m,\u001b[0m \u001b[0mlog\u001b[0m\u001b[0;34m=\u001b[0m\u001b[0mevent_log\u001b[0m\u001b[0;34m,\u001b[0m \u001b[0mdeclare_model\u001b[0m\u001b[0;34m=\u001b[0m\u001b[0mdecl_model\u001b[0m\u001b[0;34m)\u001b[0m\u001b[0;34m\u001b[0m\u001b[0;34m\u001b[0m\u001b[0m\n\u001b[1;32m      5\u001b[0m \u001b[0;34m\u001b[0m\u001b[0m\n\u001b[0;32m----> 6\u001b[0;31m \u001b[0mbasic_checker\u001b[0m\u001b[0;34m.\u001b[0m\u001b[0mrun\u001b[0m\u001b[0;34m(\u001b[0m\u001b[0;34m)\u001b[0m\u001b[0;34m\u001b[0m\u001b[0;34m\u001b[0m\u001b[0m\n\u001b[0m",
      "\u001b[0;32m~/PycharmProjects/declare4py-v2.0/src/declare4py/pm_tasks/basic_conformance_checking/basic_mp_declare_conformance_checking.py\u001b[0m in \u001b[0;36mrun\u001b[0;34m(self)\u001b[0m\n\u001b[1;32m     68\u001b[0m \u001b[0;34m\u001b[0m\u001b[0m\n\u001b[1;32m     69\u001b[0m         \u001b[0;32mfor\u001b[0m \u001b[0mi\u001b[0m\u001b[0;34m,\u001b[0m \u001b[0mtrace\u001b[0m \u001b[0;32min\u001b[0m \u001b[0menumerate\u001b[0m\u001b[0;34m(\u001b[0m\u001b[0mself\u001b[0m\u001b[0;34m.\u001b[0m\u001b[0mlog_analyzer\u001b[0m\u001b[0;34m.\u001b[0m\u001b[0mlog\u001b[0m\u001b[0;34m)\u001b[0m\u001b[0;34m:\u001b[0m\u001b[0;34m\u001b[0m\u001b[0;34m\u001b[0m\u001b[0m\n\u001b[0;32m---> 70\u001b[0;31m             \u001b[0mtrc_res\u001b[0m \u001b[0;34m=\u001b[0m \u001b[0mself\u001b[0m\u001b[0;34m.\u001b[0m\u001b[0mconstraint_checker\u001b[0m\u001b[0;34m.\u001b[0m\u001b[0mcheck_trace_conformance\u001b[0m\u001b[0;34m(\u001b[0m\u001b[0mtrace\u001b[0m\u001b[0;34m,\u001b[0m \u001b[0mself\u001b[0m\u001b[0;34m.\u001b[0m\u001b[0mprocess_model\u001b[0m\u001b[0;34m,\u001b[0m \u001b[0mself\u001b[0m\u001b[0;34m.\u001b[0m\u001b[0mconsider_vacuity\u001b[0m\u001b[0;34m)\u001b[0m\u001b[0;34m\u001b[0m\u001b[0;34m\u001b[0m\u001b[0m\n\u001b[0m\u001b[1;32m     71\u001b[0m             \u001b[0;32mimport\u001b[0m \u001b[0mpdb\u001b[0m\u001b[0;34m\u001b[0m\u001b[0;34m\u001b[0m\u001b[0m\n\u001b[1;32m     72\u001b[0m             \u001b[0mpdb\u001b[0m\u001b[0;34m.\u001b[0m\u001b[0mset_trace\u001b[0m\u001b[0;34m(\u001b[0m\u001b[0;34m)\u001b[0m\u001b[0;34m\u001b[0m\u001b[0;34m\u001b[0m\u001b[0m\n",
      "\u001b[0;32m~/PycharmProjects/declare4py-v2.0/src/declare4py/utility/template_checkers/constraint_checker.py\u001b[0m in \u001b[0;36mcheck_trace_conformance\u001b[0;34m(self, trace, p_model, consider_vacuity)\u001b[0m\n\u001b[1;32m     40\u001b[0m             \u001b[0mrules\u001b[0m\u001b[0;34m[\u001b[0m\u001b[0;34m\"time\"\u001b[0m\u001b[0;34m]\u001b[0m \u001b[0;34m=\u001b[0m \u001b[0mconstraint\u001b[0m\u001b[0;34m[\u001b[0m\u001b[0;34m'condition'\u001b[0m\u001b[0;34m]\u001b[0m\u001b[0;34m[\u001b[0m\u001b[0;34m-\u001b[0m\u001b[0;36m1\u001b[0m\u001b[0;34m]\u001b[0m  \u001b[0;31m# time condition is always at last position\u001b[0m\u001b[0;34m\u001b[0m\u001b[0;34m\u001b[0m\u001b[0m\n\u001b[1;32m     41\u001b[0m             \u001b[0;32mtry\u001b[0m\u001b[0;34m:\u001b[0m\u001b[0;34m\u001b[0m\u001b[0;34m\u001b[0m\u001b[0m\n\u001b[0;32m---> 42\u001b[0;31m                 constraint_template_cls = TemplateCheckers().get_template(constraint['template'], trace, True,\n\u001b[0m\u001b[1;32m     43\u001b[0m                                                                           constraint['activities'], rules)\n\u001b[1;32m     44\u001b[0m                 \u001b[0mtrace_results\u001b[0m\u001b[0;34m[\u001b[0m\u001b[0mconstraint_str\u001b[0m\u001b[0;34m]\u001b[0m \u001b[0;34m=\u001b[0m \u001b[0mconstraint_template_cls\u001b[0m\u001b[0;34m.\u001b[0m\u001b[0mget_check_result\u001b[0m\u001b[0;34m(\u001b[0m\u001b[0;34m)\u001b[0m\u001b[0;34m\u001b[0m\u001b[0;34m\u001b[0m\u001b[0m\n",
      "\u001b[0;32m~/PycharmProjects/declare4py-v2.0/src/declare4py/utility/template_checkers/template_checker.py\u001b[0m in \u001b[0;36mget_template\u001b[0;34m(self, template, traces, completed, activities, rules)\u001b[0m\n\u001b[1;32m    739\u001b[0m         \"\"\"\n\u001b[1;32m    740\u001b[0m         \u001b[0mtemplate_checker_name\u001b[0m \u001b[0;34m=\u001b[0m \u001b[0;34mf\"MP{template.templ_str.replace(' ', '')}\"\u001b[0m\u001b[0;34m\u001b[0m\u001b[0;34m\u001b[0m\u001b[0m\n\u001b[0;32m--> 741\u001b[0;31m         \u001b[0mklass\u001b[0m \u001b[0;34m=\u001b[0m \u001b[0mglobals\u001b[0m\u001b[0;34m(\u001b[0m\u001b[0;34m)\u001b[0m\u001b[0;34m[\u001b[0m\u001b[0mtemplate_checker_name\u001b[0m\u001b[0;34m]\u001b[0m\u001b[0;34m\u001b[0m\u001b[0;34m\u001b[0m\u001b[0m\n\u001b[0m\u001b[1;32m    742\u001b[0m         \u001b[0mchecker_instance\u001b[0m\u001b[0;34m:\u001b[0m \u001b[0mTemplateConstraintChecker\u001b[0m \u001b[0;34m=\u001b[0m \u001b[0mklass\u001b[0m\u001b[0;34m(\u001b[0m\u001b[0mtraces\u001b[0m\u001b[0;34m,\u001b[0m \u001b[0mcompleted\u001b[0m\u001b[0;34m,\u001b[0m \u001b[0mactivities\u001b[0m\u001b[0;34m,\u001b[0m \u001b[0mrules\u001b[0m\u001b[0;34m)\u001b[0m\u001b[0;34m\u001b[0m\u001b[0;34m\u001b[0m\u001b[0m\n\u001b[1;32m    743\u001b[0m         \u001b[0;32mreturn\u001b[0m \u001b[0mchecker_instance\u001b[0m\u001b[0;34m\u001b[0m\u001b[0;34m\u001b[0m\u001b[0m\n",
      "\u001b[0;31mKeyError\u001b[0m: 'MPChainResponse'"
     ]
    }
   ],
   "source": [
    "from src.declare4py.pm_tasks.basic_conformance_checking.basic_mp_declare_conformance_checking import BasicMPDeclareConformanceChecking\n",
    "from src.declare4py.pm_tasks.basic_conformance_checking.basic_conformance_checking_results import BasicConformanceCheckingResults\n",
    "\n",
    "basic_checker = BasicMPDeclareConformanceChecking(consider_vacuity=True, log=event_log, declare_model=decl_model)\n",
    "\n",
    "basic_checker.run()"
   ]
  },
  {
   "cell_type": "markdown",
   "id": "36346025",
   "metadata": {},
   "source": [
    "Once the log and the DECLARE model are loaded, the `conformance_checking()` function will perform the model checking. The input boolean parameter `consider_vacuity=true` means that vacuously satisfied traces are considered as satisfied, violated otherwise. This function returns a Python dictionary containing the results indexed by trace in the log. Each key is a tuple containing the trace id and its name (that can be retrieved with `get_trace_keys()`). The value is a Python dictionary with keys the names of the constraints (that can be retrieved with `model_constraints()`) and values a `CheckerResult` object containing the number of pendings, activations, violations, fulfilments and the truth value of the trace for that constraint.\n",
    "\n",
    "```\n",
    "model_check_res = {trace_1: {constr_1: CheckerResult object, constr_2: CheckerResult object, ...},\n",
    "                   trace_2: {constr_1: CheckerResult object, ... },\n",
    "                    ...\n",
    "                  }\n",
    "```\n",
    "The `CheckerResult` objects can be accessed by the attributes `num_pendings`, `num_activations`, `num_fulfillments`, `num_violations` and `state`."
   ]
  },
  {
   "cell_type": "code",
   "execution_count": 5,
   "id": "df54e9a1",
   "metadata": {},
   "outputs": [
    {
     "ename": "NameError",
     "evalue": "name 'd4py' is not defined",
     "output_type": "error",
     "traceback": [
      "\u001b[0;31m---------------------------------------------------------------------------\u001b[0m",
      "\u001b[0;31mNameError\u001b[0m                                 Traceback (most recent call last)",
      "\u001b[0;32m/var/folders/5w/6k152p214xbc6ghcldxtvf2r0000gq/T/ipykernel_54598/2711429178.py\u001b[0m in \u001b[0;36m<module>\u001b[0;34m\u001b[0m\n\u001b[0;32m----> 1\u001b[0;31m \u001b[0mmodel_check_res\u001b[0m \u001b[0;34m=\u001b[0m \u001b[0md4py\u001b[0m\u001b[0;34m.\u001b[0m\u001b[0mconformance_checking\u001b[0m\u001b[0;34m(\u001b[0m\u001b[0mconsider_vacuity\u001b[0m\u001b[0;34m=\u001b[0m\u001b[0;32mFalse\u001b[0m\u001b[0;34m)\u001b[0m\u001b[0;34m\u001b[0m\u001b[0;34m\u001b[0m\u001b[0m\n\u001b[0m",
      "\u001b[0;31mNameError\u001b[0m: name 'd4py' is not defined"
     ]
    }
   ],
   "source": [
    "model_check_res = d4py.conformance_checking(consider_vacuity=False)"
   ]
  },
  {
   "cell_type": "markdown",
   "id": "296bf69e",
   "metadata": {},
   "source": [
    "Let's inspect the results for the trace `(1, 'B')` and the constraint\n",
    "`Chain Response[LacticAcid, Leucocytes] |A.LacticAcid <= 0.8 |T.Leucocytes >= 13.8 |0,2778,m`"
   ]
  },
  {
   "cell_type": "code",
   "execution_count": 6,
   "id": "98078e9e",
   "metadata": {},
   "outputs": [
    {
     "name": "stdout",
     "output_type": "stream",
     "text": [
      "Constraint to check: Chain Response[LacticAcid, Leucocytes] |A.LacticAcid <= 0.8 |T.Leucocytes >= 13.8 |0,2778,m\n",
      "Number of pendings: 0\n",
      "Number of activations: 1\n",
      "Number of fulfilments: 1\n",
      "Number of violation: 0\n",
      "Truth value: Satisfied\n"
     ]
    }
   ],
   "source": [
    "constr_id = 11\n",
    "trace_id = (1, 'B')\n",
    "print(f\"Constraint to check: {model_constraints[constr_id]}\")\n",
    "print(f\"Number of pendings: {model_check_res[trace_id][model_constraints[constr_id]].num_pendings}\")\n",
    "print(f\"Number of activations: {model_check_res[trace_id][model_constraints[constr_id]].num_activations}\")\n",
    "print(f\"Number of fulfilments: {model_check_res[trace_id][model_constraints[constr_id]].num_fulfillments}\")\n",
    "print(f\"Number of violation: {model_check_res[trace_id][model_constraints[constr_id]].num_violations}\")\n",
    "print(f\"Truth value: {model_check_res[trace_id][model_constraints[constr_id]].state}\")"
   ]
  },
  {
   "cell_type": "markdown",
   "id": "246f4ade",
   "metadata": {},
   "source": [
    "The checker results can be printed with the `print_conformance_results` function."
   ]
  },
  {
   "cell_type": "code",
   "execution_count": null,
   "id": "af7383bd",
   "metadata": {},
   "outputs": [],
   "source": []
  }
 ],
 "metadata": {
  "kernelspec": {
   "display_name": "Python 3 (ipykernel)",
   "language": "python",
   "name": "python3"
  },
  "language_info": {
   "codemirror_mode": {
    "name": "ipython",
    "version": 3
   },
   "file_extension": ".py",
   "mimetype": "text/x-python",
   "name": "python",
   "nbconvert_exporter": "python",
   "pygments_lexer": "ipython3",
   "version": "3.9.7"
  }
 },
 "nbformat": 4,
 "nbformat_minor": 5
}
